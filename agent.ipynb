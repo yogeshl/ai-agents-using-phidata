{
 "cells": [
  {
   "cell_type": "code",
   "execution_count": 8,
   "metadata": {},
   "outputs": [],
   "source": [
    "from phi.agent import Agent;\n",
    "from phi.model.openai import OpenAIChat\n",
    "from phi.utils.pprint import pprint_run_response"
   ]
  },
  {
   "cell_type": "code",
   "execution_count": 2,
   "metadata": {},
   "outputs": [],
   "source": [
    "from phi.tools.yfinance import YFinanceTools"
   ]
  },
  {
   "cell_type": "code",
   "execution_count": 4,
   "metadata": {},
   "outputs": [
    {
     "data": {
      "text/plain": [
       "True"
      ]
     },
     "execution_count": 4,
     "metadata": {},
     "output_type": "execute_result"
    }
   ],
   "source": [
    "from dotenv import load_dotenv\n",
    "load_dotenv()"
   ]
  },
  {
   "cell_type": "code",
   "execution_count": 10,
   "metadata": {},
   "outputs": [
    {
     "data": {
      "text/html": [
       "<pre style=\"white-space:pre;overflow-x:auto;line-height:normal;font-family:Menlo,'DejaVu Sans Mono',consolas,'Courier New',monospace\"><span style=\"color: #008000; text-decoration-color: #008000\">DEBUG   </span> Debug logs enabled                                                                                        \n",
       "</pre>\n"
      ],
      "text/plain": [
       "\u001b[32mDEBUG   \u001b[0m Debug logs enabled                                                                                        \n"
      ]
     },
     "metadata": {},
     "output_type": "display_data"
    }
   ],
   "source": [
    "agent = Agent(\n",
    "    model = OpenAIChat(id=\"gpt-4o\"),\n",
    "    tools=[\n",
    "        YFinanceTools(stock_price=True, analyst_recommendations=True,stock_fundamentals=True,key_financial_ratios=True),\n",
    "    ],\n",
    "\n",
    "    markdown=True,\n",
    "    instructions=[\n",
    "        \"Use tables to display data\"\n",
    "    ],\n",
    "    show_tool_calls=True,\n",
    "    debug_mode=True\n",
    "\n",
    ")"
   ]
  },
  {
   "cell_type": "code",
   "execution_count": 11,
   "metadata": {},
   "outputs": [
    {
     "data": {
      "text/html": [
       "<pre style=\"white-space:pre;overflow-x:auto;line-height:normal;font-family:Menlo,'DejaVu Sans Mono',consolas,'Courier New',monospace\"><span style=\"color: #008000; text-decoration-color: #008000\">DEBUG   </span> *********** Agent Run Start: <span style=\"color: #ffff00; text-decoration-color: #ffff00\">65caf93c-83c5-442d-b779-97fcf74f4d99</span> ***********                             \n",
       "</pre>\n"
      ],
      "text/plain": [
       "\u001b[32mDEBUG   \u001b[0m *********** Agent Run Start: \u001b[93m65caf93c-83c5-442d-b779-97fcf74f4d99\u001b[0m ***********                             \n"
      ]
     },
     "metadata": {},
     "output_type": "display_data"
    },
    {
     "data": {
      "text/html": [
       "<pre style=\"white-space:pre;overflow-x:auto;line-height:normal;font-family:Menlo,'DejaVu Sans Mono',consolas,'Courier New',monospace\"><span style=\"color: #008000; text-decoration-color: #008000\">DEBUG   </span> Function get_current_stock_price from yfinance_tools added to model.                                      \n",
       "</pre>\n"
      ],
      "text/plain": [
       "\u001b[32mDEBUG   \u001b[0m Function get_current_stock_price from yfinance_tools added to model.                                      \n"
      ]
     },
     "metadata": {},
     "output_type": "display_data"
    },
    {
     "data": {
      "text/html": [
       "<pre style=\"white-space:pre;overflow-x:auto;line-height:normal;font-family:Menlo,'DejaVu Sans Mono',consolas,'Courier New',monospace\"><span style=\"color: #008000; text-decoration-color: #008000\">DEBUG   </span> Function get_stock_fundamentals from yfinance_tools added to model.                                       \n",
       "</pre>\n"
      ],
      "text/plain": [
       "\u001b[32mDEBUG   \u001b[0m Function get_stock_fundamentals from yfinance_tools added to model.                                       \n"
      ]
     },
     "metadata": {},
     "output_type": "display_data"
    },
    {
     "data": {
      "text/html": [
       "<pre style=\"white-space:pre;overflow-x:auto;line-height:normal;font-family:Menlo,'DejaVu Sans Mono',consolas,'Courier New',monospace\"><span style=\"color: #008000; text-decoration-color: #008000\">DEBUG   </span> Function get_key_financial_ratios from yfinance_tools added to model.                                     \n",
       "</pre>\n"
      ],
      "text/plain": [
       "\u001b[32mDEBUG   \u001b[0m Function get_key_financial_ratios from yfinance_tools added to model.                                     \n"
      ]
     },
     "metadata": {},
     "output_type": "display_data"
    },
    {
     "data": {
      "text/html": [
       "<pre style=\"white-space:pre;overflow-x:auto;line-height:normal;font-family:Menlo,'DejaVu Sans Mono',consolas,'Courier New',monospace\"><span style=\"color: #008000; text-decoration-color: #008000\">DEBUG   </span> Function get_analyst_recommendations from yfinance_tools added to model.                                  \n",
       "</pre>\n"
      ],
      "text/plain": [
       "\u001b[32mDEBUG   \u001b[0m Function get_analyst_recommendations from yfinance_tools added to model.                                  \n"
      ]
     },
     "metadata": {},
     "output_type": "display_data"
    },
    {
     "data": {
      "text/html": [
       "<pre style=\"white-space:pre;overflow-x:auto;line-height:normal;font-family:Menlo,'DejaVu Sans Mono',consolas,'Courier New',monospace\"><span style=\"color: #008000; text-decoration-color: #008000\">DEBUG   </span> ---------- OpenAI Response Start ----------                                                               \n",
       "</pre>\n"
      ],
      "text/plain": [
       "\u001b[32mDEBUG   \u001b[0m ---------- OpenAI Response Start ----------                                                               \n"
      ]
     },
     "metadata": {},
     "output_type": "display_data"
    },
    {
     "data": {
      "text/html": [
       "<pre style=\"white-space:pre;overflow-x:auto;line-height:normal;font-family:Menlo,'DejaVu Sans Mono',consolas,'Courier New',monospace\"><span style=\"color: #008000; text-decoration-color: #008000\">DEBUG   </span> ============== system ==============                                                                      \n",
       "</pre>\n"
      ],
      "text/plain": [
       "\u001b[32mDEBUG   \u001b[0m ============== system ==============                                                                      \n"
      ]
     },
     "metadata": {},
     "output_type": "display_data"
    },
    {
     "data": {
      "text/html": [
       "<pre style=\"white-space:pre;overflow-x:auto;line-height:normal;font-family:Menlo,'DejaVu Sans Mono',consolas,'Courier New',monospace\"><span style=\"color: #008000; text-decoration-color: #008000\">DEBUG   </span> ## Instructions                                                                                           \n",
       "         - Use tables to display data                                                                              \n",
       "         - Use markdown to format your answers.                                                                    \n",
       "</pre>\n"
      ],
      "text/plain": [
       "\u001b[32mDEBUG   \u001b[0m ## Instructions                                                                                           \n",
       "         - Use tables to display data                                                                              \n",
       "         - Use markdown to format your answers.                                                                    \n"
      ]
     },
     "metadata": {},
     "output_type": "display_data"
    },
    {
     "data": {
      "text/html": [
       "<pre style=\"white-space:pre;overflow-x:auto;line-height:normal;font-family:Menlo,'DejaVu Sans Mono',consolas,'Courier New',monospace\"><span style=\"color: #008000; text-decoration-color: #008000\">DEBUG   </span> ============== user ==============                                                                        \n",
       "</pre>\n"
      ],
      "text/plain": [
       "\u001b[32mDEBUG   \u001b[0m ============== user ==============                                                                        \n"
      ]
     },
     "metadata": {},
     "output_type": "display_data"
    },
    {
     "data": {
      "text/html": [
       "<pre style=\"white-space:pre;overflow-x:auto;line-height:normal;font-family:Menlo,'DejaVu Sans Mono',consolas,'Courier New',monospace\"><span style=\"color: #008000; text-decoration-color: #008000\">DEBUG   </span> Summarize and compare analyst recommendations, financial ratios and fundamentals for TSLA and GOOGL and   \n",
       "         recommend which one is good to buy.                                                                       \n",
       "</pre>\n"
      ],
      "text/plain": [
       "\u001b[32mDEBUG   \u001b[0m Summarize and compare analyst recommendations, financial ratios and fundamentals for TSLA and GOOGL and   \n",
       "         recommend which one is good to buy.                                                                       \n"
      ]
     },
     "metadata": {},
     "output_type": "display_data"
    },
    {
     "data": {
      "application/vnd.jupyter.widget-view+json": {
       "model_id": "39f145ee1c8640b6b546bd73468b476b",
       "version_major": 2,
       "version_minor": 0
      },
      "text/plain": [
       "Output()"
      ]
     },
     "metadata": {},
     "output_type": "display_data"
    },
    {
     "data": {
      "text/html": [
       "<pre style=\"white-space:pre;overflow-x:auto;line-height:normal;font-family:Menlo,'DejaVu Sans Mono',consolas,'Courier New',monospace\"><span style=\"color: #008000; text-decoration-color: #008000\">DEBUG   </span> ============== assistant ==============                                                                   \n",
       "</pre>\n"
      ],
      "text/plain": [
       "\u001b[32mDEBUG   \u001b[0m ============== assistant ==============                                                                   \n"
      ]
     },
     "metadata": {},
     "output_type": "display_data"
    },
    {
     "data": {
      "text/html": [
       "<pre style=\"white-space:pre;overflow-x:auto;line-height:normal;font-family:Menlo,'DejaVu Sans Mono',consolas,'Courier New',monospace\"><span style=\"color: #008000; text-decoration-color: #008000\">DEBUG   </span> Tool Calls: <span style=\"font-weight: bold\">[</span>                                                                                             \n",
       "           <span style=\"font-weight: bold\">{</span>                                                                                                       \n",
       "             <span style=\"color: #008000; text-decoration-color: #008000\">\"id\"</span>: <span style=\"color: #008000; text-decoration-color: #008000\">\"call_zrx4nPZPA9BnLnTGFadApdr3\"</span>,                                                                \n",
       "             <span style=\"color: #008000; text-decoration-color: #008000\">\"function\"</span>: <span style=\"font-weight: bold\">{</span>                                                                                         \n",
       "               <span style=\"color: #008000; text-decoration-color: #008000\">\"arguments\"</span>: <span style=\"color: #008000; text-decoration-color: #008000\">\"{\\\"symbol\\\": \\\"TSLA\\\"}\"</span>,                                                              \n",
       "               <span style=\"color: #008000; text-decoration-color: #008000\">\"name\"</span>: <span style=\"color: #008000; text-decoration-color: #008000\">\"get_analyst_recommendations\"</span>                                                               \n",
       "             <span style=\"font-weight: bold\">}</span>,                                                                                                    \n",
       "             <span style=\"color: #008000; text-decoration-color: #008000\">\"type\"</span>: <span style=\"color: #008000; text-decoration-color: #008000\">\"function\"</span>                                                                                    \n",
       "           <span style=\"font-weight: bold\">}</span>,                                                                                                      \n",
       "           <span style=\"font-weight: bold\">{</span>                                                                                                       \n",
       "             <span style=\"color: #008000; text-decoration-color: #008000\">\"id\"</span>: <span style=\"color: #008000; text-decoration-color: #008000\">\"call_pF4bTZVN3VTp92W2fm1Wq5ck\"</span>,                                                                \n",
       "             <span style=\"color: #008000; text-decoration-color: #008000\">\"function\"</span>: <span style=\"font-weight: bold\">{</span>                                                                                         \n",
       "               <span style=\"color: #008000; text-decoration-color: #008000\">\"arguments\"</span>: <span style=\"color: #008000; text-decoration-color: #008000\">\"{\\\"symbol\\\": \\\"GOOGL\\\"}\"</span>,                                                             \n",
       "               <span style=\"color: #008000; text-decoration-color: #008000\">\"name\"</span>: <span style=\"color: #008000; text-decoration-color: #008000\">\"get_analyst_recommendations\"</span>                                                               \n",
       "             <span style=\"font-weight: bold\">}</span>,                                                                                                    \n",
       "             <span style=\"color: #008000; text-decoration-color: #008000\">\"type\"</span>: <span style=\"color: #008000; text-decoration-color: #008000\">\"function\"</span>                                                                                    \n",
       "           <span style=\"font-weight: bold\">}</span>,                                                                                                      \n",
       "           <span style=\"font-weight: bold\">{</span>                                                                                                       \n",
       "             <span style=\"color: #008000; text-decoration-color: #008000\">\"id\"</span>: <span style=\"color: #008000; text-decoration-color: #008000\">\"call_DENrRB8MhiebVsKEwwMBpILu\"</span>,                                                                \n",
       "             <span style=\"color: #008000; text-decoration-color: #008000\">\"function\"</span>: <span style=\"font-weight: bold\">{</span>                                                                                         \n",
       "               <span style=\"color: #008000; text-decoration-color: #008000\">\"arguments\"</span>: <span style=\"color: #008000; text-decoration-color: #008000\">\"{\\\"symbol\\\": \\\"TSLA\\\"}\"</span>,                                                              \n",
       "               <span style=\"color: #008000; text-decoration-color: #008000\">\"name\"</span>: <span style=\"color: #008000; text-decoration-color: #008000\">\"get_key_financial_ratios\"</span>                                                                  \n",
       "             <span style=\"font-weight: bold\">}</span>,                                                                                                    \n",
       "             <span style=\"color: #008000; text-decoration-color: #008000\">\"type\"</span>: <span style=\"color: #008000; text-decoration-color: #008000\">\"function\"</span>                                                                                    \n",
       "           <span style=\"font-weight: bold\">}</span>,                                                                                                      \n",
       "           <span style=\"font-weight: bold\">{</span>                                                                                                       \n",
       "             <span style=\"color: #008000; text-decoration-color: #008000\">\"id\"</span>: <span style=\"color: #008000; text-decoration-color: #008000\">\"call_GkjuCrHPUiQ5rPeiqPxnaa7n\"</span>,                                                                \n",
       "             <span style=\"color: #008000; text-decoration-color: #008000\">\"function\"</span>: <span style=\"font-weight: bold\">{</span>                                                                                         \n",
       "               <span style=\"color: #008000; text-decoration-color: #008000\">\"arguments\"</span>: <span style=\"color: #008000; text-decoration-color: #008000\">\"{\\\"symbol\\\": \\\"GOOGL\\\"}\"</span>,                                                             \n",
       "               <span style=\"color: #008000; text-decoration-color: #008000\">\"name\"</span>: <span style=\"color: #008000; text-decoration-color: #008000\">\"get_key_financial_ratios\"</span>                                                                  \n",
       "             <span style=\"font-weight: bold\">}</span>,                                                                                                    \n",
       "             <span style=\"color: #008000; text-decoration-color: #008000\">\"type\"</span>: <span style=\"color: #008000; text-decoration-color: #008000\">\"function\"</span>                                                                                    \n",
       "           <span style=\"font-weight: bold\">}</span>,                                                                                                      \n",
       "           <span style=\"font-weight: bold\">{</span>                                                                                                       \n",
       "             <span style=\"color: #008000; text-decoration-color: #008000\">\"id\"</span>: <span style=\"color: #008000; text-decoration-color: #008000\">\"call_beXBr10K2vVBuh7IuHMZFzzc\"</span>,                                                                \n",
       "             <span style=\"color: #008000; text-decoration-color: #008000\">\"function\"</span>: <span style=\"font-weight: bold\">{</span>                                                                                         \n",
       "               <span style=\"color: #008000; text-decoration-color: #008000\">\"arguments\"</span>: <span style=\"color: #008000; text-decoration-color: #008000\">\"{\\\"symbol\\\": \\\"TSLA\\\"}\"</span>,                                                              \n",
       "               <span style=\"color: #008000; text-decoration-color: #008000\">\"name\"</span>: <span style=\"color: #008000; text-decoration-color: #008000\">\"get_stock_fundamentals\"</span>                                                                    \n",
       "             <span style=\"font-weight: bold\">}</span>,                                                                                                    \n",
       "             <span style=\"color: #008000; text-decoration-color: #008000\">\"type\"</span>: <span style=\"color: #008000; text-decoration-color: #008000\">\"function\"</span>                                                                                    \n",
       "           <span style=\"font-weight: bold\">}</span>,                                                                                                      \n",
       "           <span style=\"font-weight: bold\">{</span>                                                                                                       \n",
       "             <span style=\"color: #008000; text-decoration-color: #008000\">\"id\"</span>: <span style=\"color: #008000; text-decoration-color: #008000\">\"call_qvgO3Vrfod5aBXuMVfMqOnyx\"</span>,                                                                \n",
       "             <span style=\"color: #008000; text-decoration-color: #008000\">\"function\"</span>: <span style=\"font-weight: bold\">{</span>                                                                                         \n",
       "               <span style=\"color: #008000; text-decoration-color: #008000\">\"arguments\"</span>: <span style=\"color: #008000; text-decoration-color: #008000\">\"{\\\"symbol\\\": \\\"GOOGL\\\"}\"</span>,                                                             \n",
       "               <span style=\"color: #008000; text-decoration-color: #008000\">\"name\"</span>: <span style=\"color: #008000; text-decoration-color: #008000\">\"get_stock_fundamentals\"</span>                                                                    \n",
       "             <span style=\"font-weight: bold\">}</span>,                                                                                                    \n",
       "             <span style=\"color: #008000; text-decoration-color: #008000\">\"type\"</span>: <span style=\"color: #008000; text-decoration-color: #008000\">\"function\"</span>                                                                                    \n",
       "           <span style=\"font-weight: bold\">}</span>                                                                                                       \n",
       "         <span style=\"font-weight: bold\">]</span>                                                                                                         \n",
       "</pre>\n"
      ],
      "text/plain": [
       "\u001b[32mDEBUG   \u001b[0m Tool Calls: \u001b[1m[\u001b[0m                                                                                             \n",
       "           \u001b[1m{\u001b[0m                                                                                                       \n",
       "             \u001b[32m\"id\"\u001b[0m: \u001b[32m\"call_zrx4nPZPA9BnLnTGFadApdr3\"\u001b[0m,                                                                \n",
       "             \u001b[32m\"function\"\u001b[0m: \u001b[1m{\u001b[0m                                                                                         \n",
       "               \u001b[32m\"arguments\"\u001b[0m: \u001b[32m\"\u001b[0m\u001b[32m{\u001b[0m\u001b[32m\\\"symbol\\\": \\\"TSLA\\\"\u001b[0m\u001b[32m}\u001b[0m\u001b[32m\"\u001b[0m,                                                              \n",
       "               \u001b[32m\"name\"\u001b[0m: \u001b[32m\"get_analyst_recommendations\"\u001b[0m                                                               \n",
       "             \u001b[1m}\u001b[0m,                                                                                                    \n",
       "             \u001b[32m\"type\"\u001b[0m: \u001b[32m\"function\"\u001b[0m                                                                                    \n",
       "           \u001b[1m}\u001b[0m,                                                                                                      \n",
       "           \u001b[1m{\u001b[0m                                                                                                       \n",
       "             \u001b[32m\"id\"\u001b[0m: \u001b[32m\"call_pF4bTZVN3VTp92W2fm1Wq5ck\"\u001b[0m,                                                                \n",
       "             \u001b[32m\"function\"\u001b[0m: \u001b[1m{\u001b[0m                                                                                         \n",
       "               \u001b[32m\"arguments\"\u001b[0m: \u001b[32m\"\u001b[0m\u001b[32m{\u001b[0m\u001b[32m\\\"symbol\\\": \\\"GOOGL\\\"\u001b[0m\u001b[32m}\u001b[0m\u001b[32m\"\u001b[0m,                                                             \n",
       "               \u001b[32m\"name\"\u001b[0m: \u001b[32m\"get_analyst_recommendations\"\u001b[0m                                                               \n",
       "             \u001b[1m}\u001b[0m,                                                                                                    \n",
       "             \u001b[32m\"type\"\u001b[0m: \u001b[32m\"function\"\u001b[0m                                                                                    \n",
       "           \u001b[1m}\u001b[0m,                                                                                                      \n",
       "           \u001b[1m{\u001b[0m                                                                                                       \n",
       "             \u001b[32m\"id\"\u001b[0m: \u001b[32m\"call_DENrRB8MhiebVsKEwwMBpILu\"\u001b[0m,                                                                \n",
       "             \u001b[32m\"function\"\u001b[0m: \u001b[1m{\u001b[0m                                                                                         \n",
       "               \u001b[32m\"arguments\"\u001b[0m: \u001b[32m\"\u001b[0m\u001b[32m{\u001b[0m\u001b[32m\\\"symbol\\\": \\\"TSLA\\\"\u001b[0m\u001b[32m}\u001b[0m\u001b[32m\"\u001b[0m,                                                              \n",
       "               \u001b[32m\"name\"\u001b[0m: \u001b[32m\"get_key_financial_ratios\"\u001b[0m                                                                  \n",
       "             \u001b[1m}\u001b[0m,                                                                                                    \n",
       "             \u001b[32m\"type\"\u001b[0m: \u001b[32m\"function\"\u001b[0m                                                                                    \n",
       "           \u001b[1m}\u001b[0m,                                                                                                      \n",
       "           \u001b[1m{\u001b[0m                                                                                                       \n",
       "             \u001b[32m\"id\"\u001b[0m: \u001b[32m\"call_GkjuCrHPUiQ5rPeiqPxnaa7n\"\u001b[0m,                                                                \n",
       "             \u001b[32m\"function\"\u001b[0m: \u001b[1m{\u001b[0m                                                                                         \n",
       "               \u001b[32m\"arguments\"\u001b[0m: \u001b[32m\"\u001b[0m\u001b[32m{\u001b[0m\u001b[32m\\\"symbol\\\": \\\"GOOGL\\\"\u001b[0m\u001b[32m}\u001b[0m\u001b[32m\"\u001b[0m,                                                             \n",
       "               \u001b[32m\"name\"\u001b[0m: \u001b[32m\"get_key_financial_ratios\"\u001b[0m                                                                  \n",
       "             \u001b[1m}\u001b[0m,                                                                                                    \n",
       "             \u001b[32m\"type\"\u001b[0m: \u001b[32m\"function\"\u001b[0m                                                                                    \n",
       "           \u001b[1m}\u001b[0m,                                                                                                      \n",
       "           \u001b[1m{\u001b[0m                                                                                                       \n",
       "             \u001b[32m\"id\"\u001b[0m: \u001b[32m\"call_beXBr10K2vVBuh7IuHMZFzzc\"\u001b[0m,                                                                \n",
       "             \u001b[32m\"function\"\u001b[0m: \u001b[1m{\u001b[0m                                                                                         \n",
       "               \u001b[32m\"arguments\"\u001b[0m: \u001b[32m\"\u001b[0m\u001b[32m{\u001b[0m\u001b[32m\\\"symbol\\\": \\\"TSLA\\\"\u001b[0m\u001b[32m}\u001b[0m\u001b[32m\"\u001b[0m,                                                              \n",
       "               \u001b[32m\"name\"\u001b[0m: \u001b[32m\"get_stock_fundamentals\"\u001b[0m                                                                    \n",
       "             \u001b[1m}\u001b[0m,                                                                                                    \n",
       "             \u001b[32m\"type\"\u001b[0m: \u001b[32m\"function\"\u001b[0m                                                                                    \n",
       "           \u001b[1m}\u001b[0m,                                                                                                      \n",
       "           \u001b[1m{\u001b[0m                                                                                                       \n",
       "             \u001b[32m\"id\"\u001b[0m: \u001b[32m\"call_qvgO3Vrfod5aBXuMVfMqOnyx\"\u001b[0m,                                                                \n",
       "             \u001b[32m\"function\"\u001b[0m: \u001b[1m{\u001b[0m                                                                                         \n",
       "               \u001b[32m\"arguments\"\u001b[0m: \u001b[32m\"\u001b[0m\u001b[32m{\u001b[0m\u001b[32m\\\"symbol\\\": \\\"GOOGL\\\"\u001b[0m\u001b[32m}\u001b[0m\u001b[32m\"\u001b[0m,                                                             \n",
       "               \u001b[32m\"name\"\u001b[0m: \u001b[32m\"get_stock_fundamentals\"\u001b[0m                                                                    \n",
       "             \u001b[1m}\u001b[0m,                                                                                                    \n",
       "             \u001b[32m\"type\"\u001b[0m: \u001b[32m\"function\"\u001b[0m                                                                                    \n",
       "           \u001b[1m}\u001b[0m                                                                                                       \n",
       "         \u001b[1m]\u001b[0m                                                                                                         \n"
      ]
     },
     "metadata": {},
     "output_type": "display_data"
    },
    {
     "data": {
      "text/html": [
       "<pre style=\"white-space:pre;overflow-x:auto;line-height:normal;font-family:Menlo,'DejaVu Sans Mono',consolas,'Courier New',monospace\"><span style=\"color: #008000; text-decoration-color: #008000\">DEBUG   </span> **************** METRICS START ****************                                                           \n",
       "</pre>\n"
      ],
      "text/plain": [
       "\u001b[32mDEBUG   \u001b[0m **************** METRICS START ****************                                                           \n"
      ]
     },
     "metadata": {},
     "output_type": "display_data"
    },
    {
     "data": {
      "text/html": [
       "<pre style=\"white-space:pre;overflow-x:auto;line-height:normal;font-family:Menlo,'DejaVu Sans Mono',consolas,'Courier New',monospace\"><span style=\"color: #008000; text-decoration-color: #008000\">DEBUG   </span> * Time to generate response:   <span style=\"color: #008080; text-decoration-color: #008080; font-weight: bold\">2.</span>7980s                                                                    \n",
       "</pre>\n"
      ],
      "text/plain": [
       "\u001b[32mDEBUG   \u001b[0m * Time to generate response:   \u001b[1;36m2.\u001b[0m7980s                                                                    \n"
      ]
     },
     "metadata": {},
     "output_type": "display_data"
    },
    {
     "data": {
      "text/html": [
       "<pre style=\"white-space:pre;overflow-x:auto;line-height:normal;font-family:Menlo,'DejaVu Sans Mono',consolas,'Courier New',monospace\"><span style=\"color: #008000; text-decoration-color: #008000\">DEBUG   </span> * Tokens per second:           <span style=\"color: #008080; text-decoration-color: #008080; font-weight: bold\">48.2496</span> tokens/s                                                           \n",
       "</pre>\n"
      ],
      "text/plain": [
       "\u001b[32mDEBUG   \u001b[0m * Tokens per second:           \u001b[1;36m48.2496\u001b[0m tokens/s                                                           \n"
      ]
     },
     "metadata": {},
     "output_type": "display_data"
    },
    {
     "data": {
      "text/html": [
       "<pre style=\"white-space:pre;overflow-x:auto;line-height:normal;font-family:Menlo,'DejaVu Sans Mono',consolas,'Courier New',monospace\"><span style=\"color: #008000; text-decoration-color: #008000\">DEBUG   </span> * Input tokens:                <span style=\"color: #008080; text-decoration-color: #008080; font-weight: bold\">430</span>                                                                        \n",
       "</pre>\n"
      ],
      "text/plain": [
       "\u001b[32mDEBUG   \u001b[0m * Input tokens:                \u001b[1;36m430\u001b[0m                                                                        \n"
      ]
     },
     "metadata": {},
     "output_type": "display_data"
    },
    {
     "data": {
      "text/html": [
       "<pre style=\"white-space:pre;overflow-x:auto;line-height:normal;font-family:Menlo,'DejaVu Sans Mono',consolas,'Courier New',monospace\"><span style=\"color: #008000; text-decoration-color: #008000\">DEBUG   </span> * Output tokens:               <span style=\"color: #008080; text-decoration-color: #008080; font-weight: bold\">135</span>                                                                        \n",
       "</pre>\n"
      ],
      "text/plain": [
       "\u001b[32mDEBUG   \u001b[0m * Output tokens:               \u001b[1;36m135\u001b[0m                                                                        \n"
      ]
     },
     "metadata": {},
     "output_type": "display_data"
    },
    {
     "data": {
      "text/html": [
       "<pre style=\"white-space:pre;overflow-x:auto;line-height:normal;font-family:Menlo,'DejaVu Sans Mono',consolas,'Courier New',monospace\"><span style=\"color: #008000; text-decoration-color: #008000\">DEBUG   </span> * Total tokens:                <span style=\"color: #008080; text-decoration-color: #008080; font-weight: bold\">565</span>                                                                        \n",
       "</pre>\n"
      ],
      "text/plain": [
       "\u001b[32mDEBUG   \u001b[0m * Total tokens:                \u001b[1;36m565\u001b[0m                                                                        \n"
      ]
     },
     "metadata": {},
     "output_type": "display_data"
    },
    {
     "data": {
      "text/html": [
       "<pre style=\"white-space:pre;overflow-x:auto;line-height:normal;font-family:Menlo,'DejaVu Sans Mono',consolas,'Courier New',monospace\"><span style=\"color: #008000; text-decoration-color: #008000\">DEBUG   </span> * Prompt tokens details:       <span style=\"font-weight: bold\">{</span><span style=\"color: #008000; text-decoration-color: #008000\">'audio_tokens'</span>: <span style=\"color: #008080; text-decoration-color: #008080; font-weight: bold\">0</span>, <span style=\"color: #008000; text-decoration-color: #008000\">'cached_tokens'</span>: <span style=\"color: #008080; text-decoration-color: #008080; font-weight: bold\">0</span><span style=\"font-weight: bold\">}</span>                                    \n",
       "</pre>\n"
      ],
      "text/plain": [
       "\u001b[32mDEBUG   \u001b[0m * Prompt tokens details:       \u001b[1m{\u001b[0m\u001b[32m'audio_tokens'\u001b[0m: \u001b[1;36m0\u001b[0m, \u001b[32m'cached_tokens'\u001b[0m: \u001b[1;36m0\u001b[0m\u001b[1m}\u001b[0m                                    \n"
      ]
     },
     "metadata": {},
     "output_type": "display_data"
    },
    {
     "data": {
      "text/html": [
       "<pre style=\"white-space:pre;overflow-x:auto;line-height:normal;font-family:Menlo,'DejaVu Sans Mono',consolas,'Courier New',monospace\"><span style=\"color: #008000; text-decoration-color: #008000\">DEBUG   </span> * Completion tokens details:   <span style=\"font-weight: bold\">{</span><span style=\"color: #008000; text-decoration-color: #008000\">'accepted_prediction_tokens'</span>: <span style=\"color: #008080; text-decoration-color: #008080; font-weight: bold\">0</span>, <span style=\"color: #008000; text-decoration-color: #008000\">'audio_tokens'</span>: <span style=\"color: #008080; text-decoration-color: #008080; font-weight: bold\">0</span>, <span style=\"color: #008000; text-decoration-color: #008000\">'reasoning_tokens'</span>: <span style=\"color: #008080; text-decoration-color: #008080; font-weight: bold\">0</span>,\n",
       "         <span style=\"color: #008000; text-decoration-color: #008000\">'rejected_prediction_tokens'</span>: <span style=\"color: #008080; text-decoration-color: #008080; font-weight: bold\">0</span><span style=\"font-weight: bold\">}</span>                                                                          \n",
       "</pre>\n"
      ],
      "text/plain": [
       "\u001b[32mDEBUG   \u001b[0m * Completion tokens details:   \u001b[1m{\u001b[0m\u001b[32m'accepted_prediction_tokens'\u001b[0m: \u001b[1;36m0\u001b[0m, \u001b[32m'audio_tokens'\u001b[0m: \u001b[1;36m0\u001b[0m, \u001b[32m'reasoning_tokens'\u001b[0m: \u001b[1;36m0\u001b[0m,\n",
       "         \u001b[32m'rejected_prediction_tokens'\u001b[0m: \u001b[1;36m0\u001b[0m\u001b[1m}\u001b[0m                                                                          \n"
      ]
     },
     "metadata": {},
     "output_type": "display_data"
    },
    {
     "data": {
      "text/html": [
       "<pre style=\"white-space:pre;overflow-x:auto;line-height:normal;font-family:Menlo,'DejaVu Sans Mono',consolas,'Courier New',monospace\"><span style=\"color: #008000; text-decoration-color: #008000\">DEBUG   </span> **************** METRICS END ******************                                                           \n",
       "</pre>\n"
      ],
      "text/plain": [
       "\u001b[32mDEBUG   \u001b[0m **************** METRICS END ******************                                                           \n"
      ]
     },
     "metadata": {},
     "output_type": "display_data"
    },
    {
     "data": {
      "text/html": [
       "<pre style=\"white-space:pre;overflow-x:auto;line-height:normal;font-family:Menlo,'DejaVu Sans Mono',consolas,'Courier New',monospace\"><span style=\"color: #008000; text-decoration-color: #008000\">DEBUG   </span> Getting function get_analyst_recommendations                                                              \n",
       "</pre>\n"
      ],
      "text/plain": [
       "\u001b[32mDEBUG   \u001b[0m Getting function get_analyst_recommendations                                                              \n"
      ]
     },
     "metadata": {},
     "output_type": "display_data"
    },
    {
     "data": {
      "text/html": [
       "<pre style=\"white-space:pre;overflow-x:auto;line-height:normal;font-family:Menlo,'DejaVu Sans Mono',consolas,'Courier New',monospace\"><span style=\"color: #008000; text-decoration-color: #008000\">DEBUG   </span> Getting function get_analyst_recommendations                                                              \n",
       "</pre>\n"
      ],
      "text/plain": [
       "\u001b[32mDEBUG   \u001b[0m Getting function get_analyst_recommendations                                                              \n"
      ]
     },
     "metadata": {},
     "output_type": "display_data"
    },
    {
     "data": {
      "text/html": [
       "<pre style=\"white-space:pre;overflow-x:auto;line-height:normal;font-family:Menlo,'DejaVu Sans Mono',consolas,'Courier New',monospace\"><span style=\"color: #008000; text-decoration-color: #008000\">DEBUG   </span> Getting function get_key_financial_ratios                                                                 \n",
       "</pre>\n"
      ],
      "text/plain": [
       "\u001b[32mDEBUG   \u001b[0m Getting function get_key_financial_ratios                                                                 \n"
      ]
     },
     "metadata": {},
     "output_type": "display_data"
    },
    {
     "data": {
      "text/html": [
       "<pre style=\"white-space:pre;overflow-x:auto;line-height:normal;font-family:Menlo,'DejaVu Sans Mono',consolas,'Courier New',monospace\"><span style=\"color: #008000; text-decoration-color: #008000\">DEBUG   </span> Getting function get_key_financial_ratios                                                                 \n",
       "</pre>\n"
      ],
      "text/plain": [
       "\u001b[32mDEBUG   \u001b[0m Getting function get_key_financial_ratios                                                                 \n"
      ]
     },
     "metadata": {},
     "output_type": "display_data"
    },
    {
     "data": {
      "text/html": [
       "<pre style=\"white-space:pre;overflow-x:auto;line-height:normal;font-family:Menlo,'DejaVu Sans Mono',consolas,'Courier New',monospace\"><span style=\"color: #008000; text-decoration-color: #008000\">DEBUG   </span> Getting function get_stock_fundamentals                                                                   \n",
       "</pre>\n"
      ],
      "text/plain": [
       "\u001b[32mDEBUG   \u001b[0m Getting function get_stock_fundamentals                                                                   \n"
      ]
     },
     "metadata": {},
     "output_type": "display_data"
    },
    {
     "data": {
      "text/html": [
       "<pre style=\"white-space:pre;overflow-x:auto;line-height:normal;font-family:Menlo,'DejaVu Sans Mono',consolas,'Courier New',monospace\"><span style=\"color: #008000; text-decoration-color: #008000\">DEBUG   </span> Getting function get_stock_fundamentals                                                                   \n",
       "</pre>\n"
      ],
      "text/plain": [
       "\u001b[32mDEBUG   \u001b[0m Getting function get_stock_fundamentals                                                                   \n"
      ]
     },
     "metadata": {},
     "output_type": "display_data"
    },
    {
     "data": {
      "text/html": [
       "<pre style=\"white-space:pre;overflow-x:auto;line-height:normal;font-family:Menlo,'DejaVu Sans Mono',consolas,'Courier New',monospace\"><span style=\"color: #008000; text-decoration-color: #008000\">DEBUG   </span> Running: <span style=\"color: #800080; text-decoration-color: #800080; font-weight: bold\">get_analyst_recommendations</span><span style=\"font-weight: bold\">(</span><span style=\"color: #808000; text-decoration-color: #808000\">symbol</span>=<span style=\"color: #800080; text-decoration-color: #800080\">TSLA</span><span style=\"font-weight: bold\">)</span>                                                         \n",
       "</pre>\n"
      ],
      "text/plain": [
       "\u001b[32mDEBUG   \u001b[0m Running: \u001b[1;35mget_analyst_recommendations\u001b[0m\u001b[1m(\u001b[0m\u001b[33msymbol\u001b[0m=\u001b[35mTSLA\u001b[0m\u001b[1m)\u001b[0m                                                         \n"
      ]
     },
     "metadata": {},
     "output_type": "display_data"
    },
    {
     "data": {
      "text/html": [
       "<pre style=\"white-space:pre;overflow-x:auto;line-height:normal;font-family:Menlo,'DejaVu Sans Mono',consolas,'Courier New',monospace\"><span style=\"color: #008000; text-decoration-color: #008000\">DEBUG   </span> Running: <span style=\"color: #800080; text-decoration-color: #800080; font-weight: bold\">get_analyst_recommendations</span><span style=\"font-weight: bold\">(</span><span style=\"color: #808000; text-decoration-color: #808000\">symbol</span>=<span style=\"color: #800080; text-decoration-color: #800080\">GOOGL</span><span style=\"font-weight: bold\">)</span>                                                        \n",
       "</pre>\n"
      ],
      "text/plain": [
       "\u001b[32mDEBUG   \u001b[0m Running: \u001b[1;35mget_analyst_recommendations\u001b[0m\u001b[1m(\u001b[0m\u001b[33msymbol\u001b[0m=\u001b[35mGOOGL\u001b[0m\u001b[1m)\u001b[0m                                                        \n"
      ]
     },
     "metadata": {},
     "output_type": "display_data"
    },
    {
     "data": {
      "text/html": [
       "<pre style=\"white-space:pre;overflow-x:auto;line-height:normal;font-family:Menlo,'DejaVu Sans Mono',consolas,'Courier New',monospace\"><span style=\"color: #008000; text-decoration-color: #008000\">DEBUG   </span> Running: <span style=\"color: #800080; text-decoration-color: #800080; font-weight: bold\">get_key_financial_ratios</span><span style=\"font-weight: bold\">(</span><span style=\"color: #808000; text-decoration-color: #808000\">symbol</span>=<span style=\"color: #800080; text-decoration-color: #800080\">TSLA</span><span style=\"font-weight: bold\">)</span>                                                            \n",
       "</pre>\n"
      ],
      "text/plain": [
       "\u001b[32mDEBUG   \u001b[0m Running: \u001b[1;35mget_key_financial_ratios\u001b[0m\u001b[1m(\u001b[0m\u001b[33msymbol\u001b[0m=\u001b[35mTSLA\u001b[0m\u001b[1m)\u001b[0m                                                            \n"
      ]
     },
     "metadata": {},
     "output_type": "display_data"
    },
    {
     "data": {
      "text/html": [
       "<pre style=\"white-space:pre;overflow-x:auto;line-height:normal;font-family:Menlo,'DejaVu Sans Mono',consolas,'Courier New',monospace\"><span style=\"color: #008000; text-decoration-color: #008000\">DEBUG   </span> Running: <span style=\"color: #800080; text-decoration-color: #800080; font-weight: bold\">get_key_financial_ratios</span><span style=\"font-weight: bold\">(</span><span style=\"color: #808000; text-decoration-color: #808000\">symbol</span>=<span style=\"color: #800080; text-decoration-color: #800080\">GOOGL</span><span style=\"font-weight: bold\">)</span>                                                           \n",
       "</pre>\n"
      ],
      "text/plain": [
       "\u001b[32mDEBUG   \u001b[0m Running: \u001b[1;35mget_key_financial_ratios\u001b[0m\u001b[1m(\u001b[0m\u001b[33msymbol\u001b[0m=\u001b[35mGOOGL\u001b[0m\u001b[1m)\u001b[0m                                                           \n"
      ]
     },
     "metadata": {},
     "output_type": "display_data"
    },
    {
     "data": {
      "text/html": [
       "<pre style=\"white-space:pre;overflow-x:auto;line-height:normal;font-family:Menlo,'DejaVu Sans Mono',consolas,'Courier New',monospace\"><span style=\"color: #008000; text-decoration-color: #008000\">DEBUG   </span> Running: <span style=\"color: #800080; text-decoration-color: #800080; font-weight: bold\">get_stock_fundamentals</span><span style=\"font-weight: bold\">(</span><span style=\"color: #808000; text-decoration-color: #808000\">symbol</span>=<span style=\"color: #800080; text-decoration-color: #800080\">TSLA</span><span style=\"font-weight: bold\">)</span>                                                              \n",
       "</pre>\n"
      ],
      "text/plain": [
       "\u001b[32mDEBUG   \u001b[0m Running: \u001b[1;35mget_stock_fundamentals\u001b[0m\u001b[1m(\u001b[0m\u001b[33msymbol\u001b[0m=\u001b[35mTSLA\u001b[0m\u001b[1m)\u001b[0m                                                              \n"
      ]
     },
     "metadata": {},
     "output_type": "display_data"
    },
    {
     "data": {
      "text/html": [
       "<pre style=\"white-space:pre;overflow-x:auto;line-height:normal;font-family:Menlo,'DejaVu Sans Mono',consolas,'Courier New',monospace\"><span style=\"color: #008000; text-decoration-color: #008000\">DEBUG   </span> Running: <span style=\"color: #800080; text-decoration-color: #800080; font-weight: bold\">get_stock_fundamentals</span><span style=\"font-weight: bold\">(</span><span style=\"color: #808000; text-decoration-color: #808000\">symbol</span>=<span style=\"color: #800080; text-decoration-color: #800080\">GOOGL</span><span style=\"font-weight: bold\">)</span>                                                             \n",
       "</pre>\n"
      ],
      "text/plain": [
       "\u001b[32mDEBUG   \u001b[0m Running: \u001b[1;35mget_stock_fundamentals\u001b[0m\u001b[1m(\u001b[0m\u001b[33msymbol\u001b[0m=\u001b[35mGOOGL\u001b[0m\u001b[1m)\u001b[0m                                                             \n"
      ]
     },
     "metadata": {},
     "output_type": "display_data"
    },
    {
     "data": {
      "text/html": [
       "<pre style=\"white-space:pre;overflow-x:auto;line-height:normal;font-family:Menlo,'DejaVu Sans Mono',consolas,'Courier New',monospace\"><span style=\"color: #008000; text-decoration-color: #008000\">DEBUG   </span> ---------- OpenAI Response Start ----------                                                               \n",
       "</pre>\n"
      ],
      "text/plain": [
       "\u001b[32mDEBUG   \u001b[0m ---------- OpenAI Response Start ----------                                                               \n"
      ]
     },
     "metadata": {},
     "output_type": "display_data"
    },
    {
     "data": {
      "text/html": [
       "<pre style=\"white-space:pre;overflow-x:auto;line-height:normal;font-family:Menlo,'DejaVu Sans Mono',consolas,'Courier New',monospace\"><span style=\"color: #008000; text-decoration-color: #008000\">DEBUG   </span> ============== system ==============                                                                      \n",
       "</pre>\n"
      ],
      "text/plain": [
       "\u001b[32mDEBUG   \u001b[0m ============== system ==============                                                                      \n"
      ]
     },
     "metadata": {},
     "output_type": "display_data"
    },
    {
     "data": {
      "text/html": [
       "<pre style=\"white-space:pre;overflow-x:auto;line-height:normal;font-family:Menlo,'DejaVu Sans Mono',consolas,'Courier New',monospace\"><span style=\"color: #008000; text-decoration-color: #008000\">DEBUG   </span> ## Instructions                                                                                           \n",
       "         - Use tables to display data                                                                              \n",
       "         - Use markdown to format your answers.                                                                    \n",
       "</pre>\n"
      ],
      "text/plain": [
       "\u001b[32mDEBUG   \u001b[0m ## Instructions                                                                                           \n",
       "         - Use tables to display data                                                                              \n",
       "         - Use markdown to format your answers.                                                                    \n"
      ]
     },
     "metadata": {},
     "output_type": "display_data"
    },
    {
     "data": {
      "text/html": [
       "<pre style=\"white-space:pre;overflow-x:auto;line-height:normal;font-family:Menlo,'DejaVu Sans Mono',consolas,'Courier New',monospace\"><span style=\"color: #008000; text-decoration-color: #008000\">DEBUG   </span> ============== user ==============                                                                        \n",
       "</pre>\n"
      ],
      "text/plain": [
       "\u001b[32mDEBUG   \u001b[0m ============== user ==============                                                                        \n"
      ]
     },
     "metadata": {},
     "output_type": "display_data"
    },
    {
     "data": {
      "text/html": [
       "<pre style=\"white-space:pre;overflow-x:auto;line-height:normal;font-family:Menlo,'DejaVu Sans Mono',consolas,'Courier New',monospace\"><span style=\"color: #008000; text-decoration-color: #008000\">DEBUG   </span> Summarize and compare analyst recommendations, financial ratios and fundamentals for TSLA and GOOGL and   \n",
       "         recommend which one is good to buy.                                                                       \n",
       "</pre>\n"
      ],
      "text/plain": [
       "\u001b[32mDEBUG   \u001b[0m Summarize and compare analyst recommendations, financial ratios and fundamentals for TSLA and GOOGL and   \n",
       "         recommend which one is good to buy.                                                                       \n"
      ]
     },
     "metadata": {},
     "output_type": "display_data"
    },
    {
     "data": {
      "text/html": [
       "<pre style=\"white-space:pre;overflow-x:auto;line-height:normal;font-family:Menlo,'DejaVu Sans Mono',consolas,'Courier New',monospace\"><span style=\"color: #008000; text-decoration-color: #008000\">DEBUG   </span> ============== assistant ==============                                                                   \n",
       "</pre>\n"
      ],
      "text/plain": [
       "\u001b[32mDEBUG   \u001b[0m ============== assistant ==============                                                                   \n"
      ]
     },
     "metadata": {},
     "output_type": "display_data"
    },
    {
     "data": {
      "text/html": [
       "<pre style=\"white-space:pre;overflow-x:auto;line-height:normal;font-family:Menlo,'DejaVu Sans Mono',consolas,'Courier New',monospace\"><span style=\"color: #008000; text-decoration-color: #008000\">DEBUG   </span> Tool Calls: <span style=\"font-weight: bold\">[</span>                                                                                             \n",
       "           <span style=\"font-weight: bold\">{</span>                                                                                                       \n",
       "             <span style=\"color: #008000; text-decoration-color: #008000\">\"id\"</span>: <span style=\"color: #008000; text-decoration-color: #008000\">\"call_zrx4nPZPA9BnLnTGFadApdr3\"</span>,                                                                \n",
       "             <span style=\"color: #008000; text-decoration-color: #008000\">\"function\"</span>: <span style=\"font-weight: bold\">{</span>                                                                                         \n",
       "               <span style=\"color: #008000; text-decoration-color: #008000\">\"arguments\"</span>: <span style=\"color: #008000; text-decoration-color: #008000\">\"{\\\"symbol\\\": \\\"TSLA\\\"}\"</span>,                                                              \n",
       "               <span style=\"color: #008000; text-decoration-color: #008000\">\"name\"</span>: <span style=\"color: #008000; text-decoration-color: #008000\">\"get_analyst_recommendations\"</span>                                                               \n",
       "             <span style=\"font-weight: bold\">}</span>,                                                                                                    \n",
       "             <span style=\"color: #008000; text-decoration-color: #008000\">\"type\"</span>: <span style=\"color: #008000; text-decoration-color: #008000\">\"function\"</span>                                                                                    \n",
       "           <span style=\"font-weight: bold\">}</span>,                                                                                                      \n",
       "           <span style=\"font-weight: bold\">{</span>                                                                                                       \n",
       "             <span style=\"color: #008000; text-decoration-color: #008000\">\"id\"</span>: <span style=\"color: #008000; text-decoration-color: #008000\">\"call_pF4bTZVN3VTp92W2fm1Wq5ck\"</span>,                                                                \n",
       "             <span style=\"color: #008000; text-decoration-color: #008000\">\"function\"</span>: <span style=\"font-weight: bold\">{</span>                                                                                         \n",
       "               <span style=\"color: #008000; text-decoration-color: #008000\">\"arguments\"</span>: <span style=\"color: #008000; text-decoration-color: #008000\">\"{\\\"symbol\\\": \\\"GOOGL\\\"}\"</span>,                                                             \n",
       "               <span style=\"color: #008000; text-decoration-color: #008000\">\"name\"</span>: <span style=\"color: #008000; text-decoration-color: #008000\">\"get_analyst_recommendations\"</span>                                                               \n",
       "             <span style=\"font-weight: bold\">}</span>,                                                                                                    \n",
       "             <span style=\"color: #008000; text-decoration-color: #008000\">\"type\"</span>: <span style=\"color: #008000; text-decoration-color: #008000\">\"function\"</span>                                                                                    \n",
       "           <span style=\"font-weight: bold\">}</span>,                                                                                                      \n",
       "           <span style=\"font-weight: bold\">{</span>                                                                                                       \n",
       "             <span style=\"color: #008000; text-decoration-color: #008000\">\"id\"</span>: <span style=\"color: #008000; text-decoration-color: #008000\">\"call_DENrRB8MhiebVsKEwwMBpILu\"</span>,                                                                \n",
       "             <span style=\"color: #008000; text-decoration-color: #008000\">\"function\"</span>: <span style=\"font-weight: bold\">{</span>                                                                                         \n",
       "               <span style=\"color: #008000; text-decoration-color: #008000\">\"arguments\"</span>: <span style=\"color: #008000; text-decoration-color: #008000\">\"{\\\"symbol\\\": \\\"TSLA\\\"}\"</span>,                                                              \n",
       "               <span style=\"color: #008000; text-decoration-color: #008000\">\"name\"</span>: <span style=\"color: #008000; text-decoration-color: #008000\">\"get_key_financial_ratios\"</span>                                                                  \n",
       "             <span style=\"font-weight: bold\">}</span>,                                                                                                    \n",
       "             <span style=\"color: #008000; text-decoration-color: #008000\">\"type\"</span>: <span style=\"color: #008000; text-decoration-color: #008000\">\"function\"</span>                                                                                    \n",
       "           <span style=\"font-weight: bold\">}</span>,                                                                                                      \n",
       "           <span style=\"font-weight: bold\">{</span>                                                                                                       \n",
       "             <span style=\"color: #008000; text-decoration-color: #008000\">\"id\"</span>: <span style=\"color: #008000; text-decoration-color: #008000\">\"call_GkjuCrHPUiQ5rPeiqPxnaa7n\"</span>,                                                                \n",
       "             <span style=\"color: #008000; text-decoration-color: #008000\">\"function\"</span>: <span style=\"font-weight: bold\">{</span>                                                                                         \n",
       "               <span style=\"color: #008000; text-decoration-color: #008000\">\"arguments\"</span>: <span style=\"color: #008000; text-decoration-color: #008000\">\"{\\\"symbol\\\": \\\"GOOGL\\\"}\"</span>,                                                             \n",
       "               <span style=\"color: #008000; text-decoration-color: #008000\">\"name\"</span>: <span style=\"color: #008000; text-decoration-color: #008000\">\"get_key_financial_ratios\"</span>                                                                  \n",
       "             <span style=\"font-weight: bold\">}</span>,                                                                                                    \n",
       "             <span style=\"color: #008000; text-decoration-color: #008000\">\"type\"</span>: <span style=\"color: #008000; text-decoration-color: #008000\">\"function\"</span>                                                                                    \n",
       "           <span style=\"font-weight: bold\">}</span>,                                                                                                      \n",
       "           <span style=\"font-weight: bold\">{</span>                                                                                                       \n",
       "             <span style=\"color: #008000; text-decoration-color: #008000\">\"id\"</span>: <span style=\"color: #008000; text-decoration-color: #008000\">\"call_beXBr10K2vVBuh7IuHMZFzzc\"</span>,                                                                \n",
       "             <span style=\"color: #008000; text-decoration-color: #008000\">\"function\"</span>: <span style=\"font-weight: bold\">{</span>                                                                                         \n",
       "               <span style=\"color: #008000; text-decoration-color: #008000\">\"arguments\"</span>: <span style=\"color: #008000; text-decoration-color: #008000\">\"{\\\"symbol\\\": \\\"TSLA\\\"}\"</span>,                                                              \n",
       "               <span style=\"color: #008000; text-decoration-color: #008000\">\"name\"</span>: <span style=\"color: #008000; text-decoration-color: #008000\">\"get_stock_fundamentals\"</span>                                                                    \n",
       "             <span style=\"font-weight: bold\">}</span>,                                                                                                    \n",
       "             <span style=\"color: #008000; text-decoration-color: #008000\">\"type\"</span>: <span style=\"color: #008000; text-decoration-color: #008000\">\"function\"</span>                                                                                    \n",
       "           <span style=\"font-weight: bold\">}</span>,                                                                                                      \n",
       "           <span style=\"font-weight: bold\">{</span>                                                                                                       \n",
       "             <span style=\"color: #008000; text-decoration-color: #008000\">\"id\"</span>: <span style=\"color: #008000; text-decoration-color: #008000\">\"call_qvgO3Vrfod5aBXuMVfMqOnyx\"</span>,                                                                \n",
       "             <span style=\"color: #008000; text-decoration-color: #008000\">\"function\"</span>: <span style=\"font-weight: bold\">{</span>                                                                                         \n",
       "               <span style=\"color: #008000; text-decoration-color: #008000\">\"arguments\"</span>: <span style=\"color: #008000; text-decoration-color: #008000\">\"{\\\"symbol\\\": \\\"GOOGL\\\"}\"</span>,                                                             \n",
       "               <span style=\"color: #008000; text-decoration-color: #008000\">\"name\"</span>: <span style=\"color: #008000; text-decoration-color: #008000\">\"get_stock_fundamentals\"</span>                                                                    \n",
       "             <span style=\"font-weight: bold\">}</span>,                                                                                                    \n",
       "             <span style=\"color: #008000; text-decoration-color: #008000\">\"type\"</span>: <span style=\"color: #008000; text-decoration-color: #008000\">\"function\"</span>                                                                                    \n",
       "           <span style=\"font-weight: bold\">}</span>                                                                                                       \n",
       "         <span style=\"font-weight: bold\">]</span>                                                                                                         \n",
       "</pre>\n"
      ],
      "text/plain": [
       "\u001b[32mDEBUG   \u001b[0m Tool Calls: \u001b[1m[\u001b[0m                                                                                             \n",
       "           \u001b[1m{\u001b[0m                                                                                                       \n",
       "             \u001b[32m\"id\"\u001b[0m: \u001b[32m\"call_zrx4nPZPA9BnLnTGFadApdr3\"\u001b[0m,                                                                \n",
       "             \u001b[32m\"function\"\u001b[0m: \u001b[1m{\u001b[0m                                                                                         \n",
       "               \u001b[32m\"arguments\"\u001b[0m: \u001b[32m\"\u001b[0m\u001b[32m{\u001b[0m\u001b[32m\\\"symbol\\\": \\\"TSLA\\\"\u001b[0m\u001b[32m}\u001b[0m\u001b[32m\"\u001b[0m,                                                              \n",
       "               \u001b[32m\"name\"\u001b[0m: \u001b[32m\"get_analyst_recommendations\"\u001b[0m                                                               \n",
       "             \u001b[1m}\u001b[0m,                                                                                                    \n",
       "             \u001b[32m\"type\"\u001b[0m: \u001b[32m\"function\"\u001b[0m                                                                                    \n",
       "           \u001b[1m}\u001b[0m,                                                                                                      \n",
       "           \u001b[1m{\u001b[0m                                                                                                       \n",
       "             \u001b[32m\"id\"\u001b[0m: \u001b[32m\"call_pF4bTZVN3VTp92W2fm1Wq5ck\"\u001b[0m,                                                                \n",
       "             \u001b[32m\"function\"\u001b[0m: \u001b[1m{\u001b[0m                                                                                         \n",
       "               \u001b[32m\"arguments\"\u001b[0m: \u001b[32m\"\u001b[0m\u001b[32m{\u001b[0m\u001b[32m\\\"symbol\\\": \\\"GOOGL\\\"\u001b[0m\u001b[32m}\u001b[0m\u001b[32m\"\u001b[0m,                                                             \n",
       "               \u001b[32m\"name\"\u001b[0m: \u001b[32m\"get_analyst_recommendations\"\u001b[0m                                                               \n",
       "             \u001b[1m}\u001b[0m,                                                                                                    \n",
       "             \u001b[32m\"type\"\u001b[0m: \u001b[32m\"function\"\u001b[0m                                                                                    \n",
       "           \u001b[1m}\u001b[0m,                                                                                                      \n",
       "           \u001b[1m{\u001b[0m                                                                                                       \n",
       "             \u001b[32m\"id\"\u001b[0m: \u001b[32m\"call_DENrRB8MhiebVsKEwwMBpILu\"\u001b[0m,                                                                \n",
       "             \u001b[32m\"function\"\u001b[0m: \u001b[1m{\u001b[0m                                                                                         \n",
       "               \u001b[32m\"arguments\"\u001b[0m: \u001b[32m\"\u001b[0m\u001b[32m{\u001b[0m\u001b[32m\\\"symbol\\\": \\\"TSLA\\\"\u001b[0m\u001b[32m}\u001b[0m\u001b[32m\"\u001b[0m,                                                              \n",
       "               \u001b[32m\"name\"\u001b[0m: \u001b[32m\"get_key_financial_ratios\"\u001b[0m                                                                  \n",
       "             \u001b[1m}\u001b[0m,                                                                                                    \n",
       "             \u001b[32m\"type\"\u001b[0m: \u001b[32m\"function\"\u001b[0m                                                                                    \n",
       "           \u001b[1m}\u001b[0m,                                                                                                      \n",
       "           \u001b[1m{\u001b[0m                                                                                                       \n",
       "             \u001b[32m\"id\"\u001b[0m: \u001b[32m\"call_GkjuCrHPUiQ5rPeiqPxnaa7n\"\u001b[0m,                                                                \n",
       "             \u001b[32m\"function\"\u001b[0m: \u001b[1m{\u001b[0m                                                                                         \n",
       "               \u001b[32m\"arguments\"\u001b[0m: \u001b[32m\"\u001b[0m\u001b[32m{\u001b[0m\u001b[32m\\\"symbol\\\": \\\"GOOGL\\\"\u001b[0m\u001b[32m}\u001b[0m\u001b[32m\"\u001b[0m,                                                             \n",
       "               \u001b[32m\"name\"\u001b[0m: \u001b[32m\"get_key_financial_ratios\"\u001b[0m                                                                  \n",
       "             \u001b[1m}\u001b[0m,                                                                                                    \n",
       "             \u001b[32m\"type\"\u001b[0m: \u001b[32m\"function\"\u001b[0m                                                                                    \n",
       "           \u001b[1m}\u001b[0m,                                                                                                      \n",
       "           \u001b[1m{\u001b[0m                                                                                                       \n",
       "             \u001b[32m\"id\"\u001b[0m: \u001b[32m\"call_beXBr10K2vVBuh7IuHMZFzzc\"\u001b[0m,                                                                \n",
       "             \u001b[32m\"function\"\u001b[0m: \u001b[1m{\u001b[0m                                                                                         \n",
       "               \u001b[32m\"arguments\"\u001b[0m: \u001b[32m\"\u001b[0m\u001b[32m{\u001b[0m\u001b[32m\\\"symbol\\\": \\\"TSLA\\\"\u001b[0m\u001b[32m}\u001b[0m\u001b[32m\"\u001b[0m,                                                              \n",
       "               \u001b[32m\"name\"\u001b[0m: \u001b[32m\"get_stock_fundamentals\"\u001b[0m                                                                    \n",
       "             \u001b[1m}\u001b[0m,                                                                                                    \n",
       "             \u001b[32m\"type\"\u001b[0m: \u001b[32m\"function\"\u001b[0m                                                                                    \n",
       "           \u001b[1m}\u001b[0m,                                                                                                      \n",
       "           \u001b[1m{\u001b[0m                                                                                                       \n",
       "             \u001b[32m\"id\"\u001b[0m: \u001b[32m\"call_qvgO3Vrfod5aBXuMVfMqOnyx\"\u001b[0m,                                                                \n",
       "             \u001b[32m\"function\"\u001b[0m: \u001b[1m{\u001b[0m                                                                                         \n",
       "               \u001b[32m\"arguments\"\u001b[0m: \u001b[32m\"\u001b[0m\u001b[32m{\u001b[0m\u001b[32m\\\"symbol\\\": \\\"GOOGL\\\"\u001b[0m\u001b[32m}\u001b[0m\u001b[32m\"\u001b[0m,                                                             \n",
       "               \u001b[32m\"name\"\u001b[0m: \u001b[32m\"get_stock_fundamentals\"\u001b[0m                                                                    \n",
       "             \u001b[1m}\u001b[0m,                                                                                                    \n",
       "             \u001b[32m\"type\"\u001b[0m: \u001b[32m\"function\"\u001b[0m                                                                                    \n",
       "           \u001b[1m}\u001b[0m                                                                                                       \n",
       "         \u001b[1m]\u001b[0m                                                                                                         \n"
      ]
     },
     "metadata": {},
     "output_type": "display_data"
    },
    {
     "data": {
      "text/html": [
       "<pre style=\"white-space:pre;overflow-x:auto;line-height:normal;font-family:Menlo,'DejaVu Sans Mono',consolas,'Courier New',monospace\"><span style=\"color: #008000; text-decoration-color: #008000\">DEBUG   </span> ============== tool ==============                                                                        \n",
       "</pre>\n"
      ],
      "text/plain": [
       "\u001b[32mDEBUG   \u001b[0m ============== tool ==============                                                                        \n"
      ]
     },
     "metadata": {},
     "output_type": "display_data"
    },
    {
     "data": {
      "text/html": [
       "<pre style=\"white-space:pre;overflow-x:auto;line-height:normal;font-family:Menlo,'DejaVu Sans Mono',consolas,'Courier New',monospace\"><span style=\"color: #008000; text-decoration-color: #008000\">DEBUG   </span> Tool call Id: call_zrx4nPZPA9BnLnTGFadApdr3                                                               \n",
       "</pre>\n"
      ],
      "text/plain": [
       "\u001b[32mDEBUG   \u001b[0m Tool call Id: call_zrx4nPZPA9BnLnTGFadApdr3                                                               \n"
      ]
     },
     "metadata": {},
     "output_type": "display_data"
    },
    {
     "data": {
      "text/html": [
       "<pre style=\"white-space:pre;overflow-x:auto;line-height:normal;font-family:Menlo,'DejaVu Sans Mono',consolas,'Courier New',monospace\"><span style=\"color: #008000; text-decoration-color: #008000\">DEBUG   </span> <span style=\"font-weight: bold\">{</span><span style=\"color: #008000; text-decoration-color: #008000\">\"0\"</span>:<span style=\"font-weight: bold\">{</span><span style=\"color: #008000; text-decoration-color: #008000\">\"period\"</span>:<span style=\"color: #008000; text-decoration-color: #008000\">\"0m\"</span>,<span style=\"color: #008000; text-decoration-color: #008000\">\"strongBuy\"</span>:<span style=\"color: #008080; text-decoration-color: #008080; font-weight: bold\">6</span>,<span style=\"color: #008000; text-decoration-color: #008000\">\"buy\"</span>:<span style=\"color: #008080; text-decoration-color: #008080; font-weight: bold\">13</span>,<span style=\"color: #008000; text-decoration-color: #008000\">\"hold\"</span>:<span style=\"color: #008080; text-decoration-color: #008080; font-weight: bold\">16</span>,<span style=\"color: #008000; text-decoration-color: #008000\">\"sell\"</span>:<span style=\"color: #008080; text-decoration-color: #008080; font-weight: bold\">8</span>,<span style=\"color: #008000; text-decoration-color: #008000\">\"strongSell\"</span>:<span style=\"color: #008080; text-decoration-color: #008080; font-weight: bold\">5</span><span style=\"font-weight: bold\">}</span>,<span style=\"color: #008000; text-decoration-color: #008000\">\"1\"</span>:<span style=\"font-weight: bold\">{</span><span style=\"color: #008000; text-decoration-color: #008000\">\"period\"</span>:<span style=\"color: #008000; text-decoration-color: #008000\">\"-1m\"</span>,<span style=\"color: #008000; text-decoration-color: #008000\">\"strongB</span>\n",
       "         <span style=\"color: #008000; text-decoration-color: #008000\">uy\"</span>:<span style=\"color: #008080; text-decoration-color: #008080; font-weight: bold\">5</span>,<span style=\"color: #008000; text-decoration-color: #008000\">\"buy\"</span>:<span style=\"color: #008080; text-decoration-color: #008080; font-weight: bold\">13</span>,<span style=\"color: #008000; text-decoration-color: #008000\">\"hold\"</span>:<span style=\"color: #008080; text-decoration-color: #008080; font-weight: bold\">17</span>,<span style=\"color: #008000; text-decoration-color: #008000\">\"sell\"</span>:<span style=\"color: #008080; text-decoration-color: #008080; font-weight: bold\">8</span>,<span style=\"color: #008000; text-decoration-color: #008000\">\"strongSell\"</span>:<span style=\"color: #008080; text-decoration-color: #008080; font-weight: bold\">5</span><span style=\"font-weight: bold\">}</span>,<span style=\"color: #008000; text-decoration-color: #008000\">\"2\"</span>:<span style=\"font-weight: bold\">{</span><span style=\"color: #008000; text-decoration-color: #008000\">\"period\"</span>:<span style=\"color: #008000; text-decoration-color: #008000\">\"-2m\"</span>,<span style=\"color: #008000; text-decoration-color: #008000\">\"strongBuy\"</span>:<span style=\"color: #008080; text-decoration-color: #008080; font-weight: bold\">6</span>,<span style=\"color: #008000; text-decoration-color: #008000\">\"buy\"</span>:<span style=\"color: #008080; text-decoration-color: #008080; font-weight: bold\">12</span>,<span style=\"color: #008000; text-decoration-color: #008000\">\"hold\"</span>:<span style=\"color: #008080; text-decoration-color: #008080; font-weight: bold\">19</span>,<span style=\"color: #008000; text-decoration-color: #008000\">\"se</span>\n",
       "         <span style=\"color: #008000; text-decoration-color: #008000\">ll\"</span>:<span style=\"color: #008080; text-decoration-color: #008080; font-weight: bold\">7</span>,<span style=\"color: #008000; text-decoration-color: #008000\">\"strongSell\"</span>:<span style=\"color: #008080; text-decoration-color: #008080; font-weight: bold\">4</span><span style=\"font-weight: bold\">}</span>,<span style=\"color: #008000; text-decoration-color: #008000\">\"3\"</span>:<span style=\"font-weight: bold\">{</span><span style=\"color: #008000; text-decoration-color: #008000\">\"period\"</span>:<span style=\"color: #008000; text-decoration-color: #008000\">\"-3m\"</span>,<span style=\"color: #008000; text-decoration-color: #008000\">\"strongBuy\"</span>:<span style=\"color: #008080; text-decoration-color: #008080; font-weight: bold\">5</span>,<span style=\"color: #008000; text-decoration-color: #008000\">\"buy\"</span>:<span style=\"color: #008080; text-decoration-color: #008080; font-weight: bold\">13</span>,<span style=\"color: #008000; text-decoration-color: #008000\">\"hold\"</span>:<span style=\"color: #008080; text-decoration-color: #008080; font-weight: bold\">18</span>,<span style=\"color: #008000; text-decoration-color: #008000\">\"sell\"</span>:<span style=\"color: #008080; text-decoration-color: #008080; font-weight: bold\">7</span>,<span style=\"color: #008000; text-decoration-color: #008000\">\"strongSell\"</span>:<span style=\"color: #008080; text-decoration-color: #008080; font-weight: bold\">4</span><span style=\"font-weight: bold\">}}</span>      \n",
       "</pre>\n"
      ],
      "text/plain": [
       "\u001b[32mDEBUG   \u001b[0m \u001b[1m{\u001b[0m\u001b[32m\"0\"\u001b[0m:\u001b[1m{\u001b[0m\u001b[32m\"period\"\u001b[0m:\u001b[32m\"0m\"\u001b[0m,\u001b[32m\"strongBuy\"\u001b[0m:\u001b[1;36m6\u001b[0m,\u001b[32m\"buy\"\u001b[0m:\u001b[1;36m13\u001b[0m,\u001b[32m\"hold\"\u001b[0m:\u001b[1;36m16\u001b[0m,\u001b[32m\"sell\"\u001b[0m:\u001b[1;36m8\u001b[0m,\u001b[32m\"strongSell\"\u001b[0m:\u001b[1;36m5\u001b[0m\u001b[1m}\u001b[0m,\u001b[32m\"1\"\u001b[0m:\u001b[1m{\u001b[0m\u001b[32m\"period\"\u001b[0m:\u001b[32m\"-1m\"\u001b[0m,\u001b[32m\"strongB\u001b[0m\n",
       "         \u001b[32muy\"\u001b[0m:\u001b[1;36m5\u001b[0m,\u001b[32m\"buy\"\u001b[0m:\u001b[1;36m13\u001b[0m,\u001b[32m\"hold\"\u001b[0m:\u001b[1;36m17\u001b[0m,\u001b[32m\"sell\"\u001b[0m:\u001b[1;36m8\u001b[0m,\u001b[32m\"strongSell\"\u001b[0m:\u001b[1;36m5\u001b[0m\u001b[1m}\u001b[0m,\u001b[32m\"2\"\u001b[0m:\u001b[1m{\u001b[0m\u001b[32m\"period\"\u001b[0m:\u001b[32m\"-2m\"\u001b[0m,\u001b[32m\"strongBuy\"\u001b[0m:\u001b[1;36m6\u001b[0m,\u001b[32m\"buy\"\u001b[0m:\u001b[1;36m12\u001b[0m,\u001b[32m\"hold\"\u001b[0m:\u001b[1;36m19\u001b[0m,\u001b[32m\"se\u001b[0m\n",
       "         \u001b[32mll\"\u001b[0m:\u001b[1;36m7\u001b[0m,\u001b[32m\"strongSell\"\u001b[0m:\u001b[1;36m4\u001b[0m\u001b[1m}\u001b[0m,\u001b[32m\"3\"\u001b[0m:\u001b[1m{\u001b[0m\u001b[32m\"period\"\u001b[0m:\u001b[32m\"-3m\"\u001b[0m,\u001b[32m\"strongBuy\"\u001b[0m:\u001b[1;36m5\u001b[0m,\u001b[32m\"buy\"\u001b[0m:\u001b[1;36m13\u001b[0m,\u001b[32m\"hold\"\u001b[0m:\u001b[1;36m18\u001b[0m,\u001b[32m\"sell\"\u001b[0m:\u001b[1;36m7\u001b[0m,\u001b[32m\"strongSell\"\u001b[0m:\u001b[1;36m4\u001b[0m\u001b[1m}\u001b[0m\u001b[1m}\u001b[0m      \n"
      ]
     },
     "metadata": {},
     "output_type": "display_data"
    },
    {
     "data": {
      "text/html": [
       "<pre style=\"white-space:pre;overflow-x:auto;line-height:normal;font-family:Menlo,'DejaVu Sans Mono',consolas,'Courier New',monospace\"><span style=\"color: #008000; text-decoration-color: #008000\">DEBUG   </span> ============== tool ==============                                                                        \n",
       "</pre>\n"
      ],
      "text/plain": [
       "\u001b[32mDEBUG   \u001b[0m ============== tool ==============                                                                        \n"
      ]
     },
     "metadata": {},
     "output_type": "display_data"
    },
    {
     "data": {
      "text/html": [
       "<pre style=\"white-space:pre;overflow-x:auto;line-height:normal;font-family:Menlo,'DejaVu Sans Mono',consolas,'Courier New',monospace\"><span style=\"color: #008000; text-decoration-color: #008000\">DEBUG   </span> Tool call Id: call_pF4bTZVN3VTp92W2fm1Wq5ck                                                               \n",
       "</pre>\n"
      ],
      "text/plain": [
       "\u001b[32mDEBUG   \u001b[0m Tool call Id: call_pF4bTZVN3VTp92W2fm1Wq5ck                                                               \n"
      ]
     },
     "metadata": {},
     "output_type": "display_data"
    },
    {
     "data": {
      "text/html": [
       "<pre style=\"white-space:pre;overflow-x:auto;line-height:normal;font-family:Menlo,'DejaVu Sans Mono',consolas,'Courier New',monospace\"><span style=\"color: #008000; text-decoration-color: #008000\">DEBUG   </span> <span style=\"font-weight: bold\">{</span><span style=\"color: #008000; text-decoration-color: #008000\">\"0\"</span>:<span style=\"font-weight: bold\">{</span><span style=\"color: #008000; text-decoration-color: #008000\">\"period\"</span>:<span style=\"color: #008000; text-decoration-color: #008000\">\"0m\"</span>,<span style=\"color: #008000; text-decoration-color: #008000\">\"strongBuy\"</span>:<span style=\"color: #008080; text-decoration-color: #008080; font-weight: bold\">14</span>,<span style=\"color: #008000; text-decoration-color: #008000\">\"buy\"</span>:<span style=\"color: #008080; text-decoration-color: #008080; font-weight: bold\">37</span>,<span style=\"color: #008000; text-decoration-color: #008000\">\"hold\"</span>:<span style=\"color: #008080; text-decoration-color: #008080; font-weight: bold\">11</span>,<span style=\"color: #008000; text-decoration-color: #008000\">\"sell\"</span>:<span style=\"color: #008080; text-decoration-color: #008080; font-weight: bold\">0</span>,<span style=\"color: #008000; text-decoration-color: #008000\">\"strongSell\"</span>:<span style=\"color: #008080; text-decoration-color: #008080; font-weight: bold\">0</span><span style=\"font-weight: bold\">}</span>,<span style=\"color: #008000; text-decoration-color: #008000\">\"1\"</span>:<span style=\"font-weight: bold\">{</span><span style=\"color: #008000; text-decoration-color: #008000\">\"period\"</span>:<span style=\"color: #008000; text-decoration-color: #008000\">\"-1m\"</span>,<span style=\"color: #008000; text-decoration-color: #008000\">\"strong</span>\n",
       "         <span style=\"color: #008000; text-decoration-color: #008000\">Buy\"</span>:<span style=\"color: #008080; text-decoration-color: #008080; font-weight: bold\">14</span>,<span style=\"color: #008000; text-decoration-color: #008000\">\"buy\"</span>:<span style=\"color: #008080; text-decoration-color: #008080; font-weight: bold\">37</span>,<span style=\"color: #008000; text-decoration-color: #008000\">\"hold\"</span>:<span style=\"color: #008080; text-decoration-color: #008080; font-weight: bold\">11</span>,<span style=\"color: #008000; text-decoration-color: #008000\">\"sell\"</span>:<span style=\"color: #008080; text-decoration-color: #008080; font-weight: bold\">0</span>,<span style=\"color: #008000; text-decoration-color: #008000\">\"strongSell\"</span>:<span style=\"color: #008080; text-decoration-color: #008080; font-weight: bold\">0</span><span style=\"font-weight: bold\">}</span>,<span style=\"color: #008000; text-decoration-color: #008000\">\"2\"</span>:<span style=\"font-weight: bold\">{</span><span style=\"color: #008000; text-decoration-color: #008000\">\"period\"</span>:<span style=\"color: #008000; text-decoration-color: #008000\">\"-2m\"</span>,<span style=\"color: #008000; text-decoration-color: #008000\">\"strongBuy\"</span>:<span style=\"color: #008080; text-decoration-color: #008080; font-weight: bold\">14</span>,<span style=\"color: #008000; text-decoration-color: #008000\">\"buy\"</span>:<span style=\"color: #008080; text-decoration-color: #008080; font-weight: bold\">37</span>,<span style=\"color: #008000; text-decoration-color: #008000\">\"hold\"</span>:<span style=\"color: #008080; text-decoration-color: #008080; font-weight: bold\">11</span>,\n",
       "         <span style=\"color: #008000; text-decoration-color: #008000\">\"sell\"</span>:<span style=\"color: #008080; text-decoration-color: #008080; font-weight: bold\">0</span>,<span style=\"color: #008000; text-decoration-color: #008000\">\"strongSell\"</span>:<span style=\"color: #008080; text-decoration-color: #008080; font-weight: bold\">0</span><span style=\"font-weight: bold\">}</span>,<span style=\"color: #008000; text-decoration-color: #008000\">\"3\"</span>:<span style=\"font-weight: bold\">{</span><span style=\"color: #008000; text-decoration-color: #008000\">\"period\"</span>:<span style=\"color: #008000; text-decoration-color: #008000\">\"-3m\"</span>,<span style=\"color: #008000; text-decoration-color: #008000\">\"strongBuy\"</span>:<span style=\"color: #008080; text-decoration-color: #008080; font-weight: bold\">15</span>,<span style=\"color: #008000; text-decoration-color: #008000\">\"buy\"</span>:<span style=\"color: #008080; text-decoration-color: #008080; font-weight: bold\">34</span>,<span style=\"color: #008000; text-decoration-color: #008000\">\"hold\"</span>:<span style=\"color: #008080; text-decoration-color: #008080; font-weight: bold\">13</span>,<span style=\"color: #008000; text-decoration-color: #008000\">\"sell\"</span>:<span style=\"color: #008080; text-decoration-color: #008080; font-weight: bold\">0</span>,<span style=\"color: #008000; text-decoration-color: #008000\">\"strongSell\"</span>:<span style=\"color: #008080; text-decoration-color: #008080; font-weight: bold\">0</span><span style=\"font-weight: bold\">}}</span>  \n",
       "</pre>\n"
      ],
      "text/plain": [
       "\u001b[32mDEBUG   \u001b[0m \u001b[1m{\u001b[0m\u001b[32m\"0\"\u001b[0m:\u001b[1m{\u001b[0m\u001b[32m\"period\"\u001b[0m:\u001b[32m\"0m\"\u001b[0m,\u001b[32m\"strongBuy\"\u001b[0m:\u001b[1;36m14\u001b[0m,\u001b[32m\"buy\"\u001b[0m:\u001b[1;36m37\u001b[0m,\u001b[32m\"hold\"\u001b[0m:\u001b[1;36m11\u001b[0m,\u001b[32m\"sell\"\u001b[0m:\u001b[1;36m0\u001b[0m,\u001b[32m\"strongSell\"\u001b[0m:\u001b[1;36m0\u001b[0m\u001b[1m}\u001b[0m,\u001b[32m\"1\"\u001b[0m:\u001b[1m{\u001b[0m\u001b[32m\"period\"\u001b[0m:\u001b[32m\"-1m\"\u001b[0m,\u001b[32m\"strong\u001b[0m\n",
       "         \u001b[32mBuy\"\u001b[0m:\u001b[1;36m14\u001b[0m,\u001b[32m\"buy\"\u001b[0m:\u001b[1;36m37\u001b[0m,\u001b[32m\"hold\"\u001b[0m:\u001b[1;36m11\u001b[0m,\u001b[32m\"sell\"\u001b[0m:\u001b[1;36m0\u001b[0m,\u001b[32m\"strongSell\"\u001b[0m:\u001b[1;36m0\u001b[0m\u001b[1m}\u001b[0m,\u001b[32m\"2\"\u001b[0m:\u001b[1m{\u001b[0m\u001b[32m\"period\"\u001b[0m:\u001b[32m\"-2m\"\u001b[0m,\u001b[32m\"strongBuy\"\u001b[0m:\u001b[1;36m14\u001b[0m,\u001b[32m\"buy\"\u001b[0m:\u001b[1;36m37\u001b[0m,\u001b[32m\"hold\"\u001b[0m:\u001b[1;36m11\u001b[0m,\n",
       "         \u001b[32m\"sell\"\u001b[0m:\u001b[1;36m0\u001b[0m,\u001b[32m\"strongSell\"\u001b[0m:\u001b[1;36m0\u001b[0m\u001b[1m}\u001b[0m,\u001b[32m\"3\"\u001b[0m:\u001b[1m{\u001b[0m\u001b[32m\"period\"\u001b[0m:\u001b[32m\"-3m\"\u001b[0m,\u001b[32m\"strongBuy\"\u001b[0m:\u001b[1;36m15\u001b[0m,\u001b[32m\"buy\"\u001b[0m:\u001b[1;36m34\u001b[0m,\u001b[32m\"hold\"\u001b[0m:\u001b[1;36m13\u001b[0m,\u001b[32m\"sell\"\u001b[0m:\u001b[1;36m0\u001b[0m,\u001b[32m\"strongSell\"\u001b[0m:\u001b[1;36m0\u001b[0m\u001b[1m}\u001b[0m\u001b[1m}\u001b[0m  \n"
      ]
     },
     "metadata": {},
     "output_type": "display_data"
    },
    {
     "data": {
      "text/html": [
       "<pre style=\"white-space:pre;overflow-x:auto;line-height:normal;font-family:Menlo,'DejaVu Sans Mono',consolas,'Courier New',monospace\"><span style=\"color: #008000; text-decoration-color: #008000\">DEBUG   </span> ============== tool ==============                                                                        \n",
       "</pre>\n"
      ],
      "text/plain": [
       "\u001b[32mDEBUG   \u001b[0m ============== tool ==============                                                                        \n"
      ]
     },
     "metadata": {},
     "output_type": "display_data"
    },
    {
     "data": {
      "text/html": [
       "<pre style=\"white-space:pre;overflow-x:auto;line-height:normal;font-family:Menlo,'DejaVu Sans Mono',consolas,'Courier New',monospace\"><span style=\"color: #008000; text-decoration-color: #008000\">DEBUG   </span> Tool call Id: call_DENrRB8MhiebVsKEwwMBpILu                                                               \n",
       "</pre>\n"
      ],
      "text/plain": [
       "\u001b[32mDEBUG   \u001b[0m Tool call Id: call_DENrRB8MhiebVsKEwwMBpILu                                                               \n"
      ]
     },
     "metadata": {},
     "output_type": "display_data"
    },
    {
     "data": {
      "text/html": [
       "<pre style=\"white-space:pre;overflow-x:auto;line-height:normal;font-family:Menlo,'DejaVu Sans Mono',consolas,'Courier New',monospace\"><span style=\"color: #008000; text-decoration-color: #008000\">DEBUG   </span> <span style=\"font-weight: bold\">{</span>                                                                                                         \n",
       "           <span style=\"color: #008000; text-decoration-color: #008000\">\"address1\"</span>: <span style=\"color: #008000; text-decoration-color: #008000\">\"1 Tesla Road\"</span>,                                                                             \n",
       "           <span style=\"color: #008000; text-decoration-color: #008000\">\"city\"</span>: <span style=\"color: #008000; text-decoration-color: #008000\">\"Austin\"</span>,                                                                                       \n",
       "           <span style=\"color: #008000; text-decoration-color: #008000\">\"state\"</span>: <span style=\"color: #008000; text-decoration-color: #008000\">\"TX\"</span>,                                                                                          \n",
       "           <span style=\"color: #008000; text-decoration-color: #008000\">\"zip\"</span>: <span style=\"color: #008000; text-decoration-color: #008000\">\"78725\"</span>,                                                                                         \n",
       "           <span style=\"color: #008000; text-decoration-color: #008000\">\"country\"</span>: <span style=\"color: #008000; text-decoration-color: #008000\">\"United States\"</span>,                                                                             \n",
       "           <span style=\"color: #008000; text-decoration-color: #008000\">\"phone\"</span>: <span style=\"color: #008000; text-decoration-color: #008000\">\"512 516 8177\"</span>,                                                                                \n",
       "           <span style=\"color: #008000; text-decoration-color: #008000\">\"website\"</span>: <span style=\"color: #008000; text-decoration-color: #008000\">\"https://www.tesla.com\"</span>,                                                                     \n",
       "           <span style=\"color: #008000; text-decoration-color: #008000\">\"industry\"</span>: <span style=\"color: #008000; text-decoration-color: #008000\">\"Auto Manufacturers\"</span>,                                                                       \n",
       "           <span style=\"color: #008000; text-decoration-color: #008000\">\"industryKey\"</span>: <span style=\"color: #008000; text-decoration-color: #008000\">\"auto-manufacturers\"</span>,                                                                    \n",
       "           <span style=\"color: #008000; text-decoration-color: #008000\">\"industryDisp\"</span>: <span style=\"color: #008000; text-decoration-color: #008000\">\"Auto Manufacturers\"</span>,                                                                   \n",
       "           <span style=\"color: #008000; text-decoration-color: #008000\">\"sector\"</span>: <span style=\"color: #008000; text-decoration-color: #008000\">\"Consumer Cyclical\"</span>,                                                                          \n",
       "           <span style=\"color: #008000; text-decoration-color: #008000\">\"sectorKey\"</span>: <span style=\"color: #008000; text-decoration-color: #008000\">\"consumer-cyclical\"</span>,                                                                       \n",
       "           <span style=\"color: #008000; text-decoration-color: #008000\">\"sectorDisp\"</span>: <span style=\"color: #008000; text-decoration-color: #008000\">\"Consumer Cyclical\"</span>,                                                                      \n",
       "           <span style=\"color: #008000; text-decoration-color: #008000\">\"longBusinessSummary\"</span>: <span style=\"color: #008000; text-decoration-color: #008000\">\"Tesla, Inc. designs, develops, manufactures, leases, and sells electric </span>        \n",
       "         <span style=\"color: #008000; text-decoration-color: #008000\">vehicles, and energy generation and storage systems in the United States, China, and internationally. The </span>\n",
       "         <span style=\"color: #008000; text-decoration-color: #008000\">company operates in two segments, Automotive, and Energy Generation and Storage. The Automotive segment </span>  \n",
       "         <span style=\"color: #008000; text-decoration-color: #008000\">offers electric vehicles, as well as sells automotive regulatory credits; and non-warranty after-sales </span>   \n",
       "         <span style=\"color: #008000; text-decoration-color: #008000\">vehicle, used vehicles, body shop and parts, supercharging, retail merchandise, and vehicle insurance </span>    \n",
       "         <span style=\"color: #008000; text-decoration-color: #008000\">services. This segment also provides sedans and sport utility vehicles through direct and used vehicle </span>   \n",
       "         <span style=\"color: #008000; text-decoration-color: #008000\">sales, a network of Tesla Superchargers, and in-app upgrades; purchase financing and leasing services; </span>   \n",
       "         <span style=\"color: #008000; text-decoration-color: #008000\">services for electric vehicles through its company-owned service locations and Tesla mobile service </span>      \n",
       "         <span style=\"color: #008000; text-decoration-color: #008000\">technicians; and vehicle limited warranties and extended service plans. The Energy Generation and Storage </span>\n",
       "         <span style=\"color: #008000; text-decoration-color: #008000\">segment engages in the design, manufacture, installation, sale, and leasing of solar energy generation and</span>\n",
       "         <span style=\"color: #008000; text-decoration-color: #008000\">energy storage products, and related services to residential, commercial, and industrial customers and </span>   \n",
       "         <span style=\"color: #008000; text-decoration-color: #008000\">utilities through its website, stores, and galleries, as well as through a network of channel partners; </span>  \n",
       "         <span style=\"color: #008000; text-decoration-color: #008000\">and provision of service and repairs to its energy product customers, including under warranty, as well as</span>\n",
       "         <span style=\"color: #008000; text-decoration-color: #008000\">various financing options to its solar customers. The company was formerly known as Tesla Motors, Inc. and</span>\n",
       "         <span style=\"color: #008000; text-decoration-color: #008000\">changed its name to Tesla, Inc. in February 2017. Tesla, Inc. was incorporated in 2003 and is </span>            \n",
       "         <span style=\"color: #008000; text-decoration-color: #008000\">headquartered in Austin, Texas.\"</span>,                                                                         \n",
       "           <span style=\"color: #008000; text-decoration-color: #008000\">\"fullTimeEmployees\"</span>: <span style=\"color: #008080; text-decoration-color: #008080; font-weight: bold\">140473</span>,                                                                            \n",
       "           <span style=\"color: #008000; text-decoration-color: #008000\">\"companyOfficers\"</span>: <span style=\"font-weight: bold\">[</span>                                                                                    \n",
       "             <span style=\"font-weight: bold\">{</span>                                                                                                     \n",
       "               <span style=\"color: #008000; text-decoration-color: #008000\">\"maxAge\"</span>: <span style=\"color: #008080; text-decoration-color: #008080; font-weight: bold\">1</span>,                                                                                        \n",
       "               <span style=\"color: #008000; text-decoration-color: #008000\">\"name\"</span>: <span style=\"color: #008000; text-decoration-color: #008000\">\"Mr. Elon R. Musk\"</span>,                                                                         \n",
       "               <span style=\"color: #008000; text-decoration-color: #008000\">\"age\"</span>: <span style=\"color: #008080; text-decoration-color: #008080; font-weight: bold\">51</span>,                                                                                          \n",
       "               <span style=\"color: #008000; text-decoration-color: #008000\">\"title\"</span>: <span style=\"color: #008000; text-decoration-color: #008000\">\"Co-Founder, Technoking of Tesla, CEO &amp; Director\"</span>,                                         \n",
       "               <span style=\"color: #008000; text-decoration-color: #008000\">\"yearBorn\"</span>: <span style=\"color: #008080; text-decoration-color: #008080; font-weight: bold\">1972</span>,                                                                                   \n",
       "               <span style=\"color: #008000; text-decoration-color: #008000\">\"fiscalYear\"</span>: <span style=\"color: #008080; text-decoration-color: #008080; font-weight: bold\">2023</span>,                                                                                 \n",
       "               <span style=\"color: #008000; text-decoration-color: #008000\">\"exercisedValue\"</span>: <span style=\"color: #008080; text-decoration-color: #008080; font-weight: bold\">0</span>,                                                                                \n",
       "               <span style=\"color: #008000; text-decoration-color: #008000\">\"unexercisedValue\"</span>: <span style=\"color: #008080; text-decoration-color: #008080; font-weight: bold\">0</span>                                                                               \n",
       "             <span style=\"font-weight: bold\">}</span>,                                                                                                    \n",
       "             <span style=\"font-weight: bold\">{</span>                                                                                                     \n",
       "               <span style=\"color: #008000; text-decoration-color: #008000\">\"maxAge\"</span>: <span style=\"color: #008080; text-decoration-color: #008080; font-weight: bold\">1</span>,                                                                                        \n",
       "               <span style=\"color: #008000; text-decoration-color: #008000\">\"name\"</span>: <span style=\"color: #008000; text-decoration-color: #008000\">\"Mr. Vaibhav  Taneja\"</span>,                                                                      \n",
       "               <span style=\"color: #008000; text-decoration-color: #008000\">\"age\"</span>: <span style=\"color: #008080; text-decoration-color: #008080; font-weight: bold\">45</span>,                                                                                          \n",
       "               <span style=\"color: #008000; text-decoration-color: #008000\">\"title\"</span>: <span style=\"color: #008000; text-decoration-color: #008000\">\"Chief Financial Officer\"</span>,                                                                 \n",
       "               <span style=\"color: #008000; text-decoration-color: #008000\">\"yearBorn\"</span>: <span style=\"color: #008080; text-decoration-color: #008080; font-weight: bold\">1978</span>,                                                                                   \n",
       "               <span style=\"color: #008000; text-decoration-color: #008000\">\"fiscalYear\"</span>: <span style=\"color: #008080; text-decoration-color: #008080; font-weight: bold\">2023</span>,                                                                                 \n",
       "               <span style=\"color: #008000; text-decoration-color: #008000\">\"totalPay\"</span>: <span style=\"color: #008080; text-decoration-color: #008080; font-weight: bold\">278000</span>,                                                                                 \n",
       "               <span style=\"color: #008000; text-decoration-color: #008000\">\"exercisedValue\"</span>: <span style=\"color: #008080; text-decoration-color: #008080; font-weight: bold\">8517957</span>,                                                                          \n",
       "               <span style=\"color: #008000; text-decoration-color: #008000\">\"unexercisedValue\"</span>: <span style=\"color: #008080; text-decoration-color: #008080; font-weight: bold\">202075632</span>                                                                       \n",
       "             <span style=\"font-weight: bold\">}</span>,                                                                                                    \n",
       "             <span style=\"font-weight: bold\">{</span>                                                                                                     \n",
       "               <span style=\"color: #008000; text-decoration-color: #008000\">\"maxAge\"</span>: <span style=\"color: #008080; text-decoration-color: #008080; font-weight: bold\">1</span>,                                                                                        \n",
       "               <span style=\"color: #008000; text-decoration-color: #008000\">\"name\"</span>: <span style=\"color: #008000; text-decoration-color: #008000\">\"Mr. Xiaotong  Zhu\"</span>,                                                                        \n",
       "               <span style=\"color: #008000; text-decoration-color: #008000\">\"age\"</span>: <span style=\"color: #008080; text-decoration-color: #008080; font-weight: bold\">43</span>,                                                                                          \n",
       "               <span style=\"color: #008000; text-decoration-color: #008000\">\"title\"</span>: <span style=\"color: #008000; text-decoration-color: #008000\">\"Senior Vice President of Automotive\"</span>,                                                     \n",
       "               <span style=\"color: #008000; text-decoration-color: #008000\">\"yearBorn\"</span>: <span style=\"color: #008080; text-decoration-color: #008080; font-weight: bold\">1980</span>,                                                                                   \n",
       "               <span style=\"color: #008000; text-decoration-color: #008000\">\"fiscalYear\"</span>: <span style=\"color: #008080; text-decoration-color: #008080; font-weight: bold\">2023</span>,                                                                                 \n",
       "               <span style=\"color: #008000; text-decoration-color: #008000\">\"totalPay\"</span>: <span style=\"color: #008080; text-decoration-color: #008080; font-weight: bold\">926877</span>,                                                                                 \n",
       "               <span style=\"color: #008000; text-decoration-color: #008000\">\"exercisedValue\"</span>: <span style=\"color: #008080; text-decoration-color: #008080; font-weight: bold\">0</span>,                                                                                \n",
       "               <span style=\"color: #008000; text-decoration-color: #008000\">\"unexercisedValue\"</span>: <span style=\"color: #008080; text-decoration-color: #008080; font-weight: bold\">344144320</span>                                                                       \n",
       "             <span style=\"font-weight: bold\">}</span>,                                                                                                    \n",
       "             <span style=\"font-weight: bold\">{</span>                                                                                                     \n",
       "               <span style=\"color: #008000; text-decoration-color: #008000\">\"maxAge\"</span>: <span style=\"color: #008080; text-decoration-color: #008080; font-weight: bold\">1</span>,                                                                                        \n",
       "               <span style=\"color: #008000; text-decoration-color: #008000\">\"name\"</span>: <span style=\"color: #008000; text-decoration-color: #008000\">\"Travis  Axelrod\"</span>,                                                                          \n",
       "               <span style=\"color: #008000; text-decoration-color: #008000\">\"title\"</span>: <span style=\"color: #008000; text-decoration-color: #008000\">\"Head of Investor Relations\"</span>,                                                              \n",
       "               <span style=\"color: #008000; text-decoration-color: #008000\">\"fiscalYear\"</span>: <span style=\"color: #008080; text-decoration-color: #008080; font-weight: bold\">2023</span>,                                                                                 \n",
       "               <span style=\"color: #008000; text-decoration-color: #008000\">\"exercisedValue\"</span>: <span style=\"color: #008080; text-decoration-color: #008080; font-weight: bold\">0</span>,                                                                                \n",
       "               <span style=\"color: #008000; text-decoration-color: #008000\">\"unexercisedValue\"</span>: <span style=\"color: #008080; text-decoration-color: #008080; font-weight: bold\">0</span>                                                                               \n",
       "             <span style=\"font-weight: bold\">}</span>,                                                                                                    \n",
       "             <span style=\"font-weight: bold\">{</span>                                                                                                     \n",
       "               <span style=\"color: #008000; text-decoration-color: #008000\">\"maxAge\"</span>: <span style=\"color: #008080; text-decoration-color: #008080; font-weight: bold\">1</span>,                                                                                        \n",
       "               <span style=\"color: #008000; text-decoration-color: #008000\">\"name\"</span>: <span style=\"color: #008000; text-decoration-color: #008000\">\"Brian  Scelfo\"</span>,                                                                            \n",
       "               <span style=\"color: #008000; text-decoration-color: #008000\">\"title\"</span>: <span style=\"color: #008000; text-decoration-color: #008000\">\"Senior Director of Corporate Development\"</span>,                                                \n",
       "               <span style=\"color: #008000; text-decoration-color: #008000\">\"fiscalYear\"</span>: <span style=\"color: #008080; text-decoration-color: #008080; font-weight: bold\">2023</span>,                                                                                 \n",
       "               <span style=\"color: #008000; text-decoration-color: #008000\">\"exercisedValue\"</span>: <span style=\"color: #008080; text-decoration-color: #008080; font-weight: bold\">0</span>,                                                                                \n",
       "               <span style=\"color: #008000; text-decoration-color: #008000\">\"unexercisedValue\"</span>: <span style=\"color: #008080; text-decoration-color: #008080; font-weight: bold\">0</span>                                                                               \n",
       "             <span style=\"font-weight: bold\">}</span>,                                                                                                    \n",
       "             <span style=\"font-weight: bold\">{</span>                                                                                                     \n",
       "               <span style=\"color: #008000; text-decoration-color: #008000\">\"maxAge\"</span>: <span style=\"color: #008080; text-decoration-color: #008080; font-weight: bold\">1</span>,                                                                                        \n",
       "               <span style=\"color: #008000; text-decoration-color: #008000\">\"name\"</span>: <span style=\"color: #008000; text-decoration-color: #008000\">\"Mr. Franz  von Holzhausen\"</span>,                                                                \n",
       "               <span style=\"color: #008000; text-decoration-color: #008000\">\"title\"</span>: <span style=\"color: #008000; text-decoration-color: #008000\">\"Chief Designer\"</span>,                                                                          \n",
       "               <span style=\"color: #008000; text-decoration-color: #008000\">\"fiscalYear\"</span>: <span style=\"color: #008080; text-decoration-color: #008080; font-weight: bold\">2023</span>,                                                                                 \n",
       "               <span style=\"color: #008000; text-decoration-color: #008000\">\"exercisedValue\"</span>: <span style=\"color: #008080; text-decoration-color: #008080; font-weight: bold\">0</span>,                                                                                \n",
       "               <span style=\"color: #008000; text-decoration-color: #008000\">\"unexercisedValue\"</span>: <span style=\"color: #008080; text-decoration-color: #008080; font-weight: bold\">0</span>                                                                               \n",
       "             <span style=\"font-weight: bold\">}</span>,                                                                                                    \n",
       "             <span style=\"font-weight: bold\">{</span>                                                                                                     \n",
       "               <span style=\"color: #008000; text-decoration-color: #008000\">\"maxAge\"</span>: <span style=\"color: #008080; text-decoration-color: #008080; font-weight: bold\">1</span>,                                                                                        \n",
       "               <span style=\"color: #008000; text-decoration-color: #008000\">\"name\"</span>: <span style=\"color: #008000; text-decoration-color: #008000\">\"Mr. John  Walker\"</span>,                                                                         \n",
       "               <span style=\"color: #008000; text-decoration-color: #008000\">\"age\"</span>: <span style=\"color: #008080; text-decoration-color: #008080; font-weight: bold\">60</span>,                                                                                          \n",
       "               <span style=\"color: #008000; text-decoration-color: #008000\">\"title\"</span>: <span style=\"color: #008000; text-decoration-color: #008000\">\"Vice President of Sales - North America\"</span>,                                                 \n",
       "               <span style=\"color: #008000; text-decoration-color: #008000\">\"yearBorn\"</span>: <span style=\"color: #008080; text-decoration-color: #008080; font-weight: bold\">1963</span>,                                                                                   \n",
       "               <span style=\"color: #008000; text-decoration-color: #008000\">\"fiscalYear\"</span>: <span style=\"color: #008080; text-decoration-color: #008080; font-weight: bold\">2023</span>,                                                                                 \n",
       "               <span style=\"color: #008000; text-decoration-color: #008000\">\"totalPay\"</span>: <span style=\"color: #008080; text-decoration-color: #008080; font-weight: bold\">121550</span>,                                                                                 \n",
       "               <span style=\"color: #008000; text-decoration-color: #008000\">\"exercisedValue\"</span>: <span style=\"color: #008080; text-decoration-color: #008080; font-weight: bold\">0</span>,                                                                                \n",
       "               <span style=\"color: #008000; text-decoration-color: #008000\">\"unexercisedValue\"</span>: <span style=\"color: #008080; text-decoration-color: #008080; font-weight: bold\">0</span>                                                                               \n",
       "             <span style=\"font-weight: bold\">}</span>,                                                                                                    \n",
       "             <span style=\"font-weight: bold\">{</span>                                                                                                     \n",
       "               <span style=\"color: #008000; text-decoration-color: #008000\">\"maxAge\"</span>: <span style=\"color: #008080; text-decoration-color: #008080; font-weight: bold\">1</span>,                                                                                        \n",
       "               <span style=\"color: #008000; text-decoration-color: #008000\">\"name\"</span>: <span style=\"color: #008000; text-decoration-color: #008000\">\"Mr. Peter  Bannon\"</span>,                                                                        \n",
       "               <span style=\"color: #008000; text-decoration-color: #008000\">\"title\"</span>: <span style=\"color: #008000; text-decoration-color: #008000\">\"Chip Architect\"</span>,                                                                          \n",
       "               <span style=\"color: #008000; text-decoration-color: #008000\">\"fiscalYear\"</span>: <span style=\"color: #008080; text-decoration-color: #008080; font-weight: bold\">2023</span>,                                                                                 \n",
       "               <span style=\"color: #008000; text-decoration-color: #008000\">\"exercisedValue\"</span>: <span style=\"color: #008080; text-decoration-color: #008080; font-weight: bold\">0</span>,                                                                                \n",
       "               <span style=\"color: #008000; text-decoration-color: #008000\">\"unexercisedValue\"</span>: <span style=\"color: #008080; text-decoration-color: #008080; font-weight: bold\">0</span>                                                                               \n",
       "             <span style=\"font-weight: bold\">}</span>,                                                                                                    \n",
       "             <span style=\"font-weight: bold\">{</span>                                                                                                     \n",
       "               <span style=\"color: #008000; text-decoration-color: #008000\">\"maxAge\"</span>: <span style=\"color: #008080; text-decoration-color: #008080; font-weight: bold\">1</span>,                                                                                        \n",
       "               <span style=\"color: #008000; text-decoration-color: #008000\">\"name\"</span>: <span style=\"color: #008000; text-decoration-color: #008000\">\"Mr. Turner  Caldwell\"</span>,                                                                     \n",
       "               <span style=\"color: #008000; text-decoration-color: #008000\">\"title\"</span>: <span style=\"color: #008000; text-decoration-color: #008000\">\"Engineering Manager\"</span>,                                                                     \n",
       "               <span style=\"color: #008000; text-decoration-color: #008000\">\"fiscalYear\"</span>: <span style=\"color: #008080; text-decoration-color: #008080; font-weight: bold\">2023</span>,                                                                                 \n",
       "               <span style=\"color: #008000; text-decoration-color: #008000\">\"exercisedValue\"</span>: <span style=\"color: #008080; text-decoration-color: #008080; font-weight: bold\">0</span>,                                                                                \n",
       "               <span style=\"color: #008000; text-decoration-color: #008000\">\"unexercisedValue\"</span>: <span style=\"color: #008080; text-decoration-color: #008080; font-weight: bold\">0</span>                                                                               \n",
       "             <span style=\"font-weight: bold\">}</span>,                                                                                                    \n",
       "             <span style=\"font-weight: bold\">{</span>                                                                                                     \n",
       "               <span style=\"color: #008000; text-decoration-color: #008000\">\"maxAge\"</span>: <span style=\"color: #008080; text-decoration-color: #008080; font-weight: bold\">1</span>,                                                                                        \n",
       "               <span style=\"color: #008000; text-decoration-color: #008000\">\"name\"</span>: <span style=\"color: #008000; text-decoration-color: #008000\">\"Mr. Rodney D. Westmoreland Jr.\"</span>,                                                           \n",
       "               <span style=\"color: #008000; text-decoration-color: #008000\">\"title\"</span>: <span style=\"color: #008000; text-decoration-color: #008000\">\"Director of Construction Management\"</span>,                                                     \n",
       "               <span style=\"color: #008000; text-decoration-color: #008000\">\"fiscalYear\"</span>: <span style=\"color: #008080; text-decoration-color: #008080; font-weight: bold\">2023</span>,                                                                                 \n",
       "               <span style=\"color: #008000; text-decoration-color: #008000\">\"exercisedValue\"</span>: <span style=\"color: #008080; text-decoration-color: #008080; font-weight: bold\">0</span>,                                                                                \n",
       "               <span style=\"color: #008000; text-decoration-color: #008000\">\"unexercisedValue\"</span>: <span style=\"color: #008080; text-decoration-color: #008080; font-weight: bold\">0</span>                                                                               \n",
       "             <span style=\"font-weight: bold\">}</span>                                                                                                     \n",
       "           <span style=\"font-weight: bold\">]</span>,                                                                                                      \n",
       "           <span style=\"color: #008000; text-decoration-color: #008000\">\"auditRisk\"</span>: <span style=\"color: #008080; text-decoration-color: #008080; font-weight: bold\">7</span>,                                                                                         \n",
       "           <span style=\"color: #008000; text-decoration-color: #008000\">\"boardRisk\"</span>: <span style=\"color: #008080; text-decoration-color: #008080; font-weight: bold\">9</span>,                                                                                         \n",
       "           <span style=\"color: #008000; text-decoration-color: #008000\">\"compensationRisk\"</span>: <span style=\"color: #008080; text-decoration-color: #008080; font-weight: bold\">10</span>,                                                                                 \n",
       "           <span style=\"color: #008000; text-decoration-color: #008000\">\"shareHolderRightsRisk\"</span>: <span style=\"color: #008080; text-decoration-color: #008080; font-weight: bold\">9</span>,                                                                             \n",
       "           <span style=\"color: #008000; text-decoration-color: #008000\">\"overallRisk\"</span>: <span style=\"color: #008080; text-decoration-color: #008080; font-weight: bold\">10</span>,                                                                                      \n",
       "           <span style=\"color: #008000; text-decoration-color: #008000\">\"governanceEpochDate\"</span>: <span style=\"color: #008080; text-decoration-color: #008080; font-weight: bold\">1733011200</span>,                                                                      \n",
       "           <span style=\"color: #008000; text-decoration-color: #008000\">\"compensationAsOfEpochDate\"</span>: <span style=\"color: #008080; text-decoration-color: #008080; font-weight: bold\">1703980800</span>,                                                                \n",
       "           <span style=\"color: #008000; text-decoration-color: #008000\">\"maxAge\"</span>: <span style=\"color: #008080; text-decoration-color: #008080; font-weight: bold\">86400</span>,                                                                                        \n",
       "           <span style=\"color: #008000; text-decoration-color: #008000\">\"priceHint\"</span>: <span style=\"color: #008080; text-decoration-color: #008080; font-weight: bold\">2</span>,                                                                                         \n",
       "           <span style=\"color: #008000; text-decoration-color: #008000\">\"previousClose\"</span>: <span style=\"color: #008080; text-decoration-color: #008080; font-weight: bold\">418.1</span>,                                                                                 \n",
       "           <span style=\"color: #008000; text-decoration-color: #008000\">\"open\"</span>: <span style=\"color: #008080; text-decoration-color: #008080; font-weight: bold\">420.0</span>,                                                                                          \n",
       "           <span style=\"color: #008000; text-decoration-color: #008000\">\"dayLow\"</span>: <span style=\"color: #008080; text-decoration-color: #008080; font-weight: bold\">415.71</span>,                                                                                       \n",
       "           <span style=\"color: #008000; text-decoration-color: #008000\">\"dayHigh\"</span>: <span style=\"color: #008080; text-decoration-color: #008080; font-weight: bold\">436.3</span>,                                                                                       \n",
       "           <span style=\"color: #008000; text-decoration-color: #008000\">\"regularMarketPreviousClose\"</span>: <span style=\"color: #008080; text-decoration-color: #008080; font-weight: bold\">418.1</span>,                                                                    \n",
       "           <span style=\"color: #008000; text-decoration-color: #008000\">\"regularMarketOpen\"</span>: <span style=\"color: #008080; text-decoration-color: #008080; font-weight: bold\">420.0</span>,                                                                             \n",
       "           <span style=\"color: #008000; text-decoration-color: #008000\">\"regularMarketDayLow\"</span>: <span style=\"color: #008080; text-decoration-color: #008080; font-weight: bold\">415.71</span>,                                                                          \n",
       "           <span style=\"color: #008000; text-decoration-color: #008000\">\"regularMarketDayHigh\"</span>: <span style=\"color: #008080; text-decoration-color: #008080; font-weight: bold\">436.3</span>,                                                                          \n",
       "           <span style=\"color: #008000; text-decoration-color: #008000\">\"beta\"</span>: <span style=\"color: #008080; text-decoration-color: #008080; font-weight: bold\">2.295</span>,                                                                                          \n",
       "           <span style=\"color: #008000; text-decoration-color: #008000\">\"trailingPE\"</span>: <span style=\"color: #008080; text-decoration-color: #008080; font-weight: bold\">119.18852</span>,                                                                                \n",
       "           <span style=\"color: #008000; text-decoration-color: #008000\">\"forwardPE\"</span>: <span style=\"color: #008080; text-decoration-color: #008080; font-weight: bold\">133.2647</span>,                                                                                  \n",
       "           <span style=\"color: #008000; text-decoration-color: #008000\">\"volume\"</span>: <span style=\"color: #008080; text-decoration-color: #008080; font-weight: bold\">86211086</span>,                                                                                     \n",
       "           <span style=\"color: #008000; text-decoration-color: #008000\">\"regularMarketVolume\"</span>: <span style=\"color: #008080; text-decoration-color: #008080; font-weight: bold\">86211086</span>,                                                                        \n",
       "           <span style=\"color: #008000; text-decoration-color: #008000\">\"averageVolume\"</span>: <span style=\"color: #008080; text-decoration-color: #008080; font-weight: bold\">88876243</span>,                                                                              \n",
       "           <span style=\"color: #008000; text-decoration-color: #008000\">\"averageVolume10days\"</span>: <span style=\"color: #008080; text-decoration-color: #008080; font-weight: bold\">82440090</span>,                                                                        \n",
       "           <span style=\"color: #008000; text-decoration-color: #008000\">\"averageDailyVolume10Day\"</span>: <span style=\"color: #008080; text-decoration-color: #008080; font-weight: bold\">82440090</span>,                                                                    \n",
       "           <span style=\"color: #008000; text-decoration-color: #008000\">\"bid\"</span>: <span style=\"color: #008080; text-decoration-color: #008080; font-weight: bold\">435.76</span>,                                                                                          \n",
       "           <span style=\"color: #008000; text-decoration-color: #008000\">\"ask\"</span>: <span style=\"color: #008080; text-decoration-color: #008080; font-weight: bold\">449.65</span>,                                                                                          \n",
       "           <span style=\"color: #008000; text-decoration-color: #008000\">\"bidSize\"</span>: <span style=\"color: #008080; text-decoration-color: #008080; font-weight: bold\">600</span>,                                                                                         \n",
       "           <span style=\"color: #008000; text-decoration-color: #008000\">\"askSize\"</span>: <span style=\"color: #008080; text-decoration-color: #008080; font-weight: bold\">100</span>,                                                                                         \n",
       "           <span style=\"color: #008000; text-decoration-color: #008000\">\"marketCap\"</span>: <span style=\"color: #008080; text-decoration-color: #008080; font-weight: bold\">1400324489216</span>,                                                                             \n",
       "           <span style=\"color: #008000; text-decoration-color: #008000\">\"fiftyTwoWeekLow\"</span>: <span style=\"color: #008080; text-decoration-color: #008080; font-weight: bold\">138.8</span>,                                                                               \n",
       "           <span style=\"color: #008000; text-decoration-color: #008000\">\"fiftyTwoWeekHigh\"</span>: <span style=\"color: #008080; text-decoration-color: #008080; font-weight: bold\">436.3</span>,                                                                              \n",
       "           <span style=\"color: #008000; text-decoration-color: #008000\">\"priceToSalesTrailing12Months\"</span>: <span style=\"color: #008080; text-decoration-color: #008080; font-weight: bold\">14.414045</span>,                                                              \n",
       "           <span style=\"color: #008000; text-decoration-color: #008000\">\"fiftyDayAverage\"</span>: <span style=\"color: #008080; text-decoration-color: #008080; font-weight: bold\">300.0734</span>,                                                                            \n",
       "           <span style=\"color: #008000; text-decoration-color: #008000\">\"twoHundredDayAverage\"</span>: <span style=\"color: #008080; text-decoration-color: #008080; font-weight: bold\">224.40105</span>,                                                                      \n",
       "           <span style=\"color: #008000; text-decoration-color: #008000\">\"currency\"</span>: <span style=\"color: #008000; text-decoration-color: #008000\">\"USD\"</span>,                                                                                      \n",
       "           <span style=\"color: #008000; text-decoration-color: #008000\">\"enterpriseValue\"</span>: <span style=\"color: #008080; text-decoration-color: #008080; font-weight: bold\">1380238360576</span>,                                                                       \n",
       "           <span style=\"color: #008000; text-decoration-color: #008000\">\"profitMargins\"</span>: <span style=\"color: #008080; text-decoration-color: #008080; font-weight: bold\">0.13075</span>,                                                                               \n",
       "           <span style=\"color: #008000; text-decoration-color: #008000\">\"floatShares\"</span>: <span style=\"color: #008080; text-decoration-color: #008080; font-weight: bold\">2793105010</span>,                                                                              \n",
       "           <span style=\"color: #008000; text-decoration-color: #008000\">\"sharesOutstanding\"</span>: <span style=\"color: #008080; text-decoration-color: #008080; font-weight: bold\">3210060032</span>,                                                                        \n",
       "           <span style=\"color: #008000; text-decoration-color: #008000\">\"sharesShort\"</span>: <span style=\"color: #008080; text-decoration-color: #008080; font-weight: bold\">77192871</span>,                                                                                \n",
       "           <span style=\"color: #008000; text-decoration-color: #008000\">\"sharesShortPriorMonth\"</span>: <span style=\"color: #008080; text-decoration-color: #008080; font-weight: bold\">77944508</span>,                                                                      \n",
       "           <span style=\"color: #008000; text-decoration-color: #008000\">\"sharesShortPreviousMonthDate\"</span>: <span style=\"color: #008080; text-decoration-color: #008080; font-weight: bold\">1730332800</span>,                                                             \n",
       "           <span style=\"color: #008000; text-decoration-color: #008000\">\"dateShortInterest\"</span>: <span style=\"color: #008080; text-decoration-color: #008080; font-weight: bold\">1732838400</span>,                                                                        \n",
       "           <span style=\"color: #008000; text-decoration-color: #008000\">\"sharesPercentSharesOut\"</span>: <span style=\"color: #008080; text-decoration-color: #008080; font-weight: bold\">0.024</span>,                                                                        \n",
       "           <span style=\"color: #008000; text-decoration-color: #008000\">\"heldPercentInsiders\"</span>: <span style=\"color: #008080; text-decoration-color: #008080; font-weight: bold\">0.12911999</span>,                                                                      \n",
       "           <span style=\"color: #008000; text-decoration-color: #008000\">\"heldPercentInstitutions\"</span>: <span style=\"color: #008080; text-decoration-color: #008080; font-weight: bold\">0.47882</span>,                                                                     \n",
       "           <span style=\"color: #008000; text-decoration-color: #008000\">\"shortRatio\"</span>: <span style=\"color: #008080; text-decoration-color: #008080; font-weight: bold\">0.77</span>,                                                                                     \n",
       "           <span style=\"color: #008000; text-decoration-color: #008000\">\"shortPercentOfFloat\"</span>: <span style=\"color: #008080; text-decoration-color: #008080; font-weight: bold\">0.0276</span>,                                                                          \n",
       "           <span style=\"color: #008000; text-decoration-color: #008000\">\"impliedSharesOutstanding\"</span>: <span style=\"color: #008080; text-decoration-color: #008080; font-weight: bold\">3210060032</span>,                                                                 \n",
       "           <span style=\"color: #008000; text-decoration-color: #008000\">\"bookValue\"</span>: <span style=\"color: #008080; text-decoration-color: #008080; font-weight: bold\">21.806</span>,                                                                                    \n",
       "           <span style=\"color: #008000; text-decoration-color: #008000\">\"priceToBook\"</span>: <span style=\"color: #008080; text-decoration-color: #008080; font-weight: bold\">20.005045</span>,                                                                               \n",
       "           <span style=\"color: #008000; text-decoration-color: #008000\">\"lastFiscalYearEnd\"</span>: <span style=\"color: #008080; text-decoration-color: #008080; font-weight: bold\">1703980800</span>,                                                                        \n",
       "           <span style=\"color: #008000; text-decoration-color: #008000\">\"nextFiscalYearEnd\"</span>: <span style=\"color: #008080; text-decoration-color: #008080; font-weight: bold\">1735603200</span>,                                                                        \n",
       "           <span style=\"color: #008000; text-decoration-color: #008000\">\"mostRecentQuarter\"</span>: <span style=\"color: #008080; text-decoration-color: #008080; font-weight: bold\">1727654400</span>,                                                                        \n",
       "           <span style=\"color: #008000; text-decoration-color: #008000\">\"earningsQuarterlyGrowth\"</span>: <span style=\"color: #008080; text-decoration-color: #008080; font-weight: bold\">0.169</span>,                                                                       \n",
       "           <span style=\"color: #008000; text-decoration-color: #008000\">\"netIncomeToCommon\"</span>: <span style=\"color: #008080; text-decoration-color: #008080; font-weight: bold\">12743000064</span>,                                                                       \n",
       "           <span style=\"color: #008000; text-decoration-color: #008000\">\"trailingEps\"</span>: <span style=\"color: #008080; text-decoration-color: #008080; font-weight: bold\">3.66</span>,                                                                                    \n",
       "           <span style=\"color: #008000; text-decoration-color: #008000\">\"forwardEps\"</span>: <span style=\"color: #008080; text-decoration-color: #008080; font-weight: bold\">3.24</span>,                                                                                     \n",
       "           <span style=\"color: #008000; text-decoration-color: #008000\">\"lastSplitFactor\"</span>: <span style=\"color: #008000; text-decoration-color: #008000\">\"3:1\"</span>,                                                                               \n",
       "           <span style=\"color: #008000; text-decoration-color: #008000\">\"lastSplitDate\"</span>: <span style=\"color: #008080; text-decoration-color: #008080; font-weight: bold\">1661385600</span>,                                                                            \n",
       "           <span style=\"color: #008000; text-decoration-color: #008000\">\"enterpriseToRevenue\"</span>: <span style=\"color: #008080; text-decoration-color: #008080; font-weight: bold\">14.207</span>,                                                                          \n",
       "           <span style=\"color: #008000; text-decoration-color: #008000\">\"enterpriseToEbitda\"</span>: <span style=\"color: #008080; text-decoration-color: #008080; font-weight: bold\">104.216</span>,                                                                          \n",
       "           <span style=\"color: #008000; text-decoration-color: #008000\">\"52WeekChange\"</span>: <span style=\"color: #008080; text-decoration-color: #008080; font-weight: bold\">0.73052204</span>,                                                                             \n",
       "           <span style=\"color: #008000; text-decoration-color: #008000\">\"SandP52WeekChange\"</span>: <span style=\"color: #008080; text-decoration-color: #008080; font-weight: bold\">0.2764505</span>,                                                                         \n",
       "           <span style=\"color: #008000; text-decoration-color: #008000\">\"exchange\"</span>: <span style=\"color: #008000; text-decoration-color: #008000\">\"NMS\"</span>,                                                                                      \n",
       "           <span style=\"color: #008000; text-decoration-color: #008000\">\"quoteType\"</span>: <span style=\"color: #008000; text-decoration-color: #008000\">\"EQUITY\"</span>,                                                                                  \n",
       "           <span style=\"color: #008000; text-decoration-color: #008000\">\"symbol\"</span>: <span style=\"color: #008000; text-decoration-color: #008000\">\"TSLA\"</span>,                                                                                       \n",
       "           <span style=\"color: #008000; text-decoration-color: #008000\">\"underlyingSymbol\"</span>: <span style=\"color: #008000; text-decoration-color: #008000\">\"TSLA\"</span>,                                                                             \n",
       "           <span style=\"color: #008000; text-decoration-color: #008000\">\"shortName\"</span>: <span style=\"color: #008000; text-decoration-color: #008000\">\"Tesla, Inc.\"</span>,                                                                             \n",
       "           <span style=\"color: #008000; text-decoration-color: #008000\">\"longName\"</span>: <span style=\"color: #008000; text-decoration-color: #008000\">\"Tesla, Inc.\"</span>,                                                                              \n",
       "           <span style=\"color: #008000; text-decoration-color: #008000\">\"firstTradeDateEpochUtc\"</span>: <span style=\"color: #008080; text-decoration-color: #008080; font-weight: bold\">1277818200</span>,                                                                   \n",
       "           <span style=\"color: #008000; text-decoration-color: #008000\">\"timeZoneFullName\"</span>: <span style=\"color: #008000; text-decoration-color: #008000\">\"America/New_York\"</span>,                                                                 \n",
       "           <span style=\"color: #008000; text-decoration-color: #008000\">\"timeZoneShortName\"</span>: <span style=\"color: #008000; text-decoration-color: #008000\">\"EST\"</span>,                                                                             \n",
       "           <span style=\"color: #008000; text-decoration-color: #008000\">\"uuid\"</span>: <span style=\"color: #008000; text-decoration-color: #008000\">\"ec367bc4-f92c-397c-ac81-bf7b43cffaf7\"</span>,                                                         \n",
       "           <span style=\"color: #008000; text-decoration-color: #008000\">\"messageBoardId\"</span>: <span style=\"color: #008000; text-decoration-color: #008000\">\"finmb_27444752\"</span>,                                                                     \n",
       "           <span style=\"color: #008000; text-decoration-color: #008000\">\"gmtOffSetMilliseconds\"</span>: <span style=\"color: #008080; text-decoration-color: #008080; font-weight: bold\">-18000000</span>,                                                                     \n",
       "           <span style=\"color: #008000; text-decoration-color: #008000\">\"currentPrice\"</span>: <span style=\"color: #008080; text-decoration-color: #008080; font-weight: bold\">436.23</span>,                                                                                 \n",
       "           <span style=\"color: #008000; text-decoration-color: #008000\">\"targetHighPrice\"</span>: <span style=\"color: #008080; text-decoration-color: #008080; font-weight: bold\">421.0</span>,                                                                               \n",
       "           <span style=\"color: #008000; text-decoration-color: #008000\">\"targetLowPrice\"</span>: <span style=\"color: #008080; text-decoration-color: #008080; font-weight: bold\">116.0</span>,                                                                                \n",
       "           <span style=\"color: #008000; text-decoration-color: #008000\">\"targetMeanPrice\"</span>: <span style=\"color: #008080; text-decoration-color: #008080; font-weight: bold\">262.8769</span>,                                                                            \n",
       "           <span style=\"color: #008000; text-decoration-color: #008000\">\"targetMedianPrice\"</span>: <span style=\"color: #008080; text-decoration-color: #008080; font-weight: bold\">255.0</span>,                                                                             \n",
       "           <span style=\"color: #008000; text-decoration-color: #008000\">\"recommendationMean\"</span>: <span style=\"color: #008080; text-decoration-color: #008080; font-weight: bold\">2.77083</span>,                                                                          \n",
       "           <span style=\"color: #008000; text-decoration-color: #008000\">\"recommendationKey\"</span>: <span style=\"color: #008000; text-decoration-color: #008000\">\"hold\"</span>,                                                                            \n",
       "           <span style=\"color: #008000; text-decoration-color: #008000\">\"numberOfAnalystOpinions\"</span>: <span style=\"color: #008080; text-decoration-color: #008080; font-weight: bold\">42</span>,                                                                          \n",
       "           <span style=\"color: #008000; text-decoration-color: #008000\">\"totalCash\"</span>: <span style=\"color: #008080; text-decoration-color: #008080; font-weight: bold\">33648001024</span>,                                                                               \n",
       "           <span style=\"color: #008000; text-decoration-color: #008000\">\"totalCashPerShare\"</span>: <span style=\"color: #008080; text-decoration-color: #008080; font-weight: bold\">10.482</span>,                                                                            \n",
       "           <span style=\"color: #008000; text-decoration-color: #008000\">\"ebitda\"</span>: <span style=\"color: #008080; text-decoration-color: #008080; font-weight: bold\">13244000256</span>,                                                                                  \n",
       "           <span style=\"color: #008000; text-decoration-color: #008000\">\"totalDebt\"</span>: <span style=\"color: #008080; text-decoration-color: #008080; font-weight: bold\">12782999552</span>,                                                                               \n",
       "           <span style=\"color: #008000; text-decoration-color: #008000\">\"quickRatio\"</span>: <span style=\"color: #008080; text-decoration-color: #008080; font-weight: bold\">1.214</span>,                                                                                    \n",
       "           <span style=\"color: #008000; text-decoration-color: #008000\">\"currentRatio\"</span>: <span style=\"color: #008080; text-decoration-color: #008080; font-weight: bold\">1.844</span>,                                                                                  \n",
       "           <span style=\"color: #008000; text-decoration-color: #008000\">\"totalRevenue\"</span>: <span style=\"color: #008080; text-decoration-color: #008080; font-weight: bold\">97150001152</span>,                                                                            \n",
       "           <span style=\"color: #008000; text-decoration-color: #008000\">\"debtToEquity\"</span>: <span style=\"color: #008080; text-decoration-color: #008080; font-weight: bold\">18.078</span>,                                                                                 \n",
       "           <span style=\"color: #008000; text-decoration-color: #008000\">\"revenuePerShare\"</span>: <span style=\"color: #008080; text-decoration-color: #008080; font-weight: bold\">30.457</span>,                                                                              \n",
       "           <span style=\"color: #008000; text-decoration-color: #008000\">\"returnOnAssets\"</span>: <span style=\"color: #008080; text-decoration-color: #008080; font-weight: bold\">0.04759</span>,                                                                              \n",
       "           <span style=\"color: #008000; text-decoration-color: #008000\">\"returnOnEquity\"</span>: <span style=\"color: #008080; text-decoration-color: #008080; font-weight: bold\">0.20389</span>,                                                                              \n",
       "           <span style=\"color: #008000; text-decoration-color: #008000\">\"freeCashflow\"</span>: <span style=\"color: #008080; text-decoration-color: #008080; font-weight: bold\">676625024</span>,                                                                              \n",
       "           <span style=\"color: #008000; text-decoration-color: #008000\">\"operatingCashflow\"</span>: <span style=\"color: #008080; text-decoration-color: #008080; font-weight: bold\">14478999552</span>,                                                                       \n",
       "           <span style=\"color: #008000; text-decoration-color: #008000\">\"earningsGrowth\"</span>: <span style=\"color: #008080; text-decoration-color: #008080; font-weight: bold\">0.17</span>,                                                                                 \n",
       "           <span style=\"color: #008000; text-decoration-color: #008000\">\"revenueGrowth\"</span>: <span style=\"color: #008080; text-decoration-color: #008080; font-weight: bold\">0.078</span>,                                                                                 \n",
       "           <span style=\"color: #008000; text-decoration-color: #008000\">\"grossMargins\"</span>: <span style=\"color: #008080; text-decoration-color: #008080; font-weight: bold\">0.18229</span>,                                                                                \n",
       "           <span style=\"color: #008000; text-decoration-color: #008000\">\"ebitdaMargins\"</span>: <span style=\"color: #008080; text-decoration-color: #008080; font-weight: bold\">0.13633001</span>,                                                                            \n",
       "           <span style=\"color: #008000; text-decoration-color: #008000\">\"operatingMargins\"</span>: <span style=\"color: #008080; text-decoration-color: #008080; font-weight: bold\">0.107889995</span>,                                                                        \n",
       "           <span style=\"color: #008000; text-decoration-color: #008000\">\"financialCurrency\"</span>: <span style=\"color: #008000; text-decoration-color: #008000\">\"USD\"</span>,                                                                             \n",
       "           <span style=\"color: #008000; text-decoration-color: #008000\">\"trailingPegRatio\"</span>: <span style=\"color: #008080; text-decoration-color: #008080; font-weight: bold\">12.0948</span>                                                                             \n",
       "         <span style=\"font-weight: bold\">}</span>                                                                                                         \n",
       "</pre>\n"
      ],
      "text/plain": [
       "\u001b[32mDEBUG   \u001b[0m \u001b[1m{\u001b[0m                                                                                                         \n",
       "           \u001b[32m\"address1\"\u001b[0m: \u001b[32m\"1 Tesla Road\"\u001b[0m,                                                                             \n",
       "           \u001b[32m\"city\"\u001b[0m: \u001b[32m\"Austin\"\u001b[0m,                                                                                       \n",
       "           \u001b[32m\"state\"\u001b[0m: \u001b[32m\"TX\"\u001b[0m,                                                                                          \n",
       "           \u001b[32m\"zip\"\u001b[0m: \u001b[32m\"78725\"\u001b[0m,                                                                                         \n",
       "           \u001b[32m\"country\"\u001b[0m: \u001b[32m\"United States\"\u001b[0m,                                                                             \n",
       "           \u001b[32m\"phone\"\u001b[0m: \u001b[32m\"512 516 8177\"\u001b[0m,                                                                                \n",
       "           \u001b[32m\"website\"\u001b[0m: \u001b[32m\"https://www.tesla.com\"\u001b[0m,                                                                     \n",
       "           \u001b[32m\"industry\"\u001b[0m: \u001b[32m\"Auto Manufacturers\"\u001b[0m,                                                                       \n",
       "           \u001b[32m\"industryKey\"\u001b[0m: \u001b[32m\"auto-manufacturers\"\u001b[0m,                                                                    \n",
       "           \u001b[32m\"industryDisp\"\u001b[0m: \u001b[32m\"Auto Manufacturers\"\u001b[0m,                                                                   \n",
       "           \u001b[32m\"sector\"\u001b[0m: \u001b[32m\"Consumer Cyclical\"\u001b[0m,                                                                          \n",
       "           \u001b[32m\"sectorKey\"\u001b[0m: \u001b[32m\"consumer-cyclical\"\u001b[0m,                                                                       \n",
       "           \u001b[32m\"sectorDisp\"\u001b[0m: \u001b[32m\"Consumer Cyclical\"\u001b[0m,                                                                      \n",
       "           \u001b[32m\"longBusinessSummary\"\u001b[0m: \u001b[32m\"Tesla, Inc. designs, develops, manufactures, leases, and sells electric \u001b[0m        \n",
       "         \u001b[32mvehicles, and energy generation and storage systems in the United States, China, and internationally. The \u001b[0m\n",
       "         \u001b[32mcompany operates in two segments, Automotive, and Energy Generation and Storage. The Automotive segment \u001b[0m  \n",
       "         \u001b[32moffers electric vehicles, as well as sells automotive regulatory credits; and non-warranty after-sales \u001b[0m   \n",
       "         \u001b[32mvehicle, used vehicles, body shop and parts, supercharging, retail merchandise, and vehicle insurance \u001b[0m    \n",
       "         \u001b[32mservices. This segment also provides sedans and sport utility vehicles through direct and used vehicle \u001b[0m   \n",
       "         \u001b[32msales, a network of Tesla Superchargers, and in-app upgrades; purchase financing and leasing services; \u001b[0m   \n",
       "         \u001b[32mservices for electric vehicles through its company-owned service locations and Tesla mobile service \u001b[0m      \n",
       "         \u001b[32mtechnicians; and vehicle limited warranties and extended service plans. The Energy Generation and Storage \u001b[0m\n",
       "         \u001b[32msegment engages in the design, manufacture, installation, sale, and leasing of solar energy generation and\u001b[0m\n",
       "         \u001b[32menergy storage products, and related services to residential, commercial, and industrial customers and \u001b[0m   \n",
       "         \u001b[32mutilities through its website, stores, and galleries, as well as through a network of channel partners; \u001b[0m  \n",
       "         \u001b[32mand provision of service and repairs to its energy product customers, including under warranty, as well as\u001b[0m\n",
       "         \u001b[32mvarious financing options to its solar customers. The company was formerly known as Tesla Motors, Inc. and\u001b[0m\n",
       "         \u001b[32mchanged its name to Tesla, Inc. in February 2017. Tesla, Inc. was incorporated in 2003 and is \u001b[0m            \n",
       "         \u001b[32mheadquartered in Austin, Texas.\"\u001b[0m,                                                                         \n",
       "           \u001b[32m\"fullTimeEmployees\"\u001b[0m: \u001b[1;36m140473\u001b[0m,                                                                            \n",
       "           \u001b[32m\"companyOfficers\"\u001b[0m: \u001b[1m[\u001b[0m                                                                                    \n",
       "             \u001b[1m{\u001b[0m                                                                                                     \n",
       "               \u001b[32m\"maxAge\"\u001b[0m: \u001b[1;36m1\u001b[0m,                                                                                        \n",
       "               \u001b[32m\"name\"\u001b[0m: \u001b[32m\"Mr. Elon R. Musk\"\u001b[0m,                                                                         \n",
       "               \u001b[32m\"age\"\u001b[0m: \u001b[1;36m51\u001b[0m,                                                                                          \n",
       "               \u001b[32m\"title\"\u001b[0m: \u001b[32m\"Co-Founder, Technoking of Tesla, CEO & Director\"\u001b[0m,                                         \n",
       "               \u001b[32m\"yearBorn\"\u001b[0m: \u001b[1;36m1972\u001b[0m,                                                                                   \n",
       "               \u001b[32m\"fiscalYear\"\u001b[0m: \u001b[1;36m2023\u001b[0m,                                                                                 \n",
       "               \u001b[32m\"exercisedValue\"\u001b[0m: \u001b[1;36m0\u001b[0m,                                                                                \n",
       "               \u001b[32m\"unexercisedValue\"\u001b[0m: \u001b[1;36m0\u001b[0m                                                                               \n",
       "             \u001b[1m}\u001b[0m,                                                                                                    \n",
       "             \u001b[1m{\u001b[0m                                                                                                     \n",
       "               \u001b[32m\"maxAge\"\u001b[0m: \u001b[1;36m1\u001b[0m,                                                                                        \n",
       "               \u001b[32m\"name\"\u001b[0m: \u001b[32m\"Mr. Vaibhav  Taneja\"\u001b[0m,                                                                      \n",
       "               \u001b[32m\"age\"\u001b[0m: \u001b[1;36m45\u001b[0m,                                                                                          \n",
       "               \u001b[32m\"title\"\u001b[0m: \u001b[32m\"Chief Financial Officer\"\u001b[0m,                                                                 \n",
       "               \u001b[32m\"yearBorn\"\u001b[0m: \u001b[1;36m1978\u001b[0m,                                                                                   \n",
       "               \u001b[32m\"fiscalYear\"\u001b[0m: \u001b[1;36m2023\u001b[0m,                                                                                 \n",
       "               \u001b[32m\"totalPay\"\u001b[0m: \u001b[1;36m278000\u001b[0m,                                                                                 \n",
       "               \u001b[32m\"exercisedValue\"\u001b[0m: \u001b[1;36m8517957\u001b[0m,                                                                          \n",
       "               \u001b[32m\"unexercisedValue\"\u001b[0m: \u001b[1;36m202075632\u001b[0m                                                                       \n",
       "             \u001b[1m}\u001b[0m,                                                                                                    \n",
       "             \u001b[1m{\u001b[0m                                                                                                     \n",
       "               \u001b[32m\"maxAge\"\u001b[0m: \u001b[1;36m1\u001b[0m,                                                                                        \n",
       "               \u001b[32m\"name\"\u001b[0m: \u001b[32m\"Mr. Xiaotong  Zhu\"\u001b[0m,                                                                        \n",
       "               \u001b[32m\"age\"\u001b[0m: \u001b[1;36m43\u001b[0m,                                                                                          \n",
       "               \u001b[32m\"title\"\u001b[0m: \u001b[32m\"Senior Vice President of Automotive\"\u001b[0m,                                                     \n",
       "               \u001b[32m\"yearBorn\"\u001b[0m: \u001b[1;36m1980\u001b[0m,                                                                                   \n",
       "               \u001b[32m\"fiscalYear\"\u001b[0m: \u001b[1;36m2023\u001b[0m,                                                                                 \n",
       "               \u001b[32m\"totalPay\"\u001b[0m: \u001b[1;36m926877\u001b[0m,                                                                                 \n",
       "               \u001b[32m\"exercisedValue\"\u001b[0m: \u001b[1;36m0\u001b[0m,                                                                                \n",
       "               \u001b[32m\"unexercisedValue\"\u001b[0m: \u001b[1;36m344144320\u001b[0m                                                                       \n",
       "             \u001b[1m}\u001b[0m,                                                                                                    \n",
       "             \u001b[1m{\u001b[0m                                                                                                     \n",
       "               \u001b[32m\"maxAge\"\u001b[0m: \u001b[1;36m1\u001b[0m,                                                                                        \n",
       "               \u001b[32m\"name\"\u001b[0m: \u001b[32m\"Travis  Axelrod\"\u001b[0m,                                                                          \n",
       "               \u001b[32m\"title\"\u001b[0m: \u001b[32m\"Head of Investor Relations\"\u001b[0m,                                                              \n",
       "               \u001b[32m\"fiscalYear\"\u001b[0m: \u001b[1;36m2023\u001b[0m,                                                                                 \n",
       "               \u001b[32m\"exercisedValue\"\u001b[0m: \u001b[1;36m0\u001b[0m,                                                                                \n",
       "               \u001b[32m\"unexercisedValue\"\u001b[0m: \u001b[1;36m0\u001b[0m                                                                               \n",
       "             \u001b[1m}\u001b[0m,                                                                                                    \n",
       "             \u001b[1m{\u001b[0m                                                                                                     \n",
       "               \u001b[32m\"maxAge\"\u001b[0m: \u001b[1;36m1\u001b[0m,                                                                                        \n",
       "               \u001b[32m\"name\"\u001b[0m: \u001b[32m\"Brian  Scelfo\"\u001b[0m,                                                                            \n",
       "               \u001b[32m\"title\"\u001b[0m: \u001b[32m\"Senior Director of Corporate Development\"\u001b[0m,                                                \n",
       "               \u001b[32m\"fiscalYear\"\u001b[0m: \u001b[1;36m2023\u001b[0m,                                                                                 \n",
       "               \u001b[32m\"exercisedValue\"\u001b[0m: \u001b[1;36m0\u001b[0m,                                                                                \n",
       "               \u001b[32m\"unexercisedValue\"\u001b[0m: \u001b[1;36m0\u001b[0m                                                                               \n",
       "             \u001b[1m}\u001b[0m,                                                                                                    \n",
       "             \u001b[1m{\u001b[0m                                                                                                     \n",
       "               \u001b[32m\"maxAge\"\u001b[0m: \u001b[1;36m1\u001b[0m,                                                                                        \n",
       "               \u001b[32m\"name\"\u001b[0m: \u001b[32m\"Mr. Franz  von Holzhausen\"\u001b[0m,                                                                \n",
       "               \u001b[32m\"title\"\u001b[0m: \u001b[32m\"Chief Designer\"\u001b[0m,                                                                          \n",
       "               \u001b[32m\"fiscalYear\"\u001b[0m: \u001b[1;36m2023\u001b[0m,                                                                                 \n",
       "               \u001b[32m\"exercisedValue\"\u001b[0m: \u001b[1;36m0\u001b[0m,                                                                                \n",
       "               \u001b[32m\"unexercisedValue\"\u001b[0m: \u001b[1;36m0\u001b[0m                                                                               \n",
       "             \u001b[1m}\u001b[0m,                                                                                                    \n",
       "             \u001b[1m{\u001b[0m                                                                                                     \n",
       "               \u001b[32m\"maxAge\"\u001b[0m: \u001b[1;36m1\u001b[0m,                                                                                        \n",
       "               \u001b[32m\"name\"\u001b[0m: \u001b[32m\"Mr. John  Walker\"\u001b[0m,                                                                         \n",
       "               \u001b[32m\"age\"\u001b[0m: \u001b[1;36m60\u001b[0m,                                                                                          \n",
       "               \u001b[32m\"title\"\u001b[0m: \u001b[32m\"Vice President of Sales - North America\"\u001b[0m,                                                 \n",
       "               \u001b[32m\"yearBorn\"\u001b[0m: \u001b[1;36m1963\u001b[0m,                                                                                   \n",
       "               \u001b[32m\"fiscalYear\"\u001b[0m: \u001b[1;36m2023\u001b[0m,                                                                                 \n",
       "               \u001b[32m\"totalPay\"\u001b[0m: \u001b[1;36m121550\u001b[0m,                                                                                 \n",
       "               \u001b[32m\"exercisedValue\"\u001b[0m: \u001b[1;36m0\u001b[0m,                                                                                \n",
       "               \u001b[32m\"unexercisedValue\"\u001b[0m: \u001b[1;36m0\u001b[0m                                                                               \n",
       "             \u001b[1m}\u001b[0m,                                                                                                    \n",
       "             \u001b[1m{\u001b[0m                                                                                                     \n",
       "               \u001b[32m\"maxAge\"\u001b[0m: \u001b[1;36m1\u001b[0m,                                                                                        \n",
       "               \u001b[32m\"name\"\u001b[0m: \u001b[32m\"Mr. Peter  Bannon\"\u001b[0m,                                                                        \n",
       "               \u001b[32m\"title\"\u001b[0m: \u001b[32m\"Chip Architect\"\u001b[0m,                                                                          \n",
       "               \u001b[32m\"fiscalYear\"\u001b[0m: \u001b[1;36m2023\u001b[0m,                                                                                 \n",
       "               \u001b[32m\"exercisedValue\"\u001b[0m: \u001b[1;36m0\u001b[0m,                                                                                \n",
       "               \u001b[32m\"unexercisedValue\"\u001b[0m: \u001b[1;36m0\u001b[0m                                                                               \n",
       "             \u001b[1m}\u001b[0m,                                                                                                    \n",
       "             \u001b[1m{\u001b[0m                                                                                                     \n",
       "               \u001b[32m\"maxAge\"\u001b[0m: \u001b[1;36m1\u001b[0m,                                                                                        \n",
       "               \u001b[32m\"name\"\u001b[0m: \u001b[32m\"Mr. Turner  Caldwell\"\u001b[0m,                                                                     \n",
       "               \u001b[32m\"title\"\u001b[0m: \u001b[32m\"Engineering Manager\"\u001b[0m,                                                                     \n",
       "               \u001b[32m\"fiscalYear\"\u001b[0m: \u001b[1;36m2023\u001b[0m,                                                                                 \n",
       "               \u001b[32m\"exercisedValue\"\u001b[0m: \u001b[1;36m0\u001b[0m,                                                                                \n",
       "               \u001b[32m\"unexercisedValue\"\u001b[0m: \u001b[1;36m0\u001b[0m                                                                               \n",
       "             \u001b[1m}\u001b[0m,                                                                                                    \n",
       "             \u001b[1m{\u001b[0m                                                                                                     \n",
       "               \u001b[32m\"maxAge\"\u001b[0m: \u001b[1;36m1\u001b[0m,                                                                                        \n",
       "               \u001b[32m\"name\"\u001b[0m: \u001b[32m\"Mr. Rodney D. Westmoreland Jr.\"\u001b[0m,                                                           \n",
       "               \u001b[32m\"title\"\u001b[0m: \u001b[32m\"Director of Construction Management\"\u001b[0m,                                                     \n",
       "               \u001b[32m\"fiscalYear\"\u001b[0m: \u001b[1;36m2023\u001b[0m,                                                                                 \n",
       "               \u001b[32m\"exercisedValue\"\u001b[0m: \u001b[1;36m0\u001b[0m,                                                                                \n",
       "               \u001b[32m\"unexercisedValue\"\u001b[0m: \u001b[1;36m0\u001b[0m                                                                               \n",
       "             \u001b[1m}\u001b[0m                                                                                                     \n",
       "           \u001b[1m]\u001b[0m,                                                                                                      \n",
       "           \u001b[32m\"auditRisk\"\u001b[0m: \u001b[1;36m7\u001b[0m,                                                                                         \n",
       "           \u001b[32m\"boardRisk\"\u001b[0m: \u001b[1;36m9\u001b[0m,                                                                                         \n",
       "           \u001b[32m\"compensationRisk\"\u001b[0m: \u001b[1;36m10\u001b[0m,                                                                                 \n",
       "           \u001b[32m\"shareHolderRightsRisk\"\u001b[0m: \u001b[1;36m9\u001b[0m,                                                                             \n",
       "           \u001b[32m\"overallRisk\"\u001b[0m: \u001b[1;36m10\u001b[0m,                                                                                      \n",
       "           \u001b[32m\"governanceEpochDate\"\u001b[0m: \u001b[1;36m1733011200\u001b[0m,                                                                      \n",
       "           \u001b[32m\"compensationAsOfEpochDate\"\u001b[0m: \u001b[1;36m1703980800\u001b[0m,                                                                \n",
       "           \u001b[32m\"maxAge\"\u001b[0m: \u001b[1;36m86400\u001b[0m,                                                                                        \n",
       "           \u001b[32m\"priceHint\"\u001b[0m: \u001b[1;36m2\u001b[0m,                                                                                         \n",
       "           \u001b[32m\"previousClose\"\u001b[0m: \u001b[1;36m418.1\u001b[0m,                                                                                 \n",
       "           \u001b[32m\"open\"\u001b[0m: \u001b[1;36m420.0\u001b[0m,                                                                                          \n",
       "           \u001b[32m\"dayLow\"\u001b[0m: \u001b[1;36m415.71\u001b[0m,                                                                                       \n",
       "           \u001b[32m\"dayHigh\"\u001b[0m: \u001b[1;36m436.3\u001b[0m,                                                                                       \n",
       "           \u001b[32m\"regularMarketPreviousClose\"\u001b[0m: \u001b[1;36m418.1\u001b[0m,                                                                    \n",
       "           \u001b[32m\"regularMarketOpen\"\u001b[0m: \u001b[1;36m420.0\u001b[0m,                                                                             \n",
       "           \u001b[32m\"regularMarketDayLow\"\u001b[0m: \u001b[1;36m415.71\u001b[0m,                                                                          \n",
       "           \u001b[32m\"regularMarketDayHigh\"\u001b[0m: \u001b[1;36m436.3\u001b[0m,                                                                          \n",
       "           \u001b[32m\"beta\"\u001b[0m: \u001b[1;36m2.295\u001b[0m,                                                                                          \n",
       "           \u001b[32m\"trailingPE\"\u001b[0m: \u001b[1;36m119.18852\u001b[0m,                                                                                \n",
       "           \u001b[32m\"forwardPE\"\u001b[0m: \u001b[1;36m133.2647\u001b[0m,                                                                                  \n",
       "           \u001b[32m\"volume\"\u001b[0m: \u001b[1;36m86211086\u001b[0m,                                                                                     \n",
       "           \u001b[32m\"regularMarketVolume\"\u001b[0m: \u001b[1;36m86211086\u001b[0m,                                                                        \n",
       "           \u001b[32m\"averageVolume\"\u001b[0m: \u001b[1;36m88876243\u001b[0m,                                                                              \n",
       "           \u001b[32m\"averageVolume10days\"\u001b[0m: \u001b[1;36m82440090\u001b[0m,                                                                        \n",
       "           \u001b[32m\"averageDailyVolume10Day\"\u001b[0m: \u001b[1;36m82440090\u001b[0m,                                                                    \n",
       "           \u001b[32m\"bid\"\u001b[0m: \u001b[1;36m435.76\u001b[0m,                                                                                          \n",
       "           \u001b[32m\"ask\"\u001b[0m: \u001b[1;36m449.65\u001b[0m,                                                                                          \n",
       "           \u001b[32m\"bidSize\"\u001b[0m: \u001b[1;36m600\u001b[0m,                                                                                         \n",
       "           \u001b[32m\"askSize\"\u001b[0m: \u001b[1;36m100\u001b[0m,                                                                                         \n",
       "           \u001b[32m\"marketCap\"\u001b[0m: \u001b[1;36m1400324489216\u001b[0m,                                                                             \n",
       "           \u001b[32m\"fiftyTwoWeekLow\"\u001b[0m: \u001b[1;36m138.8\u001b[0m,                                                                               \n",
       "           \u001b[32m\"fiftyTwoWeekHigh\"\u001b[0m: \u001b[1;36m436.3\u001b[0m,                                                                              \n",
       "           \u001b[32m\"priceToSalesTrailing12Months\"\u001b[0m: \u001b[1;36m14.414045\u001b[0m,                                                              \n",
       "           \u001b[32m\"fiftyDayAverage\"\u001b[0m: \u001b[1;36m300.0734\u001b[0m,                                                                            \n",
       "           \u001b[32m\"twoHundredDayAverage\"\u001b[0m: \u001b[1;36m224.40105\u001b[0m,                                                                      \n",
       "           \u001b[32m\"currency\"\u001b[0m: \u001b[32m\"USD\"\u001b[0m,                                                                                      \n",
       "           \u001b[32m\"enterpriseValue\"\u001b[0m: \u001b[1;36m1380238360576\u001b[0m,                                                                       \n",
       "           \u001b[32m\"profitMargins\"\u001b[0m: \u001b[1;36m0.13075\u001b[0m,                                                                               \n",
       "           \u001b[32m\"floatShares\"\u001b[0m: \u001b[1;36m2793105010\u001b[0m,                                                                              \n",
       "           \u001b[32m\"sharesOutstanding\"\u001b[0m: \u001b[1;36m3210060032\u001b[0m,                                                                        \n",
       "           \u001b[32m\"sharesShort\"\u001b[0m: \u001b[1;36m77192871\u001b[0m,                                                                                \n",
       "           \u001b[32m\"sharesShortPriorMonth\"\u001b[0m: \u001b[1;36m77944508\u001b[0m,                                                                      \n",
       "           \u001b[32m\"sharesShortPreviousMonthDate\"\u001b[0m: \u001b[1;36m1730332800\u001b[0m,                                                             \n",
       "           \u001b[32m\"dateShortInterest\"\u001b[0m: \u001b[1;36m1732838400\u001b[0m,                                                                        \n",
       "           \u001b[32m\"sharesPercentSharesOut\"\u001b[0m: \u001b[1;36m0.024\u001b[0m,                                                                        \n",
       "           \u001b[32m\"heldPercentInsiders\"\u001b[0m: \u001b[1;36m0.12911999\u001b[0m,                                                                      \n",
       "           \u001b[32m\"heldPercentInstitutions\"\u001b[0m: \u001b[1;36m0.47882\u001b[0m,                                                                     \n",
       "           \u001b[32m\"shortRatio\"\u001b[0m: \u001b[1;36m0.77\u001b[0m,                                                                                     \n",
       "           \u001b[32m\"shortPercentOfFloat\"\u001b[0m: \u001b[1;36m0.0276\u001b[0m,                                                                          \n",
       "           \u001b[32m\"impliedSharesOutstanding\"\u001b[0m: \u001b[1;36m3210060032\u001b[0m,                                                                 \n",
       "           \u001b[32m\"bookValue\"\u001b[0m: \u001b[1;36m21.806\u001b[0m,                                                                                    \n",
       "           \u001b[32m\"priceToBook\"\u001b[0m: \u001b[1;36m20.005045\u001b[0m,                                                                               \n",
       "           \u001b[32m\"lastFiscalYearEnd\"\u001b[0m: \u001b[1;36m1703980800\u001b[0m,                                                                        \n",
       "           \u001b[32m\"nextFiscalYearEnd\"\u001b[0m: \u001b[1;36m1735603200\u001b[0m,                                                                        \n",
       "           \u001b[32m\"mostRecentQuarter\"\u001b[0m: \u001b[1;36m1727654400\u001b[0m,                                                                        \n",
       "           \u001b[32m\"earningsQuarterlyGrowth\"\u001b[0m: \u001b[1;36m0.169\u001b[0m,                                                                       \n",
       "           \u001b[32m\"netIncomeToCommon\"\u001b[0m: \u001b[1;36m12743000064\u001b[0m,                                                                       \n",
       "           \u001b[32m\"trailingEps\"\u001b[0m: \u001b[1;36m3.66\u001b[0m,                                                                                    \n",
       "           \u001b[32m\"forwardEps\"\u001b[0m: \u001b[1;36m3.24\u001b[0m,                                                                                     \n",
       "           \u001b[32m\"lastSplitFactor\"\u001b[0m: \u001b[32m\"3:1\"\u001b[0m,                                                                               \n",
       "           \u001b[32m\"lastSplitDate\"\u001b[0m: \u001b[1;36m1661385600\u001b[0m,                                                                            \n",
       "           \u001b[32m\"enterpriseToRevenue\"\u001b[0m: \u001b[1;36m14.207\u001b[0m,                                                                          \n",
       "           \u001b[32m\"enterpriseToEbitda\"\u001b[0m: \u001b[1;36m104.216\u001b[0m,                                                                          \n",
       "           \u001b[32m\"52WeekChange\"\u001b[0m: \u001b[1;36m0.73052204\u001b[0m,                                                                             \n",
       "           \u001b[32m\"SandP52WeekChange\"\u001b[0m: \u001b[1;36m0.2764505\u001b[0m,                                                                         \n",
       "           \u001b[32m\"exchange\"\u001b[0m: \u001b[32m\"NMS\"\u001b[0m,                                                                                      \n",
       "           \u001b[32m\"quoteType\"\u001b[0m: \u001b[32m\"EQUITY\"\u001b[0m,                                                                                  \n",
       "           \u001b[32m\"symbol\"\u001b[0m: \u001b[32m\"TSLA\"\u001b[0m,                                                                                       \n",
       "           \u001b[32m\"underlyingSymbol\"\u001b[0m: \u001b[32m\"TSLA\"\u001b[0m,                                                                             \n",
       "           \u001b[32m\"shortName\"\u001b[0m: \u001b[32m\"Tesla, Inc.\"\u001b[0m,                                                                             \n",
       "           \u001b[32m\"longName\"\u001b[0m: \u001b[32m\"Tesla, Inc.\"\u001b[0m,                                                                              \n",
       "           \u001b[32m\"firstTradeDateEpochUtc\"\u001b[0m: \u001b[1;36m1277818200\u001b[0m,                                                                   \n",
       "           \u001b[32m\"timeZoneFullName\"\u001b[0m: \u001b[32m\"America/New_York\"\u001b[0m,                                                                 \n",
       "           \u001b[32m\"timeZoneShortName\"\u001b[0m: \u001b[32m\"EST\"\u001b[0m,                                                                             \n",
       "           \u001b[32m\"uuid\"\u001b[0m: \u001b[32m\"ec367bc4-f92c-397c-ac81-bf7b43cffaf7\"\u001b[0m,                                                         \n",
       "           \u001b[32m\"messageBoardId\"\u001b[0m: \u001b[32m\"finmb_27444752\"\u001b[0m,                                                                     \n",
       "           \u001b[32m\"gmtOffSetMilliseconds\"\u001b[0m: \u001b[1;36m-18000000\u001b[0m,                                                                     \n",
       "           \u001b[32m\"currentPrice\"\u001b[0m: \u001b[1;36m436.23\u001b[0m,                                                                                 \n",
       "           \u001b[32m\"targetHighPrice\"\u001b[0m: \u001b[1;36m421.0\u001b[0m,                                                                               \n",
       "           \u001b[32m\"targetLowPrice\"\u001b[0m: \u001b[1;36m116.0\u001b[0m,                                                                                \n",
       "           \u001b[32m\"targetMeanPrice\"\u001b[0m: \u001b[1;36m262.8769\u001b[0m,                                                                            \n",
       "           \u001b[32m\"targetMedianPrice\"\u001b[0m: \u001b[1;36m255.0\u001b[0m,                                                                             \n",
       "           \u001b[32m\"recommendationMean\"\u001b[0m: \u001b[1;36m2.77083\u001b[0m,                                                                          \n",
       "           \u001b[32m\"recommendationKey\"\u001b[0m: \u001b[32m\"hold\"\u001b[0m,                                                                            \n",
       "           \u001b[32m\"numberOfAnalystOpinions\"\u001b[0m: \u001b[1;36m42\u001b[0m,                                                                          \n",
       "           \u001b[32m\"totalCash\"\u001b[0m: \u001b[1;36m33648001024\u001b[0m,                                                                               \n",
       "           \u001b[32m\"totalCashPerShare\"\u001b[0m: \u001b[1;36m10.482\u001b[0m,                                                                            \n",
       "           \u001b[32m\"ebitda\"\u001b[0m: \u001b[1;36m13244000256\u001b[0m,                                                                                  \n",
       "           \u001b[32m\"totalDebt\"\u001b[0m: \u001b[1;36m12782999552\u001b[0m,                                                                               \n",
       "           \u001b[32m\"quickRatio\"\u001b[0m: \u001b[1;36m1.214\u001b[0m,                                                                                    \n",
       "           \u001b[32m\"currentRatio\"\u001b[0m: \u001b[1;36m1.844\u001b[0m,                                                                                  \n",
       "           \u001b[32m\"totalRevenue\"\u001b[0m: \u001b[1;36m97150001152\u001b[0m,                                                                            \n",
       "           \u001b[32m\"debtToEquity\"\u001b[0m: \u001b[1;36m18.078\u001b[0m,                                                                                 \n",
       "           \u001b[32m\"revenuePerShare\"\u001b[0m: \u001b[1;36m30.457\u001b[0m,                                                                              \n",
       "           \u001b[32m\"returnOnAssets\"\u001b[0m: \u001b[1;36m0.04759\u001b[0m,                                                                              \n",
       "           \u001b[32m\"returnOnEquity\"\u001b[0m: \u001b[1;36m0.20389\u001b[0m,                                                                              \n",
       "           \u001b[32m\"freeCashflow\"\u001b[0m: \u001b[1;36m676625024\u001b[0m,                                                                              \n",
       "           \u001b[32m\"operatingCashflow\"\u001b[0m: \u001b[1;36m14478999552\u001b[0m,                                                                       \n",
       "           \u001b[32m\"earningsGrowth\"\u001b[0m: \u001b[1;36m0.17\u001b[0m,                                                                                 \n",
       "           \u001b[32m\"revenueGrowth\"\u001b[0m: \u001b[1;36m0.078\u001b[0m,                                                                                 \n",
       "           \u001b[32m\"grossMargins\"\u001b[0m: \u001b[1;36m0.18229\u001b[0m,                                                                                \n",
       "           \u001b[32m\"ebitdaMargins\"\u001b[0m: \u001b[1;36m0.13633001\u001b[0m,                                                                            \n",
       "           \u001b[32m\"operatingMargins\"\u001b[0m: \u001b[1;36m0.107889995\u001b[0m,                                                                        \n",
       "           \u001b[32m\"financialCurrency\"\u001b[0m: \u001b[32m\"USD\"\u001b[0m,                                                                             \n",
       "           \u001b[32m\"trailingPegRatio\"\u001b[0m: \u001b[1;36m12.0948\u001b[0m                                                                             \n",
       "         \u001b[1m}\u001b[0m                                                                                                         \n"
      ]
     },
     "metadata": {},
     "output_type": "display_data"
    },
    {
     "data": {
      "text/html": [
       "<pre style=\"white-space:pre;overflow-x:auto;line-height:normal;font-family:Menlo,'DejaVu Sans Mono',consolas,'Courier New',monospace\"><span style=\"color: #008000; text-decoration-color: #008000\">DEBUG   </span> ============== tool ==============                                                                        \n",
       "</pre>\n"
      ],
      "text/plain": [
       "\u001b[32mDEBUG   \u001b[0m ============== tool ==============                                                                        \n"
      ]
     },
     "metadata": {},
     "output_type": "display_data"
    },
    {
     "data": {
      "text/html": [
       "<pre style=\"white-space:pre;overflow-x:auto;line-height:normal;font-family:Menlo,'DejaVu Sans Mono',consolas,'Courier New',monospace\"><span style=\"color: #008000; text-decoration-color: #008000\">DEBUG   </span> Tool call Id: call_GkjuCrHPUiQ5rPeiqPxnaa7n                                                               \n",
       "</pre>\n"
      ],
      "text/plain": [
       "\u001b[32mDEBUG   \u001b[0m Tool call Id: call_GkjuCrHPUiQ5rPeiqPxnaa7n                                                               \n"
      ]
     },
     "metadata": {},
     "output_type": "display_data"
    },
    {
     "data": {
      "text/html": [
       "<pre style=\"white-space:pre;overflow-x:auto;line-height:normal;font-family:Menlo,'DejaVu Sans Mono',consolas,'Courier New',monospace\"><span style=\"color: #008000; text-decoration-color: #008000\">DEBUG   </span> <span style=\"font-weight: bold\">{</span>                                                                                                         \n",
       "           <span style=\"color: #008000; text-decoration-color: #008000\">\"address1\"</span>: <span style=\"color: #008000; text-decoration-color: #008000\">\"1600 Amphitheatre Parkway\"</span>,                                                                \n",
       "           <span style=\"color: #008000; text-decoration-color: #008000\">\"city\"</span>: <span style=\"color: #008000; text-decoration-color: #008000\">\"Mountain View\"</span>,                                                                                \n",
       "           <span style=\"color: #008000; text-decoration-color: #008000\">\"state\"</span>: <span style=\"color: #008000; text-decoration-color: #008000\">\"CA\"</span>,                                                                                          \n",
       "           <span style=\"color: #008000; text-decoration-color: #008000\">\"zip\"</span>: <span style=\"color: #008000; text-decoration-color: #008000\">\"94043\"</span>,                                                                                         \n",
       "           <span style=\"color: #008000; text-decoration-color: #008000\">\"country\"</span>: <span style=\"color: #008000; text-decoration-color: #008000\">\"United States\"</span>,                                                                             \n",
       "           <span style=\"color: #008000; text-decoration-color: #008000\">\"phone\"</span>: <span style=\"color: #008000; text-decoration-color: #008000\">\"650 253 0000\"</span>,                                                                                \n",
       "           <span style=\"color: #008000; text-decoration-color: #008000\">\"website\"</span>: <span style=\"color: #008000; text-decoration-color: #008000\">\"https://abc.xyz\"</span>,                                                                           \n",
       "           <span style=\"color: #008000; text-decoration-color: #008000\">\"industry\"</span>: <span style=\"color: #008000; text-decoration-color: #008000\">\"Internet Content &amp; Information\"</span>,                                                           \n",
       "           <span style=\"color: #008000; text-decoration-color: #008000\">\"industryKey\"</span>: <span style=\"color: #008000; text-decoration-color: #008000\">\"internet-content-information\"</span>,                                                          \n",
       "           <span style=\"color: #008000; text-decoration-color: #008000\">\"industryDisp\"</span>: <span style=\"color: #008000; text-decoration-color: #008000\">\"Internet Content &amp; Information\"</span>,                                                       \n",
       "           <span style=\"color: #008000; text-decoration-color: #008000\">\"sector\"</span>: <span style=\"color: #008000; text-decoration-color: #008000\">\"Communication Services\"</span>,                                                                     \n",
       "           <span style=\"color: #008000; text-decoration-color: #008000\">\"sectorKey\"</span>: <span style=\"color: #008000; text-decoration-color: #008000\">\"communication-services\"</span>,                                                                  \n",
       "           <span style=\"color: #008000; text-decoration-color: #008000\">\"sectorDisp\"</span>: <span style=\"color: #008000; text-decoration-color: #008000\">\"Communication Services\"</span>,                                                                 \n",
       "           <span style=\"color: #008000; text-decoration-color: #008000\">\"longBusinessSummary\"</span>: <span style=\"color: #008000; text-decoration-color: #008000\">\"Alphabet Inc. offers various products and platforms in the United States, </span>      \n",
       "         <span style=\"color: #008000; text-decoration-color: #008000\">Europe, the Middle East, Africa, the Asia-Pacific, Canada, and Latin America. It operates through Google </span> \n",
       "         <span style=\"color: #008000; text-decoration-color: #008000\">Services, Google Cloud, and Other Bets segments. The Google Services segment provides products and </span>       \n",
       "         <span style=\"color: #008000; text-decoration-color: #008000\">services, including ads, Android, Chrome, devices, Gmail, Google Drive, Google Maps, Google Photos, Google</span>\n",
       "         <span style=\"color: #008000; text-decoration-color: #008000\">Play, Search, and YouTube. It is also involved in the sale of apps and in-app purchases and digital </span>      \n",
       "         <span style=\"color: #008000; text-decoration-color: #008000\">content in the Google Play and YouTube; and devices, as well as in the provision of YouTube consumer </span>     \n",
       "         <span style=\"color: #008000; text-decoration-color: #008000\">subscription services. The Google Cloud segment offers infrastructure, cybersecurity, databases, </span>         \n",
       "         <span style=\"color: #008000; text-decoration-color: #008000\">analytics, AI, and other services; Google Workspace that include cloud-based communication and </span>           \n",
       "         <span style=\"color: #008000; text-decoration-color: #008000\">collaboration tools for enterprises, such as Gmail, Docs, Drive, Calendar, and Meet; and other services </span>  \n",
       "         <span style=\"color: #008000; text-decoration-color: #008000\">for enterprise customers. The Other Bets segment sells healthcare-related and internet services. The </span>     \n",
       "         <span style=\"color: #008000; text-decoration-color: #008000\">company was incorporated in 1998 and is headquartered in Mountain View, California.\"</span>,                     \n",
       "           <span style=\"color: #008000; text-decoration-color: #008000\">\"fullTimeEmployees\"</span>: <span style=\"color: #008080; text-decoration-color: #008080; font-weight: bold\">181269</span>,                                                                            \n",
       "           <span style=\"color: #008000; text-decoration-color: #008000\">\"companyOfficers\"</span>: <span style=\"font-weight: bold\">[</span>                                                                                    \n",
       "             <span style=\"font-weight: bold\">{</span>                                                                                                     \n",
       "               <span style=\"color: #008000; text-decoration-color: #008000\">\"maxAge\"</span>: <span style=\"color: #008080; text-decoration-color: #008080; font-weight: bold\">1</span>,                                                                                        \n",
       "               <span style=\"color: #008000; text-decoration-color: #008000\">\"name\"</span>: <span style=\"color: #008000; text-decoration-color: #008000\">\"Mr. Sundar  Pichai\"</span>,                                                                       \n",
       "               <span style=\"color: #008000; text-decoration-color: #008000\">\"age\"</span>: <span style=\"color: #008080; text-decoration-color: #008080; font-weight: bold\">50</span>,                                                                                          \n",
       "               <span style=\"color: #008000; text-decoration-color: #008000\">\"title\"</span>: <span style=\"color: #008000; text-decoration-color: #008000\">\"CEO &amp; Director\"</span>,                                                                          \n",
       "               <span style=\"color: #008000; text-decoration-color: #008000\">\"yearBorn\"</span>: <span style=\"color: #008080; text-decoration-color: #008080; font-weight: bold\">1973</span>,                                                                                   \n",
       "               <span style=\"color: #008000; text-decoration-color: #008000\">\"fiscalYear\"</span>: <span style=\"color: #008080; text-decoration-color: #008080; font-weight: bold\">2023</span>,                                                                                 \n",
       "               <span style=\"color: #008000; text-decoration-color: #008000\">\"totalPay\"</span>: <span style=\"color: #008080; text-decoration-color: #008080; font-weight: bold\">8802824</span>,                                                                                \n",
       "               <span style=\"color: #008000; text-decoration-color: #008000\">\"exercisedValue\"</span>: <span style=\"color: #008080; text-decoration-color: #008080; font-weight: bold\">0</span>,                                                                                \n",
       "               <span style=\"color: #008000; text-decoration-color: #008000\">\"unexercisedValue\"</span>: <span style=\"color: #008080; text-decoration-color: #008080; font-weight: bold\">0</span>                                                                               \n",
       "             <span style=\"font-weight: bold\">}</span>,                                                                                                    \n",
       "             <span style=\"font-weight: bold\">{</span>                                                                                                     \n",
       "               <span style=\"color: #008000; text-decoration-color: #008000\">\"maxAge\"</span>: <span style=\"color: #008080; text-decoration-color: #008080; font-weight: bold\">1</span>,                                                                                        \n",
       "               <span style=\"color: #008000; text-decoration-color: #008000\">\"name\"</span>: <span style=\"color: #008000; text-decoration-color: #008000\">\"Ms. Ruth M. Porat\"</span>,                                                                        \n",
       "               <span style=\"color: #008000; text-decoration-color: #008000\">\"age\"</span>: <span style=\"color: #008080; text-decoration-color: #008080; font-weight: bold\">65</span>,                                                                                          \n",
       "               <span style=\"color: #008000; text-decoration-color: #008000\">\"title\"</span>: <span style=\"color: #008000; text-decoration-color: #008000\">\"President &amp; Chief Investment Officer\"</span>,                                                    \n",
       "               <span style=\"color: #008000; text-decoration-color: #008000\">\"yearBorn\"</span>: <span style=\"color: #008080; text-decoration-color: #008080; font-weight: bold\">1958</span>,                                                                                   \n",
       "               <span style=\"color: #008000; text-decoration-color: #008000\">\"fiscalYear\"</span>: <span style=\"color: #008080; text-decoration-color: #008080; font-weight: bold\">2023</span>,                                                                                 \n",
       "               <span style=\"color: #008000; text-decoration-color: #008000\">\"totalPay\"</span>: <span style=\"color: #008080; text-decoration-color: #008080; font-weight: bold\">2515700</span>,                                                                                \n",
       "               <span style=\"color: #008000; text-decoration-color: #008000\">\"exercisedValue\"</span>: <span style=\"color: #008080; text-decoration-color: #008080; font-weight: bold\">0</span>,                                                                                \n",
       "               <span style=\"color: #008000; text-decoration-color: #008000\">\"unexercisedValue\"</span>: <span style=\"color: #008080; text-decoration-color: #008080; font-weight: bold\">0</span>                                                                               \n",
       "             <span style=\"font-weight: bold\">}</span>,                                                                                                    \n",
       "             <span style=\"font-weight: bold\">{</span>                                                                                                     \n",
       "               <span style=\"color: #008000; text-decoration-color: #008000\">\"maxAge\"</span>: <span style=\"color: #008080; text-decoration-color: #008080; font-weight: bold\">1</span>,                                                                                        \n",
       "               <span style=\"color: #008000; text-decoration-color: #008000\">\"name\"</span>: <span style=\"color: #008000; text-decoration-color: #008000\">\"Dr. Lawrence Edward Page II\"</span>,                                                              \n",
       "               <span style=\"color: #008000; text-decoration-color: #008000\">\"age\"</span>: <span style=\"color: #008080; text-decoration-color: #008080; font-weight: bold\">50</span>,                                                                                          \n",
       "               <span style=\"color: #008000; text-decoration-color: #008000\">\"title\"</span>: <span style=\"color: #008000; text-decoration-color: #008000\">\"Co-Founder &amp; Director\"</span>,                                                                   \n",
       "               <span style=\"color: #008000; text-decoration-color: #008000\">\"yearBorn\"</span>: <span style=\"color: #008080; text-decoration-color: #008080; font-weight: bold\">1973</span>,                                                                                   \n",
       "               <span style=\"color: #008000; text-decoration-color: #008000\">\"fiscalYear\"</span>: <span style=\"color: #008080; text-decoration-color: #008080; font-weight: bold\">2023</span>,                                                                                 \n",
       "               <span style=\"color: #008000; text-decoration-color: #008000\">\"totalPay\"</span>: <span style=\"color: #008080; text-decoration-color: #008080; font-weight: bold\">1</span>,                                                                                      \n",
       "               <span style=\"color: #008000; text-decoration-color: #008000\">\"exercisedValue\"</span>: <span style=\"color: #008080; text-decoration-color: #008080; font-weight: bold\">0</span>,                                                                                \n",
       "               <span style=\"color: #008000; text-decoration-color: #008000\">\"unexercisedValue\"</span>: <span style=\"color: #008080; text-decoration-color: #008080; font-weight: bold\">0</span>                                                                               \n",
       "             <span style=\"font-weight: bold\">}</span>,                                                                                                    \n",
       "             <span style=\"font-weight: bold\">{</span>                                                                                                     \n",
       "               <span style=\"color: #008000; text-decoration-color: #008000\">\"maxAge\"</span>: <span style=\"color: #008080; text-decoration-color: #008080; font-weight: bold\">1</span>,                                                                                        \n",
       "               <span style=\"color: #008000; text-decoration-color: #008000\">\"name\"</span>: <span style=\"color: #008000; text-decoration-color: #008000\">\"Mr. Sergey  Brin\"</span>,                                                                         \n",
       "               <span style=\"color: #008000; text-decoration-color: #008000\">\"age\"</span>: <span style=\"color: #008080; text-decoration-color: #008080; font-weight: bold\">49</span>,                                                                                          \n",
       "               <span style=\"color: #008000; text-decoration-color: #008000\">\"title\"</span>: <span style=\"color: #008000; text-decoration-color: #008000\">\"Co-Founder &amp; Director\"</span>,                                                                   \n",
       "               <span style=\"color: #008000; text-decoration-color: #008000\">\"yearBorn\"</span>: <span style=\"color: #008080; text-decoration-color: #008080; font-weight: bold\">1974</span>,                                                                                   \n",
       "               <span style=\"color: #008000; text-decoration-color: #008000\">\"fiscalYear\"</span>: <span style=\"color: #008080; text-decoration-color: #008080; font-weight: bold\">2023</span>,                                                                                 \n",
       "               <span style=\"color: #008000; text-decoration-color: #008000\">\"totalPay\"</span>: <span style=\"color: #008080; text-decoration-color: #008080; font-weight: bold\">1</span>,                                                                                      \n",
       "               <span style=\"color: #008000; text-decoration-color: #008000\">\"exercisedValue\"</span>: <span style=\"color: #008080; text-decoration-color: #008080; font-weight: bold\">0</span>,                                                                                \n",
       "               <span style=\"color: #008000; text-decoration-color: #008000\">\"unexercisedValue\"</span>: <span style=\"color: #008080; text-decoration-color: #008080; font-weight: bold\">0</span>                                                                               \n",
       "             <span style=\"font-weight: bold\">}</span>,                                                                                                    \n",
       "             <span style=\"font-weight: bold\">{</span>                                                                                                     \n",
       "               <span style=\"color: #008000; text-decoration-color: #008000\">\"maxAge\"</span>: <span style=\"color: #008080; text-decoration-color: #008080; font-weight: bold\">1</span>,                                                                                        \n",
       "               <span style=\"color: #008000; text-decoration-color: #008000\">\"name\"</span>: <span style=\"color: #008000; text-decoration-color: #008000\">\"Mr. J. Kent Walker\"</span>,                                                                       \n",
       "               <span style=\"color: #008000; text-decoration-color: #008000\">\"age\"</span>: <span style=\"color: #008080; text-decoration-color: #008080; font-weight: bold\">62</span>,                                                                                          \n",
       "               <span style=\"color: #008000; text-decoration-color: #008000\">\"title\"</span>: <span style=\"color: #008000; text-decoration-color: #008000\">\"President of Global Affairs, Chief Legal Officer &amp; Company Secretary\"</span>,                    \n",
       "               <span style=\"color: #008000; text-decoration-color: #008000\">\"yearBorn\"</span>: <span style=\"color: #008080; text-decoration-color: #008080; font-weight: bold\">1961</span>,                                                                                   \n",
       "               <span style=\"color: #008000; text-decoration-color: #008000\">\"fiscalYear\"</span>: <span style=\"color: #008080; text-decoration-color: #008080; font-weight: bold\">2023</span>,                                                                                 \n",
       "               <span style=\"color: #008000; text-decoration-color: #008000\">\"totalPay\"</span>: <span style=\"color: #008080; text-decoration-color: #008080; font-weight: bold\">2511737</span>,                                                                                \n",
       "               <span style=\"color: #008000; text-decoration-color: #008000\">\"exercisedValue\"</span>: <span style=\"color: #008080; text-decoration-color: #008080; font-weight: bold\">0</span>,                                                                                \n",
       "               <span style=\"color: #008000; text-decoration-color: #008000\">\"unexercisedValue\"</span>: <span style=\"color: #008080; text-decoration-color: #008080; font-weight: bold\">0</span>                                                                               \n",
       "             <span style=\"font-weight: bold\">}</span>,                                                                                                    \n",
       "             <span style=\"font-weight: bold\">{</span>                                                                                                     \n",
       "               <span style=\"color: #008000; text-decoration-color: #008000\">\"maxAge\"</span>: <span style=\"color: #008080; text-decoration-color: #008080; font-weight: bold\">1</span>,                                                                                        \n",
       "               <span style=\"color: #008000; text-decoration-color: #008000\">\"name\"</span>: <span style=\"color: #008000; text-decoration-color: #008000\">\"Dr. Prabhakar  Raghavan\"</span>,                                                                  \n",
       "               <span style=\"color: #008000; text-decoration-color: #008000\">\"age\"</span>: <span style=\"color: #008080; text-decoration-color: #008080; font-weight: bold\">62</span>,                                                                                          \n",
       "               <span style=\"color: #008000; text-decoration-color: #008000\">\"title\"</span>: <span style=\"color: #008000; text-decoration-color: #008000\">\"Senior Vice President of Knowledge and Information - Google\"</span>,                             \n",
       "               <span style=\"color: #008000; text-decoration-color: #008000\">\"yearBorn\"</span>: <span style=\"color: #008080; text-decoration-color: #008080; font-weight: bold\">1961</span>,                                                                                   \n",
       "               <span style=\"color: #008000; text-decoration-color: #008000\">\"fiscalYear\"</span>: <span style=\"color: #008080; text-decoration-color: #008080; font-weight: bold\">2023</span>,                                                                                 \n",
       "               <span style=\"color: #008000; text-decoration-color: #008000\">\"totalPay\"</span>: <span style=\"color: #008080; text-decoration-color: #008080; font-weight: bold\">2511737</span>,                                                                                \n",
       "               <span style=\"color: #008000; text-decoration-color: #008000\">\"exercisedValue\"</span>: <span style=\"color: #008080; text-decoration-color: #008080; font-weight: bold\">0</span>,                                                                                \n",
       "               <span style=\"color: #008000; text-decoration-color: #008000\">\"unexercisedValue\"</span>: <span style=\"color: #008080; text-decoration-color: #008080; font-weight: bold\">0</span>                                                                               \n",
       "             <span style=\"font-weight: bold\">}</span>,                                                                                                    \n",
       "             <span style=\"font-weight: bold\">{</span>                                                                                                     \n",
       "               <span style=\"color: #008000; text-decoration-color: #008000\">\"maxAge\"</span>: <span style=\"color: #008080; text-decoration-color: #008080; font-weight: bold\">1</span>,                                                                                        \n",
       "               <span style=\"color: #008000; text-decoration-color: #008000\">\"name\"</span>: <span style=\"color: #008000; text-decoration-color: #008000\">\"Mr. Philipp  Schindler\"</span>,                                                                   \n",
       "               <span style=\"color: #008000; text-decoration-color: #008000\">\"age\"</span>: <span style=\"color: #008080; text-decoration-color: #008080; font-weight: bold\">52</span>,                                                                                          \n",
       "               <span style=\"color: #008000; text-decoration-color: #008000\">\"title\"</span>: <span style=\"color: #008000; text-decoration-color: #008000\">\"Senior Vice President &amp; Chief Business Officer of Google\"</span>,                                \n",
       "               <span style=\"color: #008000; text-decoration-color: #008000\">\"yearBorn\"</span>: <span style=\"color: #008080; text-decoration-color: #008080; font-weight: bold\">1971</span>,                                                                                   \n",
       "               <span style=\"color: #008000; text-decoration-color: #008000\">\"fiscalYear\"</span>: <span style=\"color: #008080; text-decoration-color: #008080; font-weight: bold\">2023</span>,                                                                                 \n",
       "               <span style=\"color: #008000; text-decoration-color: #008000\">\"totalPay\"</span>: <span style=\"color: #008080; text-decoration-color: #008080; font-weight: bold\">2514032</span>,                                                                                \n",
       "               <span style=\"color: #008000; text-decoration-color: #008000\">\"exercisedValue\"</span>: <span style=\"color: #008080; text-decoration-color: #008080; font-weight: bold\">0</span>,                                                                                \n",
       "               <span style=\"color: #008000; text-decoration-color: #008000\">\"unexercisedValue\"</span>: <span style=\"color: #008080; text-decoration-color: #008080; font-weight: bold\">0</span>                                                                               \n",
       "             <span style=\"font-weight: bold\">}</span>,                                                                                                    \n",
       "             <span style=\"font-weight: bold\">{</span>                                                                                                     \n",
       "               <span style=\"color: #008000; text-decoration-color: #008000\">\"maxAge\"</span>: <span style=\"color: #008080; text-decoration-color: #008080; font-weight: bold\">1</span>,                                                                                        \n",
       "               <span style=\"color: #008000; text-decoration-color: #008000\">\"name\"</span>: <span style=\"color: #008000; text-decoration-color: #008000\">\"Ms. Anat  Ashkenazi\"</span>,                                                                      \n",
       "               <span style=\"color: #008000; text-decoration-color: #008000\">\"age\"</span>: <span style=\"color: #008080; text-decoration-color: #008080; font-weight: bold\">50</span>,                                                                                          \n",
       "               <span style=\"color: #008000; text-decoration-color: #008000\">\"title\"</span>: <span style=\"color: #008000; text-decoration-color: #008000\">\"Senior VP &amp; CFO\"</span>,                                                                         \n",
       "               <span style=\"color: #008000; text-decoration-color: #008000\">\"yearBorn\"</span>: <span style=\"color: #008080; text-decoration-color: #008080; font-weight: bold\">1973</span>,                                                                                   \n",
       "               <span style=\"color: #008000; text-decoration-color: #008000\">\"fiscalYear\"</span>: <span style=\"color: #008080; text-decoration-color: #008080; font-weight: bold\">2023</span>,                                                                                 \n",
       "               <span style=\"color: #008000; text-decoration-color: #008000\">\"exercisedValue\"</span>: <span style=\"color: #008080; text-decoration-color: #008080; font-weight: bold\">0</span>,                                                                                \n",
       "               <span style=\"color: #008000; text-decoration-color: #008000\">\"unexercisedValue\"</span>: <span style=\"color: #008080; text-decoration-color: #008080; font-weight: bold\">0</span>                                                                               \n",
       "             <span style=\"font-weight: bold\">}</span>,                                                                                                    \n",
       "             <span style=\"font-weight: bold\">{</span>                                                                                                     \n",
       "               <span style=\"color: #008000; text-decoration-color: #008000\">\"maxAge\"</span>: <span style=\"color: #008080; text-decoration-color: #008080; font-weight: bold\">1</span>,                                                                                        \n",
       "               <span style=\"color: #008000; text-decoration-color: #008000\">\"name\"</span>: <span style=\"color: #008000; text-decoration-color: #008000\">\"Ms. Amie Thuener O'Toole\"</span>,                                                                 \n",
       "               <span style=\"color: #008000; text-decoration-color: #008000\">\"age\"</span>: <span style=\"color: #008080; text-decoration-color: #008080; font-weight: bold\">48</span>,                                                                                          \n",
       "               <span style=\"color: #008000; text-decoration-color: #008000\">\"title\"</span>: <span style=\"color: #008000; text-decoration-color: #008000\">\"Chief Accounting Officer &amp; VP\"</span>,                                                           \n",
       "               <span style=\"color: #008000; text-decoration-color: #008000\">\"yearBorn\"</span>: <span style=\"color: #008080; text-decoration-color: #008080; font-weight: bold\">1975</span>,                                                                                   \n",
       "               <span style=\"color: #008000; text-decoration-color: #008000\">\"fiscalYear\"</span>: <span style=\"color: #008080; text-decoration-color: #008080; font-weight: bold\">2023</span>,                                                                                 \n",
       "               <span style=\"color: #008000; text-decoration-color: #008000\">\"exercisedValue\"</span>: <span style=\"color: #008080; text-decoration-color: #008080; font-weight: bold\">0</span>,                                                                                \n",
       "               <span style=\"color: #008000; text-decoration-color: #008000\">\"unexercisedValue\"</span>: <span style=\"color: #008080; text-decoration-color: #008080; font-weight: bold\">0</span>                                                                               \n",
       "             <span style=\"font-weight: bold\">}</span>,                                                                                                    \n",
       "             <span style=\"font-weight: bold\">{</span>                                                                                                     \n",
       "               <span style=\"color: #008000; text-decoration-color: #008000\">\"maxAge\"</span>: <span style=\"color: #008080; text-decoration-color: #008080; font-weight: bold\">1</span>,                                                                                        \n",
       "               <span style=\"color: #008000; text-decoration-color: #008000\">\"name\"</span>: <span style=\"color: #008000; text-decoration-color: #008000\">\"Ms. Ellen  West\"</span>,                                                                          \n",
       "               <span style=\"color: #008000; text-decoration-color: #008000\">\"title\"</span>: <span style=\"color: #008000; text-decoration-color: #008000\">\"Vice President of Investor Relations\"</span>,                                                    \n",
       "               <span style=\"color: #008000; text-decoration-color: #008000\">\"fiscalYear\"</span>: <span style=\"color: #008080; text-decoration-color: #008080; font-weight: bold\">2023</span>,                                                                                 \n",
       "               <span style=\"color: #008000; text-decoration-color: #008000\">\"exercisedValue\"</span>: <span style=\"color: #008080; text-decoration-color: #008080; font-weight: bold\">0</span>,                                                                                \n",
       "               <span style=\"color: #008000; text-decoration-color: #008000\">\"unexercisedValue\"</span>: <span style=\"color: #008080; text-decoration-color: #008080; font-weight: bold\">0</span>                                                                               \n",
       "             <span style=\"font-weight: bold\">}</span>                                                                                                     \n",
       "           <span style=\"font-weight: bold\">]</span>,                                                                                                      \n",
       "           <span style=\"color: #008000; text-decoration-color: #008000\">\"auditRisk\"</span>: <span style=\"color: #008080; text-decoration-color: #008080; font-weight: bold\">9</span>,                                                                                         \n",
       "           <span style=\"color: #008000; text-decoration-color: #008000\">\"boardRisk\"</span>: <span style=\"color: #008080; text-decoration-color: #008080; font-weight: bold\">7</span>,                                                                                         \n",
       "           <span style=\"color: #008000; text-decoration-color: #008000\">\"compensationRisk\"</span>: <span style=\"color: #008080; text-decoration-color: #008080; font-weight: bold\">10</span>,                                                                                 \n",
       "           <span style=\"color: #008000; text-decoration-color: #008000\">\"shareHolderRightsRisk\"</span>: <span style=\"color: #008080; text-decoration-color: #008080; font-weight: bold\">10</span>,                                                                            \n",
       "           <span style=\"color: #008000; text-decoration-color: #008000\">\"overallRisk\"</span>: <span style=\"color: #008080; text-decoration-color: #008080; font-weight: bold\">10</span>,                                                                                      \n",
       "           <span style=\"color: #008000; text-decoration-color: #008000\">\"governanceEpochDate\"</span>: <span style=\"color: #008080; text-decoration-color: #008080; font-weight: bold\">1733011200</span>,                                                                      \n",
       "           <span style=\"color: #008000; text-decoration-color: #008000\">\"compensationAsOfEpochDate\"</span>: <span style=\"color: #008080; text-decoration-color: #008080; font-weight: bold\">1703980800</span>,                                                                \n",
       "           <span style=\"color: #008000; text-decoration-color: #008000\">\"maxAge\"</span>: <span style=\"color: #008080; text-decoration-color: #008080; font-weight: bold\">86400</span>,                                                                                        \n",
       "           <span style=\"color: #008000; text-decoration-color: #008000\">\"priceHint\"</span>: <span style=\"color: #008080; text-decoration-color: #008080; font-weight: bold\">2</span>,                                                                                         \n",
       "           <span style=\"color: #008000; text-decoration-color: #008000\">\"previousClose\"</span>: <span style=\"color: #008080; text-decoration-color: #008080; font-weight: bold\">191.96</span>,                                                                                \n",
       "           <span style=\"color: #008000; text-decoration-color: #008000\">\"open\"</span>: <span style=\"color: #008080; text-decoration-color: #008080; font-weight: bold\">191.136</span>,                                                                                        \n",
       "           <span style=\"color: #008000; text-decoration-color: #008000\">\"dayLow\"</span>: <span style=\"color: #008080; text-decoration-color: #008080; font-weight: bold\">189.64</span>,                                                                                       \n",
       "           <span style=\"color: #008000; text-decoration-color: #008000\">\"dayHigh\"</span>: <span style=\"color: #008080; text-decoration-color: #008080; font-weight: bold\">192.73</span>,                                                                                      \n",
       "           <span style=\"color: #008000; text-decoration-color: #008000\">\"regularMarketPreviousClose\"</span>: <span style=\"color: #008080; text-decoration-color: #008080; font-weight: bold\">191.96</span>,                                                                   \n",
       "           <span style=\"color: #008000; text-decoration-color: #008000\">\"regularMarketOpen\"</span>: <span style=\"color: #008080; text-decoration-color: #008080; font-weight: bold\">191.136</span>,                                                                           \n",
       "           <span style=\"color: #008000; text-decoration-color: #008000\">\"regularMarketDayLow\"</span>: <span style=\"color: #008080; text-decoration-color: #008080; font-weight: bold\">189.64</span>,                                                                          \n",
       "           <span style=\"color: #008000; text-decoration-color: #008000\">\"regularMarketDayHigh\"</span>: <span style=\"color: #008080; text-decoration-color: #008080; font-weight: bold\">192.73</span>,                                                                         \n",
       "           <span style=\"color: #008000; text-decoration-color: #008000\">\"dividendRate\"</span>: <span style=\"color: #008080; text-decoration-color: #008080; font-weight: bold\">0.8</span>,                                                                                    \n",
       "           <span style=\"color: #008000; text-decoration-color: #008000\">\"dividendYield\"</span>: <span style=\"color: #008080; text-decoration-color: #008080; font-weight: bold\">0.0042</span>,                                                                                \n",
       "           <span style=\"color: #008000; text-decoration-color: #008000\">\"exDividendDate\"</span>: <span style=\"color: #008080; text-decoration-color: #008080; font-weight: bold\">1733702400</span>,                                                                           \n",
       "           <span style=\"color: #008000; text-decoration-color: #008000\">\"payoutRatio\"</span>: <span style=\"color: #008080; text-decoration-color: #008080; font-weight: bold\">0.0531</span>,                                                                                  \n",
       "           <span style=\"color: #008000; text-decoration-color: #008000\">\"beta\"</span>: <span style=\"color: #008080; text-decoration-color: #008080; font-weight: bold\">1.034</span>,                                                                                          \n",
       "           <span style=\"color: #008000; text-decoration-color: #008000\">\"trailingPE\"</span>: <span style=\"color: #008080; text-decoration-color: #008080; font-weight: bold\">25.175068</span>,                                                                                \n",
       "           <span style=\"color: #008000; text-decoration-color: #008000\">\"forwardPE\"</span>: <span style=\"color: #008080; text-decoration-color: #008080; font-weight: bold\">21.201431</span>,                                                                                 \n",
       "           <span style=\"color: #008000; text-decoration-color: #008000\">\"volume\"</span>: <span style=\"color: #008080; text-decoration-color: #008080; font-weight: bold\">23668705</span>,                                                                                     \n",
       "           <span style=\"color: #008000; text-decoration-color: #008000\">\"regularMarketVolume\"</span>: <span style=\"color: #008080; text-decoration-color: #008080; font-weight: bold\">23668705</span>,                                                                        \n",
       "           <span style=\"color: #008000; text-decoration-color: #008000\">\"averageVolume\"</span>: <span style=\"color: #008080; text-decoration-color: #008080; font-weight: bold\">26347457</span>,                                                                              \n",
       "           <span style=\"color: #008000; text-decoration-color: #008000\">\"averageVolume10days\"</span>: <span style=\"color: #008080; text-decoration-color: #008080; font-weight: bold\">32849410</span>,                                                                        \n",
       "           <span style=\"color: #008000; text-decoration-color: #008000\">\"averageDailyVolume10Day\"</span>: <span style=\"color: #008080; text-decoration-color: #008080; font-weight: bold\">32849410</span>,                                                                    \n",
       "           <span style=\"color: #008000; text-decoration-color: #008000\">\"bid\"</span>: <span style=\"color: #008080; text-decoration-color: #008080; font-weight: bold\">189.5</span>,                                                                                           \n",
       "           <span style=\"color: #008000; text-decoration-color: #008000\">\"ask\"</span>: <span style=\"color: #008080; text-decoration-color: #008080; font-weight: bold\">189.92</span>,                                                                                          \n",
       "           <span style=\"color: #008000; text-decoration-color: #008000\">\"bidSize\"</span>: <span style=\"color: #008080; text-decoration-color: #008080; font-weight: bold\">100</span>,                                                                                         \n",
       "           <span style=\"color: #008000; text-decoration-color: #008000\">\"askSize\"</span>: <span style=\"color: #008080; text-decoration-color: #008080; font-weight: bold\">500</span>,                                                                                         \n",
       "           <span style=\"color: #008000; text-decoration-color: #008000\">\"marketCap\"</span>: <span style=\"color: #008080; text-decoration-color: #008080; font-weight: bold\">2332223602688</span>,                                                                             \n",
       "           <span style=\"color: #008000; text-decoration-color: #008000\">\"fiftyTwoWeekLow\"</span>: <span style=\"color: #008080; text-decoration-color: #008080; font-weight: bold\">130.67</span>,                                                                              \n",
       "           <span style=\"color: #008000; text-decoration-color: #008000\">\"fiftyTwoWeekHigh\"</span>: <span style=\"color: #008080; text-decoration-color: #008080; font-weight: bold\">195.61</span>,                                                                             \n",
       "           <span style=\"color: #008000; text-decoration-color: #008000\">\"priceToSalesTrailing12Months\"</span>: <span style=\"color: #008080; text-decoration-color: #008080; font-weight: bold\">6.8623266</span>,                                                              \n",
       "           <span style=\"color: #008000; text-decoration-color: #008000\">\"fiftyDayAverage\"</span>: <span style=\"color: #008080; text-decoration-color: #008080; font-weight: bold\">171.5858</span>,                                                                            \n",
       "           <span style=\"color: #008000; text-decoration-color: #008000\">\"twoHundredDayAverage\"</span>: <span style=\"color: #008080; text-decoration-color: #008080; font-weight: bold\">166.4112</span>,                                                                       \n",
       "           <span style=\"color: #008000; text-decoration-color: #008000\">\"trailingAnnualDividendRate\"</span>: <span style=\"color: #008080; text-decoration-color: #008080; font-weight: bold\">0.4</span>,                                                                      \n",
       "           <span style=\"color: #008000; text-decoration-color: #008000\">\"trailingAnnualDividendYield\"</span>: <span style=\"color: #008080; text-decoration-color: #008080; font-weight: bold\">0.0020837674</span>,                                                            \n",
       "           <span style=\"color: #008000; text-decoration-color: #008000\">\"currency\"</span>: <span style=\"color: #008000; text-decoration-color: #008000\">\"USD\"</span>,                                                                                      \n",
       "           <span style=\"color: #008000; text-decoration-color: #008000\">\"enterpriseValue\"</span>: <span style=\"color: #008080; text-decoration-color: #008080; font-weight: bold\">2259645628416</span>,                                                                       \n",
       "           <span style=\"color: #008000; text-decoration-color: #008000\">\"profitMargins\"</span>: <span style=\"color: #008080; text-decoration-color: #008080; font-weight: bold\">0.27738002</span>,                                                                            \n",
       "           <span style=\"color: #008000; text-decoration-color: #008000\">\"floatShares\"</span>: <span style=\"color: #008080; text-decoration-color: #008080; font-weight: bold\">10916891030</span>,                                                                             \n",
       "           <span style=\"color: #008000; text-decoration-color: #008000\">\"sharesOutstanding\"</span>: <span style=\"color: #008080; text-decoration-color: #008080; font-weight: bold\">5842999808</span>,                                                                        \n",
       "           <span style=\"color: #008000; text-decoration-color: #008000\">\"sharesShort\"</span>: <span style=\"color: #008080; text-decoration-color: #008080; font-weight: bold\">69788857</span>,                                                                                \n",
       "           <span style=\"color: #008000; text-decoration-color: #008000\">\"sharesShortPriorMonth\"</span>: <span style=\"color: #008080; text-decoration-color: #008080; font-weight: bold\">64260354</span>,                                                                      \n",
       "           <span style=\"color: #008000; text-decoration-color: #008000\">\"sharesShortPreviousMonthDate\"</span>: <span style=\"color: #008080; text-decoration-color: #008080; font-weight: bold\">1730332800</span>,                                                             \n",
       "           <span style=\"color: #008000; text-decoration-color: #008000\">\"dateShortInterest\"</span>: <span style=\"color: #008080; text-decoration-color: #008080; font-weight: bold\">1732838400</span>,                                                                        \n",
       "           <span style=\"color: #008000; text-decoration-color: #008000\">\"sharesPercentSharesOut\"</span>: <span style=\"color: #008080; text-decoration-color: #008080; font-weight: bold\">0.0057</span>,                                                                       \n",
       "           <span style=\"color: #008000; text-decoration-color: #008000\">\"heldPercentInsiders\"</span>: <span style=\"color: #008080; text-decoration-color: #008080; font-weight: bold\">0.0025099998</span>,                                                                    \n",
       "           <span style=\"color: #008000; text-decoration-color: #008000\">\"heldPercentInstitutions\"</span>: <span style=\"color: #008080; text-decoration-color: #008080; font-weight: bold\">0.80667996</span>,                                                                  \n",
       "           <span style=\"color: #008000; text-decoration-color: #008000\">\"shortRatio\"</span>: <span style=\"color: #008080; text-decoration-color: #008080; font-weight: bold\">2.34</span>,                                                                                     \n",
       "           <span style=\"color: #008000; text-decoration-color: #008000\">\"shortPercentOfFloat\"</span>: <span style=\"color: #008080; text-decoration-color: #008080; font-weight: bold\">0.012</span>,                                                                           \n",
       "           <span style=\"color: #008000; text-decoration-color: #008000\">\"impliedSharesOutstanding\"</span>: <span style=\"color: #008080; text-decoration-color: #008080; font-weight: bold\">12286499840</span>,                                                                \n",
       "           <span style=\"color: #008000; text-decoration-color: #008000\">\"bookValue\"</span>: <span style=\"color: #008080; text-decoration-color: #008080; font-weight: bold\">25.613</span>,                                                                                    \n",
       "           <span style=\"color: #008000; text-decoration-color: #008000\">\"priceToBook\"</span>: <span style=\"color: #008080; text-decoration-color: #008080; font-weight: bold\">7.4110804</span>,                                                                               \n",
       "           <span style=\"color: #008000; text-decoration-color: #008000\">\"lastFiscalYearEnd\"</span>: <span style=\"color: #008080; text-decoration-color: #008080; font-weight: bold\">1703980800</span>,                                                                        \n",
       "           <span style=\"color: #008000; text-decoration-color: #008000\">\"nextFiscalYearEnd\"</span>: <span style=\"color: #008080; text-decoration-color: #008080; font-weight: bold\">1735603200</span>,                                                                        \n",
       "           <span style=\"color: #008000; text-decoration-color: #008000\">\"mostRecentQuarter\"</span>: <span style=\"color: #008080; text-decoration-color: #008080; font-weight: bold\">1727654400</span>,                                                                        \n",
       "           <span style=\"color: #008000; text-decoration-color: #008000\">\"earningsQuarterlyGrowth\"</span>: <span style=\"color: #008080; text-decoration-color: #008080; font-weight: bold\">0.336</span>,                                                                       \n",
       "           <span style=\"color: #008000; text-decoration-color: #008000\">\"netIncomeToCommon\"</span>: <span style=\"color: #008080; text-decoration-color: #008080; font-weight: bold\">94268997632</span>,                                                                       \n",
       "           <span style=\"color: #008000; text-decoration-color: #008000\">\"trailingEps\"</span>: <span style=\"color: #008080; text-decoration-color: #008080; font-weight: bold\">7.54</span>,                                                                                    \n",
       "           <span style=\"color: #008000; text-decoration-color: #008000\">\"forwardEps\"</span>: <span style=\"color: #008080; text-decoration-color: #008080; font-weight: bold\">8.96</span>,                                                                                     \n",
       "           <span style=\"color: #008000; text-decoration-color: #008000\">\"lastSplitFactor\"</span>: <span style=\"color: #008000; text-decoration-color: #008000\">\"20:1\"</span>,                                                                              \n",
       "           <span style=\"color: #008000; text-decoration-color: #008000\">\"lastSplitDate\"</span>: <span style=\"color: #008080; text-decoration-color: #008080; font-weight: bold\">1658102400</span>,                                                                            \n",
       "           <span style=\"color: #008000; text-decoration-color: #008000\">\"enterpriseToRevenue\"</span>: <span style=\"color: #008080; text-decoration-color: #008080; font-weight: bold\">6.649</span>,                                                                           \n",
       "           <span style=\"color: #008000; text-decoration-color: #008000\">\"enterpriseToEbitda\"</span>: <span style=\"color: #008080; text-decoration-color: #008080; font-weight: bold\">18.301</span>,                                                                           \n",
       "           <span style=\"color: #008000; text-decoration-color: #008000\">\"52WeekChange\"</span>: <span style=\"color: #008080; text-decoration-color: #008080; font-weight: bold\">0.3977909</span>,                                                                              \n",
       "           <span style=\"color: #008000; text-decoration-color: #008000\">\"SandP52WeekChange\"</span>: <span style=\"color: #008080; text-decoration-color: #008080; font-weight: bold\">0.2764505</span>,                                                                         \n",
       "           <span style=\"color: #008000; text-decoration-color: #008000\">\"lastDividendValue\"</span>: <span style=\"color: #008080; text-decoration-color: #008080; font-weight: bold\">0.2</span>,                                                                               \n",
       "           <span style=\"color: #008000; text-decoration-color: #008000\">\"lastDividendDate\"</span>: <span style=\"color: #008080; text-decoration-color: #008080; font-weight: bold\">1733702400</span>,                                                                         \n",
       "           <span style=\"color: #008000; text-decoration-color: #008000\">\"exchange\"</span>: <span style=\"color: #008000; text-decoration-color: #008000\">\"NMS\"</span>,                                                                                      \n",
       "           <span style=\"color: #008000; text-decoration-color: #008000\">\"quoteType\"</span>: <span style=\"color: #008000; text-decoration-color: #008000\">\"EQUITY\"</span>,                                                                                  \n",
       "           <span style=\"color: #008000; text-decoration-color: #008000\">\"symbol\"</span>: <span style=\"color: #008000; text-decoration-color: #008000\">\"GOOGL\"</span>,                                                                                      \n",
       "           <span style=\"color: #008000; text-decoration-color: #008000\">\"underlyingSymbol\"</span>: <span style=\"color: #008000; text-decoration-color: #008000\">\"GOOGL\"</span>,                                                                            \n",
       "           <span style=\"color: #008000; text-decoration-color: #008000\">\"shortName\"</span>: <span style=\"color: #008000; text-decoration-color: #008000\">\"Alphabet Inc.\"</span>,                                                                           \n",
       "           <span style=\"color: #008000; text-decoration-color: #008000\">\"longName\"</span>: <span style=\"color: #008000; text-decoration-color: #008000\">\"Alphabet Inc.\"</span>,                                                                            \n",
       "           <span style=\"color: #008000; text-decoration-color: #008000\">\"firstTradeDateEpochUtc\"</span>: <span style=\"color: #008080; text-decoration-color: #008080; font-weight: bold\">1092922200</span>,                                                                   \n",
       "           <span style=\"color: #008000; text-decoration-color: #008000\">\"timeZoneFullName\"</span>: <span style=\"color: #008000; text-decoration-color: #008000\">\"America/New_York\"</span>,                                                                 \n",
       "           <span style=\"color: #008000; text-decoration-color: #008000\">\"timeZoneShortName\"</span>: <span style=\"color: #008000; text-decoration-color: #008000\">\"EST\"</span>,                                                                             \n",
       "           <span style=\"color: #008000; text-decoration-color: #008000\">\"uuid\"</span>: <span style=\"color: #008000; text-decoration-color: #008000\">\"e15ce71f-f533-3912-9f11-a46c09e2412b\"</span>,                                                         \n",
       "           <span style=\"color: #008000; text-decoration-color: #008000\">\"messageBoardId\"</span>: <span style=\"color: #008000; text-decoration-color: #008000\">\"finmb_29096\"</span>,                                                                        \n",
       "           <span style=\"color: #008000; text-decoration-color: #008000\">\"gmtOffSetMilliseconds\"</span>: <span style=\"color: #008080; text-decoration-color: #008080; font-weight: bold\">-18000000</span>,                                                                     \n",
       "           <span style=\"color: #008000; text-decoration-color: #008000\">\"currentPrice\"</span>: <span style=\"color: #008080; text-decoration-color: #008080; font-weight: bold\">189.82</span>,                                                                                 \n",
       "           <span style=\"color: #008000; text-decoration-color: #008000\">\"targetHighPrice\"</span>: <span style=\"color: #008080; text-decoration-color: #008080; font-weight: bold\">240.0</span>,                                                                               \n",
       "           <span style=\"color: #008000; text-decoration-color: #008000\">\"targetLowPrice\"</span>: <span style=\"color: #008080; text-decoration-color: #008080; font-weight: bold\">151.0</span>,                                                                                \n",
       "           <span style=\"color: #008000; text-decoration-color: #008000\">\"targetMeanPrice\"</span>: <span style=\"color: #008080; text-decoration-color: #008080; font-weight: bold\">209.84563</span>,                                                                           \n",
       "           <span style=\"color: #008000; text-decoration-color: #008000\">\"targetMedianPrice\"</span>: <span style=\"color: #008080; text-decoration-color: #008080; font-weight: bold\">211.0</span>,                                                                             \n",
       "           <span style=\"color: #008000; text-decoration-color: #008000\">\"recommendationMean\"</span>: <span style=\"color: #008080; text-decoration-color: #008080; font-weight: bold\">1.58065</span>,                                                                          \n",
       "           <span style=\"color: #008000; text-decoration-color: #008000\">\"recommendationKey\"</span>: <span style=\"color: #008000; text-decoration-color: #008000\">\"buy\"</span>,                                                                             \n",
       "           <span style=\"color: #008000; text-decoration-color: #008000\">\"numberOfAnalystOpinions\"</span>: <span style=\"color: #008080; text-decoration-color: #008080; font-weight: bold\">48</span>,                                                                          \n",
       "           <span style=\"color: #008000; text-decoration-color: #008000\">\"totalCash\"</span>: <span style=\"color: #008080; text-decoration-color: #008080; font-weight: bold\">93229998080</span>,                                                                               \n",
       "           <span style=\"color: #008000; text-decoration-color: #008000\">\"totalCashPerShare\"</span>: <span style=\"color: #008080; text-decoration-color: #008080; font-weight: bold\">7.616</span>,                                                                             \n",
       "           <span style=\"color: #008000; text-decoration-color: #008000\">\"ebitda\"</span>: <span style=\"color: #008080; text-decoration-color: #008080; font-weight: bold\">123469996032</span>,                                                                                 \n",
       "           <span style=\"color: #008000; text-decoration-color: #008000\">\"totalDebt\"</span>: <span style=\"color: #008080; text-decoration-color: #008080; font-weight: bold\">29289000960</span>,                                                                               \n",
       "           <span style=\"color: #008000; text-decoration-color: #008000\">\"quickRatio\"</span>: <span style=\"color: #008080; text-decoration-color: #008080; font-weight: bold\">1.761</span>,                                                                                    \n",
       "           <span style=\"color: #008000; text-decoration-color: #008000\">\"currentRatio\"</span>: <span style=\"color: #008080; text-decoration-color: #008080; font-weight: bold\">1.95</span>,                                                                                   \n",
       "           <span style=\"color: #008000; text-decoration-color: #008000\">\"totalRevenue\"</span>: <span style=\"color: #008080; text-decoration-color: #008080; font-weight: bold\">339859013632</span>,                                                                           \n",
       "           <span style=\"color: #008000; text-decoration-color: #008000\">\"debtToEquity\"</span>: <span style=\"color: #008080; text-decoration-color: #008080; font-weight: bold\">9.324</span>,                                                                                  \n",
       "           <span style=\"color: #008000; text-decoration-color: #008000\">\"revenuePerShare\"</span>: <span style=\"color: #008080; text-decoration-color: #008080; font-weight: bold\">27.443</span>,                                                                              \n",
       "           <span style=\"color: #008000; text-decoration-color: #008000\">\"returnOnAssets\"</span>: <span style=\"color: #008080; text-decoration-color: #008080; font-weight: bold\">0.16483</span>,                                                                              \n",
       "           <span style=\"color: #008000; text-decoration-color: #008000\">\"returnOnEquity\"</span>: <span style=\"color: #008080; text-decoration-color: #008080; font-weight: bold\">0.32101002</span>,                                                                           \n",
       "           <span style=\"color: #008000; text-decoration-color: #008000\">\"freeCashflow\"</span>: <span style=\"color: #008080; text-decoration-color: #008080; font-weight: bold\">41104498688</span>,                                                                            \n",
       "           <span style=\"color: #008000; text-decoration-color: #008000\">\"operatingCashflow\"</span>: <span style=\"color: #008080; text-decoration-color: #008080; font-weight: bold\">105101000704</span>,                                                                      \n",
       "           <span style=\"color: #008000; text-decoration-color: #008000\">\"earningsGrowth\"</span>: <span style=\"color: #008080; text-decoration-color: #008080; font-weight: bold\">0.366</span>,                                                                                \n",
       "           <span style=\"color: #008000; text-decoration-color: #008000\">\"revenueGrowth\"</span>: <span style=\"color: #008080; text-decoration-color: #008080; font-weight: bold\">0.151</span>,                                                                                 \n",
       "           <span style=\"color: #008000; text-decoration-color: #008000\">\"grossMargins\"</span>: <span style=\"color: #008080; text-decoration-color: #008080; font-weight: bold\">0.58127</span>,                                                                                \n",
       "           <span style=\"color: #008000; text-decoration-color: #008000\">\"ebitdaMargins\"</span>: <span style=\"color: #008080; text-decoration-color: #008080; font-weight: bold\">0.36330003</span>,                                                                            \n",
       "           <span style=\"color: #008000; text-decoration-color: #008000\">\"operatingMargins\"</span>: <span style=\"color: #008080; text-decoration-color: #008080; font-weight: bold\">0.32312</span>,                                                                            \n",
       "           <span style=\"color: #008000; text-decoration-color: #008000\">\"financialCurrency\"</span>: <span style=\"color: #008000; text-decoration-color: #008000\">\"USD\"</span>,                                                                             \n",
       "           <span style=\"color: #008000; text-decoration-color: #008000\">\"trailingPegRatio\"</span>: <span style=\"color: #008080; text-decoration-color: #008080; font-weight: bold\">1.1882</span>                                                                              \n",
       "         <span style=\"font-weight: bold\">}</span>                                                                                                         \n",
       "</pre>\n"
      ],
      "text/plain": [
       "\u001b[32mDEBUG   \u001b[0m \u001b[1m{\u001b[0m                                                                                                         \n",
       "           \u001b[32m\"address1\"\u001b[0m: \u001b[32m\"1600 Amphitheatre Parkway\"\u001b[0m,                                                                \n",
       "           \u001b[32m\"city\"\u001b[0m: \u001b[32m\"Mountain View\"\u001b[0m,                                                                                \n",
       "           \u001b[32m\"state\"\u001b[0m: \u001b[32m\"CA\"\u001b[0m,                                                                                          \n",
       "           \u001b[32m\"zip\"\u001b[0m: \u001b[32m\"94043\"\u001b[0m,                                                                                         \n",
       "           \u001b[32m\"country\"\u001b[0m: \u001b[32m\"United States\"\u001b[0m,                                                                             \n",
       "           \u001b[32m\"phone\"\u001b[0m: \u001b[32m\"650 253 0000\"\u001b[0m,                                                                                \n",
       "           \u001b[32m\"website\"\u001b[0m: \u001b[32m\"https://abc.xyz\"\u001b[0m,                                                                           \n",
       "           \u001b[32m\"industry\"\u001b[0m: \u001b[32m\"Internet Content & Information\"\u001b[0m,                                                           \n",
       "           \u001b[32m\"industryKey\"\u001b[0m: \u001b[32m\"internet-content-information\"\u001b[0m,                                                          \n",
       "           \u001b[32m\"industryDisp\"\u001b[0m: \u001b[32m\"Internet Content & Information\"\u001b[0m,                                                       \n",
       "           \u001b[32m\"sector\"\u001b[0m: \u001b[32m\"Communication Services\"\u001b[0m,                                                                     \n",
       "           \u001b[32m\"sectorKey\"\u001b[0m: \u001b[32m\"communication-services\"\u001b[0m,                                                                  \n",
       "           \u001b[32m\"sectorDisp\"\u001b[0m: \u001b[32m\"Communication Services\"\u001b[0m,                                                                 \n",
       "           \u001b[32m\"longBusinessSummary\"\u001b[0m: \u001b[32m\"Alphabet Inc. offers various products and platforms in the United States, \u001b[0m      \n",
       "         \u001b[32mEurope, the Middle East, Africa, the Asia-Pacific, Canada, and Latin America. It operates through Google \u001b[0m \n",
       "         \u001b[32mServices, Google Cloud, and Other Bets segments. The Google Services segment provides products and \u001b[0m       \n",
       "         \u001b[32mservices, including ads, Android, Chrome, devices, Gmail, Google Drive, Google Maps, Google Photos, Google\u001b[0m\n",
       "         \u001b[32mPlay, Search, and YouTube. It is also involved in the sale of apps and in-app purchases and digital \u001b[0m      \n",
       "         \u001b[32mcontent in the Google Play and YouTube; and devices, as well as in the provision of YouTube consumer \u001b[0m     \n",
       "         \u001b[32msubscription services. The Google Cloud segment offers infrastructure, cybersecurity, databases, \u001b[0m         \n",
       "         \u001b[32manalytics, AI, and other services; Google Workspace that include cloud-based communication and \u001b[0m           \n",
       "         \u001b[32mcollaboration tools for enterprises, such as Gmail, Docs, Drive, Calendar, and Meet; and other services \u001b[0m  \n",
       "         \u001b[32mfor enterprise customers. The Other Bets segment sells healthcare-related and internet services. The \u001b[0m     \n",
       "         \u001b[32mcompany was incorporated in 1998 and is headquartered in Mountain View, California.\"\u001b[0m,                     \n",
       "           \u001b[32m\"fullTimeEmployees\"\u001b[0m: \u001b[1;36m181269\u001b[0m,                                                                            \n",
       "           \u001b[32m\"companyOfficers\"\u001b[0m: \u001b[1m[\u001b[0m                                                                                    \n",
       "             \u001b[1m{\u001b[0m                                                                                                     \n",
       "               \u001b[32m\"maxAge\"\u001b[0m: \u001b[1;36m1\u001b[0m,                                                                                        \n",
       "               \u001b[32m\"name\"\u001b[0m: \u001b[32m\"Mr. Sundar  Pichai\"\u001b[0m,                                                                       \n",
       "               \u001b[32m\"age\"\u001b[0m: \u001b[1;36m50\u001b[0m,                                                                                          \n",
       "               \u001b[32m\"title\"\u001b[0m: \u001b[32m\"CEO & Director\"\u001b[0m,                                                                          \n",
       "               \u001b[32m\"yearBorn\"\u001b[0m: \u001b[1;36m1973\u001b[0m,                                                                                   \n",
       "               \u001b[32m\"fiscalYear\"\u001b[0m: \u001b[1;36m2023\u001b[0m,                                                                                 \n",
       "               \u001b[32m\"totalPay\"\u001b[0m: \u001b[1;36m8802824\u001b[0m,                                                                                \n",
       "               \u001b[32m\"exercisedValue\"\u001b[0m: \u001b[1;36m0\u001b[0m,                                                                                \n",
       "               \u001b[32m\"unexercisedValue\"\u001b[0m: \u001b[1;36m0\u001b[0m                                                                               \n",
       "             \u001b[1m}\u001b[0m,                                                                                                    \n",
       "             \u001b[1m{\u001b[0m                                                                                                     \n",
       "               \u001b[32m\"maxAge\"\u001b[0m: \u001b[1;36m1\u001b[0m,                                                                                        \n",
       "               \u001b[32m\"name\"\u001b[0m: \u001b[32m\"Ms. Ruth M. Porat\"\u001b[0m,                                                                        \n",
       "               \u001b[32m\"age\"\u001b[0m: \u001b[1;36m65\u001b[0m,                                                                                          \n",
       "               \u001b[32m\"title\"\u001b[0m: \u001b[32m\"President & Chief Investment Officer\"\u001b[0m,                                                    \n",
       "               \u001b[32m\"yearBorn\"\u001b[0m: \u001b[1;36m1958\u001b[0m,                                                                                   \n",
       "               \u001b[32m\"fiscalYear\"\u001b[0m: \u001b[1;36m2023\u001b[0m,                                                                                 \n",
       "               \u001b[32m\"totalPay\"\u001b[0m: \u001b[1;36m2515700\u001b[0m,                                                                                \n",
       "               \u001b[32m\"exercisedValue\"\u001b[0m: \u001b[1;36m0\u001b[0m,                                                                                \n",
       "               \u001b[32m\"unexercisedValue\"\u001b[0m: \u001b[1;36m0\u001b[0m                                                                               \n",
       "             \u001b[1m}\u001b[0m,                                                                                                    \n",
       "             \u001b[1m{\u001b[0m                                                                                                     \n",
       "               \u001b[32m\"maxAge\"\u001b[0m: \u001b[1;36m1\u001b[0m,                                                                                        \n",
       "               \u001b[32m\"name\"\u001b[0m: \u001b[32m\"Dr. Lawrence Edward Page II\"\u001b[0m,                                                              \n",
       "               \u001b[32m\"age\"\u001b[0m: \u001b[1;36m50\u001b[0m,                                                                                          \n",
       "               \u001b[32m\"title\"\u001b[0m: \u001b[32m\"Co-Founder & Director\"\u001b[0m,                                                                   \n",
       "               \u001b[32m\"yearBorn\"\u001b[0m: \u001b[1;36m1973\u001b[0m,                                                                                   \n",
       "               \u001b[32m\"fiscalYear\"\u001b[0m: \u001b[1;36m2023\u001b[0m,                                                                                 \n",
       "               \u001b[32m\"totalPay\"\u001b[0m: \u001b[1;36m1\u001b[0m,                                                                                      \n",
       "               \u001b[32m\"exercisedValue\"\u001b[0m: \u001b[1;36m0\u001b[0m,                                                                                \n",
       "               \u001b[32m\"unexercisedValue\"\u001b[0m: \u001b[1;36m0\u001b[0m                                                                               \n",
       "             \u001b[1m}\u001b[0m,                                                                                                    \n",
       "             \u001b[1m{\u001b[0m                                                                                                     \n",
       "               \u001b[32m\"maxAge\"\u001b[0m: \u001b[1;36m1\u001b[0m,                                                                                        \n",
       "               \u001b[32m\"name\"\u001b[0m: \u001b[32m\"Mr. Sergey  Brin\"\u001b[0m,                                                                         \n",
       "               \u001b[32m\"age\"\u001b[0m: \u001b[1;36m49\u001b[0m,                                                                                          \n",
       "               \u001b[32m\"title\"\u001b[0m: \u001b[32m\"Co-Founder & Director\"\u001b[0m,                                                                   \n",
       "               \u001b[32m\"yearBorn\"\u001b[0m: \u001b[1;36m1974\u001b[0m,                                                                                   \n",
       "               \u001b[32m\"fiscalYear\"\u001b[0m: \u001b[1;36m2023\u001b[0m,                                                                                 \n",
       "               \u001b[32m\"totalPay\"\u001b[0m: \u001b[1;36m1\u001b[0m,                                                                                      \n",
       "               \u001b[32m\"exercisedValue\"\u001b[0m: \u001b[1;36m0\u001b[0m,                                                                                \n",
       "               \u001b[32m\"unexercisedValue\"\u001b[0m: \u001b[1;36m0\u001b[0m                                                                               \n",
       "             \u001b[1m}\u001b[0m,                                                                                                    \n",
       "             \u001b[1m{\u001b[0m                                                                                                     \n",
       "               \u001b[32m\"maxAge\"\u001b[0m: \u001b[1;36m1\u001b[0m,                                                                                        \n",
       "               \u001b[32m\"name\"\u001b[0m: \u001b[32m\"Mr. J. Kent Walker\"\u001b[0m,                                                                       \n",
       "               \u001b[32m\"age\"\u001b[0m: \u001b[1;36m62\u001b[0m,                                                                                          \n",
       "               \u001b[32m\"title\"\u001b[0m: \u001b[32m\"President of Global Affairs, Chief Legal Officer & Company Secretary\"\u001b[0m,                    \n",
       "               \u001b[32m\"yearBorn\"\u001b[0m: \u001b[1;36m1961\u001b[0m,                                                                                   \n",
       "               \u001b[32m\"fiscalYear\"\u001b[0m: \u001b[1;36m2023\u001b[0m,                                                                                 \n",
       "               \u001b[32m\"totalPay\"\u001b[0m: \u001b[1;36m2511737\u001b[0m,                                                                                \n",
       "               \u001b[32m\"exercisedValue\"\u001b[0m: \u001b[1;36m0\u001b[0m,                                                                                \n",
       "               \u001b[32m\"unexercisedValue\"\u001b[0m: \u001b[1;36m0\u001b[0m                                                                               \n",
       "             \u001b[1m}\u001b[0m,                                                                                                    \n",
       "             \u001b[1m{\u001b[0m                                                                                                     \n",
       "               \u001b[32m\"maxAge\"\u001b[0m: \u001b[1;36m1\u001b[0m,                                                                                        \n",
       "               \u001b[32m\"name\"\u001b[0m: \u001b[32m\"Dr. Prabhakar  Raghavan\"\u001b[0m,                                                                  \n",
       "               \u001b[32m\"age\"\u001b[0m: \u001b[1;36m62\u001b[0m,                                                                                          \n",
       "               \u001b[32m\"title\"\u001b[0m: \u001b[32m\"Senior Vice President of Knowledge and Information - Google\"\u001b[0m,                             \n",
       "               \u001b[32m\"yearBorn\"\u001b[0m: \u001b[1;36m1961\u001b[0m,                                                                                   \n",
       "               \u001b[32m\"fiscalYear\"\u001b[0m: \u001b[1;36m2023\u001b[0m,                                                                                 \n",
       "               \u001b[32m\"totalPay\"\u001b[0m: \u001b[1;36m2511737\u001b[0m,                                                                                \n",
       "               \u001b[32m\"exercisedValue\"\u001b[0m: \u001b[1;36m0\u001b[0m,                                                                                \n",
       "               \u001b[32m\"unexercisedValue\"\u001b[0m: \u001b[1;36m0\u001b[0m                                                                               \n",
       "             \u001b[1m}\u001b[0m,                                                                                                    \n",
       "             \u001b[1m{\u001b[0m                                                                                                     \n",
       "               \u001b[32m\"maxAge\"\u001b[0m: \u001b[1;36m1\u001b[0m,                                                                                        \n",
       "               \u001b[32m\"name\"\u001b[0m: \u001b[32m\"Mr. Philipp  Schindler\"\u001b[0m,                                                                   \n",
       "               \u001b[32m\"age\"\u001b[0m: \u001b[1;36m52\u001b[0m,                                                                                          \n",
       "               \u001b[32m\"title\"\u001b[0m: \u001b[32m\"Senior Vice President & Chief Business Officer of Google\"\u001b[0m,                                \n",
       "               \u001b[32m\"yearBorn\"\u001b[0m: \u001b[1;36m1971\u001b[0m,                                                                                   \n",
       "               \u001b[32m\"fiscalYear\"\u001b[0m: \u001b[1;36m2023\u001b[0m,                                                                                 \n",
       "               \u001b[32m\"totalPay\"\u001b[0m: \u001b[1;36m2514032\u001b[0m,                                                                                \n",
       "               \u001b[32m\"exercisedValue\"\u001b[0m: \u001b[1;36m0\u001b[0m,                                                                                \n",
       "               \u001b[32m\"unexercisedValue\"\u001b[0m: \u001b[1;36m0\u001b[0m                                                                               \n",
       "             \u001b[1m}\u001b[0m,                                                                                                    \n",
       "             \u001b[1m{\u001b[0m                                                                                                     \n",
       "               \u001b[32m\"maxAge\"\u001b[0m: \u001b[1;36m1\u001b[0m,                                                                                        \n",
       "               \u001b[32m\"name\"\u001b[0m: \u001b[32m\"Ms. Anat  Ashkenazi\"\u001b[0m,                                                                      \n",
       "               \u001b[32m\"age\"\u001b[0m: \u001b[1;36m50\u001b[0m,                                                                                          \n",
       "               \u001b[32m\"title\"\u001b[0m: \u001b[32m\"Senior VP & CFO\"\u001b[0m,                                                                         \n",
       "               \u001b[32m\"yearBorn\"\u001b[0m: \u001b[1;36m1973\u001b[0m,                                                                                   \n",
       "               \u001b[32m\"fiscalYear\"\u001b[0m: \u001b[1;36m2023\u001b[0m,                                                                                 \n",
       "               \u001b[32m\"exercisedValue\"\u001b[0m: \u001b[1;36m0\u001b[0m,                                                                                \n",
       "               \u001b[32m\"unexercisedValue\"\u001b[0m: \u001b[1;36m0\u001b[0m                                                                               \n",
       "             \u001b[1m}\u001b[0m,                                                                                                    \n",
       "             \u001b[1m{\u001b[0m                                                                                                     \n",
       "               \u001b[32m\"maxAge\"\u001b[0m: \u001b[1;36m1\u001b[0m,                                                                                        \n",
       "               \u001b[32m\"name\"\u001b[0m: \u001b[32m\"Ms. Amie Thuener O'Toole\"\u001b[0m,                                                                 \n",
       "               \u001b[32m\"age\"\u001b[0m: \u001b[1;36m48\u001b[0m,                                                                                          \n",
       "               \u001b[32m\"title\"\u001b[0m: \u001b[32m\"Chief Accounting Officer & VP\"\u001b[0m,                                                           \n",
       "               \u001b[32m\"yearBorn\"\u001b[0m: \u001b[1;36m1975\u001b[0m,                                                                                   \n",
       "               \u001b[32m\"fiscalYear\"\u001b[0m: \u001b[1;36m2023\u001b[0m,                                                                                 \n",
       "               \u001b[32m\"exercisedValue\"\u001b[0m: \u001b[1;36m0\u001b[0m,                                                                                \n",
       "               \u001b[32m\"unexercisedValue\"\u001b[0m: \u001b[1;36m0\u001b[0m                                                                               \n",
       "             \u001b[1m}\u001b[0m,                                                                                                    \n",
       "             \u001b[1m{\u001b[0m                                                                                                     \n",
       "               \u001b[32m\"maxAge\"\u001b[0m: \u001b[1;36m1\u001b[0m,                                                                                        \n",
       "               \u001b[32m\"name\"\u001b[0m: \u001b[32m\"Ms. Ellen  West\"\u001b[0m,                                                                          \n",
       "               \u001b[32m\"title\"\u001b[0m: \u001b[32m\"Vice President of Investor Relations\"\u001b[0m,                                                    \n",
       "               \u001b[32m\"fiscalYear\"\u001b[0m: \u001b[1;36m2023\u001b[0m,                                                                                 \n",
       "               \u001b[32m\"exercisedValue\"\u001b[0m: \u001b[1;36m0\u001b[0m,                                                                                \n",
       "               \u001b[32m\"unexercisedValue\"\u001b[0m: \u001b[1;36m0\u001b[0m                                                                               \n",
       "             \u001b[1m}\u001b[0m                                                                                                     \n",
       "           \u001b[1m]\u001b[0m,                                                                                                      \n",
       "           \u001b[32m\"auditRisk\"\u001b[0m: \u001b[1;36m9\u001b[0m,                                                                                         \n",
       "           \u001b[32m\"boardRisk\"\u001b[0m: \u001b[1;36m7\u001b[0m,                                                                                         \n",
       "           \u001b[32m\"compensationRisk\"\u001b[0m: \u001b[1;36m10\u001b[0m,                                                                                 \n",
       "           \u001b[32m\"shareHolderRightsRisk\"\u001b[0m: \u001b[1;36m10\u001b[0m,                                                                            \n",
       "           \u001b[32m\"overallRisk\"\u001b[0m: \u001b[1;36m10\u001b[0m,                                                                                      \n",
       "           \u001b[32m\"governanceEpochDate\"\u001b[0m: \u001b[1;36m1733011200\u001b[0m,                                                                      \n",
       "           \u001b[32m\"compensationAsOfEpochDate\"\u001b[0m: \u001b[1;36m1703980800\u001b[0m,                                                                \n",
       "           \u001b[32m\"maxAge\"\u001b[0m: \u001b[1;36m86400\u001b[0m,                                                                                        \n",
       "           \u001b[32m\"priceHint\"\u001b[0m: \u001b[1;36m2\u001b[0m,                                                                                         \n",
       "           \u001b[32m\"previousClose\"\u001b[0m: \u001b[1;36m191.96\u001b[0m,                                                                                \n",
       "           \u001b[32m\"open\"\u001b[0m: \u001b[1;36m191.136\u001b[0m,                                                                                        \n",
       "           \u001b[32m\"dayLow\"\u001b[0m: \u001b[1;36m189.64\u001b[0m,                                                                                       \n",
       "           \u001b[32m\"dayHigh\"\u001b[0m: \u001b[1;36m192.73\u001b[0m,                                                                                      \n",
       "           \u001b[32m\"regularMarketPreviousClose\"\u001b[0m: \u001b[1;36m191.96\u001b[0m,                                                                   \n",
       "           \u001b[32m\"regularMarketOpen\"\u001b[0m: \u001b[1;36m191.136\u001b[0m,                                                                           \n",
       "           \u001b[32m\"regularMarketDayLow\"\u001b[0m: \u001b[1;36m189.64\u001b[0m,                                                                          \n",
       "           \u001b[32m\"regularMarketDayHigh\"\u001b[0m: \u001b[1;36m192.73\u001b[0m,                                                                         \n",
       "           \u001b[32m\"dividendRate\"\u001b[0m: \u001b[1;36m0.8\u001b[0m,                                                                                    \n",
       "           \u001b[32m\"dividendYield\"\u001b[0m: \u001b[1;36m0.0042\u001b[0m,                                                                                \n",
       "           \u001b[32m\"exDividendDate\"\u001b[0m: \u001b[1;36m1733702400\u001b[0m,                                                                           \n",
       "           \u001b[32m\"payoutRatio\"\u001b[0m: \u001b[1;36m0.0531\u001b[0m,                                                                                  \n",
       "           \u001b[32m\"beta\"\u001b[0m: \u001b[1;36m1.034\u001b[0m,                                                                                          \n",
       "           \u001b[32m\"trailingPE\"\u001b[0m: \u001b[1;36m25.175068\u001b[0m,                                                                                \n",
       "           \u001b[32m\"forwardPE\"\u001b[0m: \u001b[1;36m21.201431\u001b[0m,                                                                                 \n",
       "           \u001b[32m\"volume\"\u001b[0m: \u001b[1;36m23668705\u001b[0m,                                                                                     \n",
       "           \u001b[32m\"regularMarketVolume\"\u001b[0m: \u001b[1;36m23668705\u001b[0m,                                                                        \n",
       "           \u001b[32m\"averageVolume\"\u001b[0m: \u001b[1;36m26347457\u001b[0m,                                                                              \n",
       "           \u001b[32m\"averageVolume10days\"\u001b[0m: \u001b[1;36m32849410\u001b[0m,                                                                        \n",
       "           \u001b[32m\"averageDailyVolume10Day\"\u001b[0m: \u001b[1;36m32849410\u001b[0m,                                                                    \n",
       "           \u001b[32m\"bid\"\u001b[0m: \u001b[1;36m189.5\u001b[0m,                                                                                           \n",
       "           \u001b[32m\"ask\"\u001b[0m: \u001b[1;36m189.92\u001b[0m,                                                                                          \n",
       "           \u001b[32m\"bidSize\"\u001b[0m: \u001b[1;36m100\u001b[0m,                                                                                         \n",
       "           \u001b[32m\"askSize\"\u001b[0m: \u001b[1;36m500\u001b[0m,                                                                                         \n",
       "           \u001b[32m\"marketCap\"\u001b[0m: \u001b[1;36m2332223602688\u001b[0m,                                                                             \n",
       "           \u001b[32m\"fiftyTwoWeekLow\"\u001b[0m: \u001b[1;36m130.67\u001b[0m,                                                                              \n",
       "           \u001b[32m\"fiftyTwoWeekHigh\"\u001b[0m: \u001b[1;36m195.61\u001b[0m,                                                                             \n",
       "           \u001b[32m\"priceToSalesTrailing12Months\"\u001b[0m: \u001b[1;36m6.8623266\u001b[0m,                                                              \n",
       "           \u001b[32m\"fiftyDayAverage\"\u001b[0m: \u001b[1;36m171.5858\u001b[0m,                                                                            \n",
       "           \u001b[32m\"twoHundredDayAverage\"\u001b[0m: \u001b[1;36m166.4112\u001b[0m,                                                                       \n",
       "           \u001b[32m\"trailingAnnualDividendRate\"\u001b[0m: \u001b[1;36m0.4\u001b[0m,                                                                      \n",
       "           \u001b[32m\"trailingAnnualDividendYield\"\u001b[0m: \u001b[1;36m0.0020837674\u001b[0m,                                                            \n",
       "           \u001b[32m\"currency\"\u001b[0m: \u001b[32m\"USD\"\u001b[0m,                                                                                      \n",
       "           \u001b[32m\"enterpriseValue\"\u001b[0m: \u001b[1;36m2259645628416\u001b[0m,                                                                       \n",
       "           \u001b[32m\"profitMargins\"\u001b[0m: \u001b[1;36m0.27738002\u001b[0m,                                                                            \n",
       "           \u001b[32m\"floatShares\"\u001b[0m: \u001b[1;36m10916891030\u001b[0m,                                                                             \n",
       "           \u001b[32m\"sharesOutstanding\"\u001b[0m: \u001b[1;36m5842999808\u001b[0m,                                                                        \n",
       "           \u001b[32m\"sharesShort\"\u001b[0m: \u001b[1;36m69788857\u001b[0m,                                                                                \n",
       "           \u001b[32m\"sharesShortPriorMonth\"\u001b[0m: \u001b[1;36m64260354\u001b[0m,                                                                      \n",
       "           \u001b[32m\"sharesShortPreviousMonthDate\"\u001b[0m: \u001b[1;36m1730332800\u001b[0m,                                                             \n",
       "           \u001b[32m\"dateShortInterest\"\u001b[0m: \u001b[1;36m1732838400\u001b[0m,                                                                        \n",
       "           \u001b[32m\"sharesPercentSharesOut\"\u001b[0m: \u001b[1;36m0.0057\u001b[0m,                                                                       \n",
       "           \u001b[32m\"heldPercentInsiders\"\u001b[0m: \u001b[1;36m0.0025099998\u001b[0m,                                                                    \n",
       "           \u001b[32m\"heldPercentInstitutions\"\u001b[0m: \u001b[1;36m0.80667996\u001b[0m,                                                                  \n",
       "           \u001b[32m\"shortRatio\"\u001b[0m: \u001b[1;36m2.34\u001b[0m,                                                                                     \n",
       "           \u001b[32m\"shortPercentOfFloat\"\u001b[0m: \u001b[1;36m0.012\u001b[0m,                                                                           \n",
       "           \u001b[32m\"impliedSharesOutstanding\"\u001b[0m: \u001b[1;36m12286499840\u001b[0m,                                                                \n",
       "           \u001b[32m\"bookValue\"\u001b[0m: \u001b[1;36m25.613\u001b[0m,                                                                                    \n",
       "           \u001b[32m\"priceToBook\"\u001b[0m: \u001b[1;36m7.4110804\u001b[0m,                                                                               \n",
       "           \u001b[32m\"lastFiscalYearEnd\"\u001b[0m: \u001b[1;36m1703980800\u001b[0m,                                                                        \n",
       "           \u001b[32m\"nextFiscalYearEnd\"\u001b[0m: \u001b[1;36m1735603200\u001b[0m,                                                                        \n",
       "           \u001b[32m\"mostRecentQuarter\"\u001b[0m: \u001b[1;36m1727654400\u001b[0m,                                                                        \n",
       "           \u001b[32m\"earningsQuarterlyGrowth\"\u001b[0m: \u001b[1;36m0.336\u001b[0m,                                                                       \n",
       "           \u001b[32m\"netIncomeToCommon\"\u001b[0m: \u001b[1;36m94268997632\u001b[0m,                                                                       \n",
       "           \u001b[32m\"trailingEps\"\u001b[0m: \u001b[1;36m7.54\u001b[0m,                                                                                    \n",
       "           \u001b[32m\"forwardEps\"\u001b[0m: \u001b[1;36m8.96\u001b[0m,                                                                                     \n",
       "           \u001b[32m\"lastSplitFactor\"\u001b[0m: \u001b[32m\"20:1\"\u001b[0m,                                                                              \n",
       "           \u001b[32m\"lastSplitDate\"\u001b[0m: \u001b[1;36m1658102400\u001b[0m,                                                                            \n",
       "           \u001b[32m\"enterpriseToRevenue\"\u001b[0m: \u001b[1;36m6.649\u001b[0m,                                                                           \n",
       "           \u001b[32m\"enterpriseToEbitda\"\u001b[0m: \u001b[1;36m18.301\u001b[0m,                                                                           \n",
       "           \u001b[32m\"52WeekChange\"\u001b[0m: \u001b[1;36m0.3977909\u001b[0m,                                                                              \n",
       "           \u001b[32m\"SandP52WeekChange\"\u001b[0m: \u001b[1;36m0.2764505\u001b[0m,                                                                         \n",
       "           \u001b[32m\"lastDividendValue\"\u001b[0m: \u001b[1;36m0.2\u001b[0m,                                                                               \n",
       "           \u001b[32m\"lastDividendDate\"\u001b[0m: \u001b[1;36m1733702400\u001b[0m,                                                                         \n",
       "           \u001b[32m\"exchange\"\u001b[0m: \u001b[32m\"NMS\"\u001b[0m,                                                                                      \n",
       "           \u001b[32m\"quoteType\"\u001b[0m: \u001b[32m\"EQUITY\"\u001b[0m,                                                                                  \n",
       "           \u001b[32m\"symbol\"\u001b[0m: \u001b[32m\"GOOGL\"\u001b[0m,                                                                                      \n",
       "           \u001b[32m\"underlyingSymbol\"\u001b[0m: \u001b[32m\"GOOGL\"\u001b[0m,                                                                            \n",
       "           \u001b[32m\"shortName\"\u001b[0m: \u001b[32m\"Alphabet Inc.\"\u001b[0m,                                                                           \n",
       "           \u001b[32m\"longName\"\u001b[0m: \u001b[32m\"Alphabet Inc.\"\u001b[0m,                                                                            \n",
       "           \u001b[32m\"firstTradeDateEpochUtc\"\u001b[0m: \u001b[1;36m1092922200\u001b[0m,                                                                   \n",
       "           \u001b[32m\"timeZoneFullName\"\u001b[0m: \u001b[32m\"America/New_York\"\u001b[0m,                                                                 \n",
       "           \u001b[32m\"timeZoneShortName\"\u001b[0m: \u001b[32m\"EST\"\u001b[0m,                                                                             \n",
       "           \u001b[32m\"uuid\"\u001b[0m: \u001b[32m\"e15ce71f-f533-3912-9f11-a46c09e2412b\"\u001b[0m,                                                         \n",
       "           \u001b[32m\"messageBoardId\"\u001b[0m: \u001b[32m\"finmb_29096\"\u001b[0m,                                                                        \n",
       "           \u001b[32m\"gmtOffSetMilliseconds\"\u001b[0m: \u001b[1;36m-18000000\u001b[0m,                                                                     \n",
       "           \u001b[32m\"currentPrice\"\u001b[0m: \u001b[1;36m189.82\u001b[0m,                                                                                 \n",
       "           \u001b[32m\"targetHighPrice\"\u001b[0m: \u001b[1;36m240.0\u001b[0m,                                                                               \n",
       "           \u001b[32m\"targetLowPrice\"\u001b[0m: \u001b[1;36m151.0\u001b[0m,                                                                                \n",
       "           \u001b[32m\"targetMeanPrice\"\u001b[0m: \u001b[1;36m209.84563\u001b[0m,                                                                           \n",
       "           \u001b[32m\"targetMedianPrice\"\u001b[0m: \u001b[1;36m211.0\u001b[0m,                                                                             \n",
       "           \u001b[32m\"recommendationMean\"\u001b[0m: \u001b[1;36m1.58065\u001b[0m,                                                                          \n",
       "           \u001b[32m\"recommendationKey\"\u001b[0m: \u001b[32m\"buy\"\u001b[0m,                                                                             \n",
       "           \u001b[32m\"numberOfAnalystOpinions\"\u001b[0m: \u001b[1;36m48\u001b[0m,                                                                          \n",
       "           \u001b[32m\"totalCash\"\u001b[0m: \u001b[1;36m93229998080\u001b[0m,                                                                               \n",
       "           \u001b[32m\"totalCashPerShare\"\u001b[0m: \u001b[1;36m7.616\u001b[0m,                                                                             \n",
       "           \u001b[32m\"ebitda\"\u001b[0m: \u001b[1;36m123469996032\u001b[0m,                                                                                 \n",
       "           \u001b[32m\"totalDebt\"\u001b[0m: \u001b[1;36m29289000960\u001b[0m,                                                                               \n",
       "           \u001b[32m\"quickRatio\"\u001b[0m: \u001b[1;36m1.761\u001b[0m,                                                                                    \n",
       "           \u001b[32m\"currentRatio\"\u001b[0m: \u001b[1;36m1.95\u001b[0m,                                                                                   \n",
       "           \u001b[32m\"totalRevenue\"\u001b[0m: \u001b[1;36m339859013632\u001b[0m,                                                                           \n",
       "           \u001b[32m\"debtToEquity\"\u001b[0m: \u001b[1;36m9.324\u001b[0m,                                                                                  \n",
       "           \u001b[32m\"revenuePerShare\"\u001b[0m: \u001b[1;36m27.443\u001b[0m,                                                                              \n",
       "           \u001b[32m\"returnOnAssets\"\u001b[0m: \u001b[1;36m0.16483\u001b[0m,                                                                              \n",
       "           \u001b[32m\"returnOnEquity\"\u001b[0m: \u001b[1;36m0.32101002\u001b[0m,                                                                           \n",
       "           \u001b[32m\"freeCashflow\"\u001b[0m: \u001b[1;36m41104498688\u001b[0m,                                                                            \n",
       "           \u001b[32m\"operatingCashflow\"\u001b[0m: \u001b[1;36m105101000704\u001b[0m,                                                                      \n",
       "           \u001b[32m\"earningsGrowth\"\u001b[0m: \u001b[1;36m0.366\u001b[0m,                                                                                \n",
       "           \u001b[32m\"revenueGrowth\"\u001b[0m: \u001b[1;36m0.151\u001b[0m,                                                                                 \n",
       "           \u001b[32m\"grossMargins\"\u001b[0m: \u001b[1;36m0.58127\u001b[0m,                                                                                \n",
       "           \u001b[32m\"ebitdaMargins\"\u001b[0m: \u001b[1;36m0.36330003\u001b[0m,                                                                            \n",
       "           \u001b[32m\"operatingMargins\"\u001b[0m: \u001b[1;36m0.32312\u001b[0m,                                                                            \n",
       "           \u001b[32m\"financialCurrency\"\u001b[0m: \u001b[32m\"USD\"\u001b[0m,                                                                             \n",
       "           \u001b[32m\"trailingPegRatio\"\u001b[0m: \u001b[1;36m1.1882\u001b[0m                                                                              \n",
       "         \u001b[1m}\u001b[0m                                                                                                         \n"
      ]
     },
     "metadata": {},
     "output_type": "display_data"
    },
    {
     "data": {
      "text/html": [
       "<pre style=\"white-space:pre;overflow-x:auto;line-height:normal;font-family:Menlo,'DejaVu Sans Mono',consolas,'Courier New',monospace\"><span style=\"color: #008000; text-decoration-color: #008000\">DEBUG   </span> ============== tool ==============                                                                        \n",
       "</pre>\n"
      ],
      "text/plain": [
       "\u001b[32mDEBUG   \u001b[0m ============== tool ==============                                                                        \n"
      ]
     },
     "metadata": {},
     "output_type": "display_data"
    },
    {
     "data": {
      "text/html": [
       "<pre style=\"white-space:pre;overflow-x:auto;line-height:normal;font-family:Menlo,'DejaVu Sans Mono',consolas,'Courier New',monospace\"><span style=\"color: #008000; text-decoration-color: #008000\">DEBUG   </span> Tool call Id: call_beXBr10K2vVBuh7IuHMZFzzc                                                               \n",
       "</pre>\n"
      ],
      "text/plain": [
       "\u001b[32mDEBUG   \u001b[0m Tool call Id: call_beXBr10K2vVBuh7IuHMZFzzc                                                               \n"
      ]
     },
     "metadata": {},
     "output_type": "display_data"
    },
    {
     "data": {
      "text/html": [
       "<pre style=\"white-space:pre;overflow-x:auto;line-height:normal;font-family:Menlo,'DejaVu Sans Mono',consolas,'Courier New',monospace\"><span style=\"color: #008000; text-decoration-color: #008000\">DEBUG   </span> <span style=\"font-weight: bold\">{</span>                                                                                                         \n",
       "           <span style=\"color: #008000; text-decoration-color: #008000\">\"symbol\"</span>: <span style=\"color: #008000; text-decoration-color: #008000\">\"TSLA\"</span>,                                                                                       \n",
       "           <span style=\"color: #008000; text-decoration-color: #008000\">\"company_name\"</span>: <span style=\"color: #008000; text-decoration-color: #008000\">\"Tesla, Inc.\"</span>,                                                                          \n",
       "           <span style=\"color: #008000; text-decoration-color: #008000\">\"sector\"</span>: <span style=\"color: #008000; text-decoration-color: #008000\">\"Consumer Cyclical\"</span>,                                                                          \n",
       "           <span style=\"color: #008000; text-decoration-color: #008000\">\"industry\"</span>: <span style=\"color: #008000; text-decoration-color: #008000\">\"Auto Manufacturers\"</span>,                                                                       \n",
       "           <span style=\"color: #008000; text-decoration-color: #008000\">\"market_cap\"</span>: <span style=\"color: #008080; text-decoration-color: #008080; font-weight: bold\">1400324489216</span>,                                                                            \n",
       "           <span style=\"color: #008000; text-decoration-color: #008000\">\"pe_ratio\"</span>: <span style=\"color: #008080; text-decoration-color: #008080; font-weight: bold\">133.2647</span>,                                                                                   \n",
       "           <span style=\"color: #008000; text-decoration-color: #008000\">\"pb_ratio\"</span>: <span style=\"color: #008080; text-decoration-color: #008080; font-weight: bold\">20.005045</span>,                                                                                  \n",
       "           <span style=\"color: #008000; text-decoration-color: #008000\">\"dividend_yield\"</span>: <span style=\"color: #008000; text-decoration-color: #008000\">\"N/A\"</span>,                                                                                \n",
       "           <span style=\"color: #008000; text-decoration-color: #008000\">\"eps\"</span>: <span style=\"color: #008080; text-decoration-color: #008080; font-weight: bold\">3.66</span>,                                                                                            \n",
       "           <span style=\"color: #008000; text-decoration-color: #008000\">\"beta\"</span>: <span style=\"color: #008080; text-decoration-color: #008080; font-weight: bold\">2.295</span>,                                                                                          \n",
       "           <span style=\"color: #008000; text-decoration-color: #008000\">\"52_week_high\"</span>: <span style=\"color: #008080; text-decoration-color: #008080; font-weight: bold\">436.3</span>,                                                                                  \n",
       "           <span style=\"color: #008000; text-decoration-color: #008000\">\"52_week_low\"</span>: <span style=\"color: #008080; text-decoration-color: #008080; font-weight: bold\">138.8</span>                                                                                    \n",
       "         <span style=\"font-weight: bold\">}</span>                                                                                                         \n",
       "</pre>\n"
      ],
      "text/plain": [
       "\u001b[32mDEBUG   \u001b[0m \u001b[1m{\u001b[0m                                                                                                         \n",
       "           \u001b[32m\"symbol\"\u001b[0m: \u001b[32m\"TSLA\"\u001b[0m,                                                                                       \n",
       "           \u001b[32m\"company_name\"\u001b[0m: \u001b[32m\"Tesla, Inc.\"\u001b[0m,                                                                          \n",
       "           \u001b[32m\"sector\"\u001b[0m: \u001b[32m\"Consumer Cyclical\"\u001b[0m,                                                                          \n",
       "           \u001b[32m\"industry\"\u001b[0m: \u001b[32m\"Auto Manufacturers\"\u001b[0m,                                                                       \n",
       "           \u001b[32m\"market_cap\"\u001b[0m: \u001b[1;36m1400324489216\u001b[0m,                                                                            \n",
       "           \u001b[32m\"pe_ratio\"\u001b[0m: \u001b[1;36m133.2647\u001b[0m,                                                                                   \n",
       "           \u001b[32m\"pb_ratio\"\u001b[0m: \u001b[1;36m20.005045\u001b[0m,                                                                                  \n",
       "           \u001b[32m\"dividend_yield\"\u001b[0m: \u001b[32m\"N/A\"\u001b[0m,                                                                                \n",
       "           \u001b[32m\"eps\"\u001b[0m: \u001b[1;36m3.66\u001b[0m,                                                                                            \n",
       "           \u001b[32m\"beta\"\u001b[0m: \u001b[1;36m2.295\u001b[0m,                                                                                          \n",
       "           \u001b[32m\"52_week_high\"\u001b[0m: \u001b[1;36m436.3\u001b[0m,                                                                                  \n",
       "           \u001b[32m\"52_week_low\"\u001b[0m: \u001b[1;36m138.8\u001b[0m                                                                                    \n",
       "         \u001b[1m}\u001b[0m                                                                                                         \n"
      ]
     },
     "metadata": {},
     "output_type": "display_data"
    },
    {
     "data": {
      "text/html": [
       "<pre style=\"white-space:pre;overflow-x:auto;line-height:normal;font-family:Menlo,'DejaVu Sans Mono',consolas,'Courier New',monospace\"><span style=\"color: #008000; text-decoration-color: #008000\">DEBUG   </span> ============== tool ==============                                                                        \n",
       "</pre>\n"
      ],
      "text/plain": [
       "\u001b[32mDEBUG   \u001b[0m ============== tool ==============                                                                        \n"
      ]
     },
     "metadata": {},
     "output_type": "display_data"
    },
    {
     "data": {
      "text/html": [
       "<pre style=\"white-space:pre;overflow-x:auto;line-height:normal;font-family:Menlo,'DejaVu Sans Mono',consolas,'Courier New',monospace\"><span style=\"color: #008000; text-decoration-color: #008000\">DEBUG   </span> Tool call Id: call_qvgO3Vrfod5aBXuMVfMqOnyx                                                               \n",
       "</pre>\n"
      ],
      "text/plain": [
       "\u001b[32mDEBUG   \u001b[0m Tool call Id: call_qvgO3Vrfod5aBXuMVfMqOnyx                                                               \n"
      ]
     },
     "metadata": {},
     "output_type": "display_data"
    },
    {
     "data": {
      "text/html": [
       "<pre style=\"white-space:pre;overflow-x:auto;line-height:normal;font-family:Menlo,'DejaVu Sans Mono',consolas,'Courier New',monospace\"><span style=\"color: #008000; text-decoration-color: #008000\">DEBUG   </span> ============== assistant ==============                                                                   \n",
       "</pre>\n"
      ],
      "text/plain": [
       "\u001b[32mDEBUG   \u001b[0m ============== assistant ==============                                                                   \n"
      ]
     },
     "metadata": {},
     "output_type": "display_data"
    },
    {
     "data": {
      "text/html": [
       "<pre style=\"white-space:pre;overflow-x:auto;line-height:normal;font-family:Menlo,'DejaVu Sans Mono',consolas,'Courier New',monospace\"><span style=\"color: #008000; text-decoration-color: #008000\">DEBUG   </span> ### Analyst Recommendations                                                                               \n",
       "                                                                                                                   \n",
       "         | Period | Stock | Strong Buy | Buy | Hold | Sell | Strong Sell |                                         \n",
       "         |--------|-------|------------|-----|------|------|-------------|                                         \n",
       "         | 0m     | TSLA  | <span style=\"color: #008080; text-decoration-color: #008080; font-weight: bold\">6</span>          | <span style=\"color: #008080; text-decoration-color: #008080; font-weight: bold\">13</span>  | <span style=\"color: #008080; text-decoration-color: #008080; font-weight: bold\">16</span>   | <span style=\"color: #008080; text-decoration-color: #008080; font-weight: bold\">8</span>    | <span style=\"color: #008080; text-decoration-color: #008080; font-weight: bold\">5</span>           |                                         \n",
       "         | 0m     | GOOGL | <span style=\"color: #008080; text-decoration-color: #008080; font-weight: bold\">14</span>         | <span style=\"color: #008080; text-decoration-color: #008080; font-weight: bold\">37</span>  | <span style=\"color: #008080; text-decoration-color: #008080; font-weight: bold\">11</span>   | <span style=\"color: #008080; text-decoration-color: #008080; font-weight: bold\">0</span>    | <span style=\"color: #008080; text-decoration-color: #008080; font-weight: bold\">0</span>           |                                         \n",
       "                                                                                                                   \n",
       "         ### Key Financial Ratios                                                                                  \n",
       "                                                                                                                   \n",
       "         #### TSLA                                                                                                 \n",
       "         - **Forward PE Ratio**: <span style=\"color: #008080; text-decoration-color: #008080; font-weight: bold\">133.26</span>                                                                            \n",
       "         - **PB Ratio**: <span style=\"color: #008080; text-decoration-color: #008080; font-weight: bold\">20.01</span>                                                                                     \n",
       "         - **Beta**: <span style=\"color: #008080; text-decoration-color: #008080; font-weight: bold\">2.295</span>                                                                                         \n",
       "                                                                                                                   \n",
       "         #### GOOGL                                                                                                \n",
       "         - **Forward PE Ratio**: <span style=\"color: #008080; text-decoration-color: #008080; font-weight: bold\">21.20</span>                                                                             \n",
       "         - **PB Ratio**: <span style=\"color: #008080; text-decoration-color: #008080; font-weight: bold\">7.41</span>                                                                                      \n",
       "         - **Beta**: <span style=\"color: #008080; text-decoration-color: #008080; font-weight: bold\">1.034</span>                                                                                         \n",
       "                                                                                                                   \n",
       "         ### Fundamentals                                                                                          \n",
       "                                                                                                                   \n",
       "         #### TSLA                                                                                                 \n",
       "         - **Company Name**: Tesla, Inc.                                                                           \n",
       "         - **Sector**: Consumer Cyclical                                                                           \n",
       "         - **Industry**: Auto Manufacturers                                                                        \n",
       "         - **Market Cap**: $<span style=\"color: #008080; text-decoration-color: #008080; font-weight: bold\">1.40</span> Trillion                                                                          \n",
       "         - **<span style=\"color: #008080; text-decoration-color: #008080; font-weight: bold\">52</span>-Week High**: $<span style=\"color: #008080; text-decoration-color: #008080; font-weight: bold\">436.30</span>                                                                               \n",
       "         - **<span style=\"color: #008080; text-decoration-color: #008080; font-weight: bold\">52</span>-Week Low**: $<span style=\"color: #008080; text-decoration-color: #008080; font-weight: bold\">138.80</span>                                                                                \n",
       "         - **EPS**: <span style=\"color: #008080; text-decoration-color: #008080; font-weight: bold\">3.66</span>                                                                                           \n",
       "         - **Dividend Yield**: Not Available                                                                       \n",
       "                                                                                                                   \n",
       "         #### GOOGL                                                                                                \n",
       "         - **Company Name**: Alphabet Inc.                                                                         \n",
       "         - **Sector**: Communication Services                                                                      \n",
       "         - **Industry**: Internet Content &amp; Information                                                            \n",
       "         - **Market Cap**: $<span style=\"color: #008080; text-decoration-color: #008080; font-weight: bold\">2.33</span> Trillion                                                                          \n",
       "         - **<span style=\"color: #008080; text-decoration-color: #008080; font-weight: bold\">52</span>-Week High**: $<span style=\"color: #008080; text-decoration-color: #008080; font-weight: bold\">195.61</span>                                                                               \n",
       "         - **<span style=\"color: #008080; text-decoration-color: #008080; font-weight: bold\">52</span>-Week Low**: $<span style=\"color: #008080; text-decoration-color: #008080; font-weight: bold\">130.67</span>                                                                                \n",
       "         - **EPS**: <span style=\"color: #008080; text-decoration-color: #008080; font-weight: bold\">7.54</span>                                                                                           \n",
       "         - **Dividend Yield**: <span style=\"color: #008080; text-decoration-color: #008080; font-weight: bold\">0.42</span>%                                                                               \n",
       "                                                                                                                   \n",
       "         ### Recommendation                                                                                        \n",
       "         Analyst sentiment generally favors **GOOGL** over **TSLA**, with a higher concentration of <span style=\"color: #008000; text-decoration-color: #008000\">\"Strong Buy\"</span>   \n",
       "         and <span style=\"color: #008000; text-decoration-color: #008000\">\"Buy\"</span> recommendations for GOOGL. Financial ratios indicate GOOGL has a more favorable PE and PB ratio \n",
       "         compared to TSLA, suggesting better valuation. Fundamentally, GOOGL appears to offer a stronger financial \n",
       "         position with a substantial market cap and higher profit margins.                                         \n",
       "                                                                                                                   \n",
       "         Based on the available data, **GOOGL <span style=\"font-weight: bold\">(</span>Alphabet Inc.<span style=\"font-weight: bold\">)</span>** is a more attractive buy considering the current   \n",
       "         analyst sentiment, financial ratios, and fundamentals.                                                    \n",
       "</pre>\n"
      ],
      "text/plain": [
       "\u001b[32mDEBUG   \u001b[0m ### Analyst Recommendations                                                                               \n",
       "                                                                                                                   \n",
       "         | Period | Stock | Strong Buy | Buy | Hold | Sell | Strong Sell |                                         \n",
       "         |--------|-------|------------|-----|------|------|-------------|                                         \n",
       "         | 0m     | TSLA  | \u001b[1;36m6\u001b[0m          | \u001b[1;36m13\u001b[0m  | \u001b[1;36m16\u001b[0m   | \u001b[1;36m8\u001b[0m    | \u001b[1;36m5\u001b[0m           |                                         \n",
       "         | 0m     | GOOGL | \u001b[1;36m14\u001b[0m         | \u001b[1;36m37\u001b[0m  | \u001b[1;36m11\u001b[0m   | \u001b[1;36m0\u001b[0m    | \u001b[1;36m0\u001b[0m           |                                         \n",
       "                                                                                                                   \n",
       "         ### Key Financial Ratios                                                                                  \n",
       "                                                                                                                   \n",
       "         #### TSLA                                                                                                 \n",
       "         - **Forward PE Ratio**: \u001b[1;36m133.26\u001b[0m                                                                            \n",
       "         - **PB Ratio**: \u001b[1;36m20.01\u001b[0m                                                                                     \n",
       "         - **Beta**: \u001b[1;36m2.295\u001b[0m                                                                                         \n",
       "                                                                                                                   \n",
       "         #### GOOGL                                                                                                \n",
       "         - **Forward PE Ratio**: \u001b[1;36m21.20\u001b[0m                                                                             \n",
       "         - **PB Ratio**: \u001b[1;36m7.41\u001b[0m                                                                                      \n",
       "         - **Beta**: \u001b[1;36m1.034\u001b[0m                                                                                         \n",
       "                                                                                                                   \n",
       "         ### Fundamentals                                                                                          \n",
       "                                                                                                                   \n",
       "         #### TSLA                                                                                                 \n",
       "         - **Company Name**: Tesla, Inc.                                                                           \n",
       "         - **Sector**: Consumer Cyclical                                                                           \n",
       "         - **Industry**: Auto Manufacturers                                                                        \n",
       "         - **Market Cap**: $\u001b[1;36m1.40\u001b[0m Trillion                                                                          \n",
       "         - **\u001b[1;36m52\u001b[0m-Week High**: $\u001b[1;36m436.30\u001b[0m                                                                               \n",
       "         - **\u001b[1;36m52\u001b[0m-Week Low**: $\u001b[1;36m138.80\u001b[0m                                                                                \n",
       "         - **EPS**: \u001b[1;36m3.66\u001b[0m                                                                                           \n",
       "         - **Dividend Yield**: Not Available                                                                       \n",
       "                                                                                                                   \n",
       "         #### GOOGL                                                                                                \n",
       "         - **Company Name**: Alphabet Inc.                                                                         \n",
       "         - **Sector**: Communication Services                                                                      \n",
       "         - **Industry**: Internet Content & Information                                                            \n",
       "         - **Market Cap**: $\u001b[1;36m2.33\u001b[0m Trillion                                                                          \n",
       "         - **\u001b[1;36m52\u001b[0m-Week High**: $\u001b[1;36m195.61\u001b[0m                                                                               \n",
       "         - **\u001b[1;36m52\u001b[0m-Week Low**: $\u001b[1;36m130.67\u001b[0m                                                                                \n",
       "         - **EPS**: \u001b[1;36m7.54\u001b[0m                                                                                           \n",
       "         - **Dividend Yield**: \u001b[1;36m0.42\u001b[0m%                                                                               \n",
       "                                                                                                                   \n",
       "         ### Recommendation                                                                                        \n",
       "         Analyst sentiment generally favors **GOOGL** over **TSLA**, with a higher concentration of \u001b[32m\"Strong Buy\"\u001b[0m   \n",
       "         and \u001b[32m\"Buy\"\u001b[0m recommendations for GOOGL. Financial ratios indicate GOOGL has a more favorable PE and PB ratio \n",
       "         compared to TSLA, suggesting better valuation. Fundamentally, GOOGL appears to offer a stronger financial \n",
       "         position with a substantial market cap and higher profit margins.                                         \n",
       "                                                                                                                   \n",
       "         Based on the available data, **GOOGL \u001b[1m(\u001b[0mAlphabet Inc.\u001b[1m)\u001b[0m** is a more attractive buy considering the current   \n",
       "         analyst sentiment, financial ratios, and fundamentals.                                                    \n"
      ]
     },
     "metadata": {},
     "output_type": "display_data"
    },
    {
     "data": {
      "text/html": [
       "<pre style=\"white-space:pre;overflow-x:auto;line-height:normal;font-family:Menlo,'DejaVu Sans Mono',consolas,'Courier New',monospace\"><span style=\"color: #008000; text-decoration-color: #008000\">DEBUG   </span> **************** METRICS START ****************                                                           \n",
       "</pre>\n"
      ],
      "text/plain": [
       "\u001b[32mDEBUG   \u001b[0m **************** METRICS START ****************                                                           \n"
      ]
     },
     "metadata": {},
     "output_type": "display_data"
    },
    {
     "data": {
      "text/html": [
       "<pre style=\"white-space:pre;overflow-x:auto;line-height:normal;font-family:Menlo,'DejaVu Sans Mono',consolas,'Courier New',monospace\"><span style=\"color: #008000; text-decoration-color: #008000\">DEBUG   </span> * Time to generate response:   <span style=\"color: #008080; text-decoration-color: #008080; font-weight: bold\">8.</span>1861s                                                                    \n",
       "</pre>\n"
      ],
      "text/plain": [
       "\u001b[32mDEBUG   \u001b[0m * Time to generate response:   \u001b[1;36m8.\u001b[0m1861s                                                                    \n"
      ]
     },
     "metadata": {},
     "output_type": "display_data"
    },
    {
     "data": {
      "text/html": [
       "<pre style=\"white-space:pre;overflow-x:auto;line-height:normal;font-family:Menlo,'DejaVu Sans Mono',consolas,'Courier New',monospace\"><span style=\"color: #008000; text-decoration-color: #008000\">DEBUG   </span> * Tokens per second:           <span style=\"color: #008080; text-decoration-color: #008080; font-weight: bold\">58.3917</span> tokens/s                                                           \n",
       "</pre>\n"
      ],
      "text/plain": [
       "\u001b[32mDEBUG   \u001b[0m * Tokens per second:           \u001b[1;36m58.3917\u001b[0m tokens/s                                                           \n"
      ]
     },
     "metadata": {},
     "output_type": "display_data"
    },
    {
     "data": {
      "text/html": [
       "<pre style=\"white-space:pre;overflow-x:auto;line-height:normal;font-family:Menlo,'DejaVu Sans Mono',consolas,'Courier New',monospace\"><span style=\"color: #008000; text-decoration-color: #008000\">DEBUG   </span> * Input tokens:                <span style=\"color: #008080; text-decoration-color: #008080; font-weight: bold\">5578</span>                                                                       \n",
       "</pre>\n"
      ],
      "text/plain": [
       "\u001b[32mDEBUG   \u001b[0m * Input tokens:                \u001b[1;36m5578\u001b[0m                                                                       \n"
      ]
     },
     "metadata": {},
     "output_type": "display_data"
    },
    {
     "data": {
      "text/html": [
       "<pre style=\"white-space:pre;overflow-x:auto;line-height:normal;font-family:Menlo,'DejaVu Sans Mono',consolas,'Courier New',monospace\"><span style=\"color: #008000; text-decoration-color: #008000\">DEBUG   </span> * Output tokens:               <span style=\"color: #008080; text-decoration-color: #008080; font-weight: bold\">478</span>                                                                        \n",
       "</pre>\n"
      ],
      "text/plain": [
       "\u001b[32mDEBUG   \u001b[0m * Output tokens:               \u001b[1;36m478\u001b[0m                                                                        \n"
      ]
     },
     "metadata": {},
     "output_type": "display_data"
    },
    {
     "data": {
      "text/html": [
       "<pre style=\"white-space:pre;overflow-x:auto;line-height:normal;font-family:Menlo,'DejaVu Sans Mono',consolas,'Courier New',monospace\"><span style=\"color: #008000; text-decoration-color: #008000\">DEBUG   </span> * Total tokens:                <span style=\"color: #008080; text-decoration-color: #008080; font-weight: bold\">6056</span>                                                                       \n",
       "</pre>\n"
      ],
      "text/plain": [
       "\u001b[32mDEBUG   \u001b[0m * Total tokens:                \u001b[1;36m6056\u001b[0m                                                                       \n"
      ]
     },
     "metadata": {},
     "output_type": "display_data"
    },
    {
     "data": {
      "text/html": [
       "<pre style=\"white-space:pre;overflow-x:auto;line-height:normal;font-family:Menlo,'DejaVu Sans Mono',consolas,'Courier New',monospace\"><span style=\"color: #008000; text-decoration-color: #008000\">DEBUG   </span> * Prompt tokens details:       <span style=\"font-weight: bold\">{</span><span style=\"color: #008000; text-decoration-color: #008000\">'audio_tokens'</span>: <span style=\"color: #008080; text-decoration-color: #008080; font-weight: bold\">0</span>, <span style=\"color: #008000; text-decoration-color: #008000\">'cached_tokens'</span>: <span style=\"color: #008080; text-decoration-color: #008080; font-weight: bold\">0</span><span style=\"font-weight: bold\">}</span>                                    \n",
       "</pre>\n"
      ],
      "text/plain": [
       "\u001b[32mDEBUG   \u001b[0m * Prompt tokens details:       \u001b[1m{\u001b[0m\u001b[32m'audio_tokens'\u001b[0m: \u001b[1;36m0\u001b[0m, \u001b[32m'cached_tokens'\u001b[0m: \u001b[1;36m0\u001b[0m\u001b[1m}\u001b[0m                                    \n"
      ]
     },
     "metadata": {},
     "output_type": "display_data"
    },
    {
     "data": {
      "text/html": [
       "<pre style=\"white-space:pre;overflow-x:auto;line-height:normal;font-family:Menlo,'DejaVu Sans Mono',consolas,'Courier New',monospace\"><span style=\"color: #008000; text-decoration-color: #008000\">DEBUG   </span> * Completion tokens details:   <span style=\"font-weight: bold\">{</span><span style=\"color: #008000; text-decoration-color: #008000\">'accepted_prediction_tokens'</span>: <span style=\"color: #008080; text-decoration-color: #008080; font-weight: bold\">0</span>, <span style=\"color: #008000; text-decoration-color: #008000\">'audio_tokens'</span>: <span style=\"color: #008080; text-decoration-color: #008080; font-weight: bold\">0</span>, <span style=\"color: #008000; text-decoration-color: #008000\">'reasoning_tokens'</span>: <span style=\"color: #008080; text-decoration-color: #008080; font-weight: bold\">0</span>,\n",
       "         <span style=\"color: #008000; text-decoration-color: #008000\">'rejected_prediction_tokens'</span>: <span style=\"color: #008080; text-decoration-color: #008080; font-weight: bold\">0</span><span style=\"font-weight: bold\">}</span>                                                                          \n",
       "</pre>\n"
      ],
      "text/plain": [
       "\u001b[32mDEBUG   \u001b[0m * Completion tokens details:   \u001b[1m{\u001b[0m\u001b[32m'accepted_prediction_tokens'\u001b[0m: \u001b[1;36m0\u001b[0m, \u001b[32m'audio_tokens'\u001b[0m: \u001b[1;36m0\u001b[0m, \u001b[32m'reasoning_tokens'\u001b[0m: \u001b[1;36m0\u001b[0m,\n",
       "         \u001b[32m'rejected_prediction_tokens'\u001b[0m: \u001b[1;36m0\u001b[0m\u001b[1m}\u001b[0m                                                                          \n"
      ]
     },
     "metadata": {},
     "output_type": "display_data"
    },
    {
     "data": {
      "text/html": [
       "<pre style=\"white-space:pre;overflow-x:auto;line-height:normal;font-family:Menlo,'DejaVu Sans Mono',consolas,'Courier New',monospace\"><span style=\"color: #008000; text-decoration-color: #008000\">DEBUG   </span> **************** METRICS END ******************                                                           \n",
       "</pre>\n"
      ],
      "text/plain": [
       "\u001b[32mDEBUG   \u001b[0m **************** METRICS END ******************                                                           \n"
      ]
     },
     "metadata": {},
     "output_type": "display_data"
    },
    {
     "data": {
      "text/html": [
       "<pre style=\"white-space:pre;overflow-x:auto;line-height:normal;font-family:Menlo,'DejaVu Sans Mono',consolas,'Courier New',monospace\"><span style=\"color: #008000; text-decoration-color: #008000\">DEBUG   </span> ---------- OpenAI Response End ----------                                                                 \n",
       "</pre>\n"
      ],
      "text/plain": [
       "\u001b[32mDEBUG   \u001b[0m ---------- OpenAI Response End ----------                                                                 \n"
      ]
     },
     "metadata": {},
     "output_type": "display_data"
    },
    {
     "data": {
      "text/html": [
       "<pre style=\"white-space:pre;overflow-x:auto;line-height:normal;font-family:Menlo,'DejaVu Sans Mono',consolas,'Courier New',monospace\"><span style=\"color: #008000; text-decoration-color: #008000\">DEBUG   </span> Added <span style=\"color: #008080; text-decoration-color: #008080; font-weight: bold\">9</span> Messages to AgentMemory                                                                           \n",
       "</pre>\n"
      ],
      "text/plain": [
       "\u001b[32mDEBUG   \u001b[0m Added \u001b[1;36m9\u001b[0m Messages to AgentMemory                                                                           \n"
      ]
     },
     "metadata": {},
     "output_type": "display_data"
    },
    {
     "data": {
      "text/html": [
       "<pre style=\"white-space:pre;overflow-x:auto;line-height:normal;font-family:Menlo,'DejaVu Sans Mono',consolas,'Courier New',monospace\"><span style=\"color: #008000; text-decoration-color: #008000\">DEBUG   </span> Added AgentRun to AgentMemory                                                                             \n",
       "</pre>\n"
      ],
      "text/plain": [
       "\u001b[32mDEBUG   \u001b[0m Added AgentRun to AgentMemory                                                                             \n"
      ]
     },
     "metadata": {},
     "output_type": "display_data"
    },
    {
     "data": {
      "text/html": [
       "<pre style=\"white-space:pre;overflow-x:auto;line-height:normal;font-family:Menlo,'DejaVu Sans Mono',consolas,'Courier New',monospace\"><span style=\"color: #008000; text-decoration-color: #008000\">DEBUG   </span> --**-- Logging Agent Run                                                                                  \n",
       "</pre>\n"
      ],
      "text/plain": [
       "\u001b[32mDEBUG   \u001b[0m --**-- Logging Agent Run                                                                                  \n"
      ]
     },
     "metadata": {},
     "output_type": "display_data"
    },
    {
     "data": {
      "text/html": [
       "<pre style=\"white-space:pre;overflow-x:auto;line-height:normal;font-family:Menlo,'DejaVu Sans Mono',consolas,'Courier New',monospace\"><span style=\"color: #008000; text-decoration-color: #008000\">DEBUG   </span> *********** Agent Run End: <span style=\"color: #ffff00; text-decoration-color: #ffff00\">65caf93c-83c5-442d-b779-97fcf74f4d99</span> ***********                               \n",
       "</pre>\n"
      ],
      "text/plain": [
       "\u001b[32mDEBUG   \u001b[0m *********** Agent Run End: \u001b[93m65caf93c-83c5-442d-b779-97fcf74f4d99\u001b[0m ***********                               \n"
      ]
     },
     "metadata": {},
     "output_type": "display_data"
    },
    {
     "data": {
      "text/html": [
       "<pre style=\"white-space:pre;overflow-x:auto;line-height:normal;font-family:Menlo,'DejaVu Sans Mono',consolas,'Courier New',monospace\"></pre>\n"
      ],
      "text/plain": []
     },
     "metadata": {},
     "output_type": "display_data"
    }
   ],
   "source": [
    "agent.print_response(\"Summarize and compare analyst recommendations, financial ratios and fundamentals for TSLA and GOOGL.\")"
   ]
  },
  {
   "cell_type": "markdown",
   "metadata": {},
   "source": [
    "### Custom Function"
   ]
  },
  {
   "cell_type": "code",
   "execution_count": 5,
   "metadata": {},
   "outputs": [],
   "source": [
    "def get_stock_ticker(company: str) -> str:\n",
    "    \"\"\"Use this function to get the symbol for a company\n",
    "    \n",
    "    Args:\n",
    "        company (str): The name of the company\n",
    "\n",
    "    Returns:\n",
    "        str: The symbol for the company   \n",
    "    \"\"\"\n",
    "    symbols = {\n",
    "        \"Phidata\": \"MSFT\",\n",
    "        \"Infosys\": \"INFY\",\n",
    "        \"Amazon\": \"AMZN\"\n",
    "    }\n",
    "    return symbols.get(company, \"Unknown\")"
   ]
  },
  {
   "cell_type": "code",
   "execution_count": 26,
   "metadata": {},
   "outputs": [],
   "source": [
    "agent = Agent(\n",
    "    model = OpenAIChat(id=\"gpt-4o\"),\n",
    "    tools=[\n",
    "        YFinanceTools(stock_price=True, analyst_recommendations=True,stock_fundamentals=True,key_financial_ratios=True),\n",
    "        get_stock_ticker,\n",
    "    ],\n",
    "\n",
    "    markdown=True,\n",
    "    instructions=[\n",
    "        \"Use tables to display data for all\",\n",
    "        \"If you do not know the company symbol or its not a public company, please use get_stock_ticker tool\",\n",
    "        \"For financial ratios include PE Ratio, EPS, Debt to equity, Return on equity and others. Show data for last 2 to 3 years for each quarter in a table format\",\n",
    "    ],\n",
    "    show_tool_calls=False,\n",
    "    debug_mode=False\n",
    "\n",
    ")"
   ]
  },
  {
   "cell_type": "code",
   "execution_count": 27,
   "metadata": {},
   "outputs": [
    {
     "data": {
      "application/vnd.jupyter.widget-view+json": {
       "model_id": "97f4de9d24db4b4a9892f460b98d4182",
       "version_major": 2,
       "version_minor": 0
      },
      "text/plain": [
       "Output()"
      ]
     },
     "metadata": {},
     "output_type": "display_data"
    },
    {
     "data": {
      "text/html": [
       "<pre style=\"white-space:pre;overflow-x:auto;line-height:normal;font-family:Menlo,'DejaVu Sans Mono',consolas,'Courier New',monospace\"></pre>\n"
      ],
      "text/plain": []
     },
     "metadata": {},
     "output_type": "display_data"
    }
   ],
   "source": [
    "response = agent.run(\"Summarize and compare analyst recommendations, financial ratios and fundamentals for TSLA, META, AMZN and Phidata.\",stream=True)\n",
    "\n",
    "pprint_run_response(response, markdown=True, show_time=True)"
   ]
  },
  {
   "cell_type": "code",
   "execution_count": null,
   "metadata": {},
   "outputs": [],
   "source": []
  }
 ],
 "metadata": {
  "kernelspec": {
   "display_name": "Python 3",
   "language": "python",
   "name": "python3"
  },
  "language_info": {
   "codemirror_mode": {
    "name": "ipython",
    "version": 3
   },
   "file_extension": ".py",
   "mimetype": "text/x-python",
   "name": "python",
   "nbconvert_exporter": "python",
   "pygments_lexer": "ipython3",
   "version": "3.13.0"
  }
 },
 "nbformat": 4,
 "nbformat_minor": 2
}
