{
 "cells": [
  {
   "cell_type": "code",
   "execution_count": 1,
   "metadata": {},
   "outputs": [],
   "source": [
    "from phi.agent import Agent;\n",
    "from phi.model.openai import OpenAIChat\n",
    "from phi.utils.pprint import pprint_run_response"
   ]
  },
  {
   "cell_type": "code",
   "execution_count": 2,
   "metadata": {},
   "outputs": [],
   "source": [
    "from phi.tools.yfinance import YFinanceTools\n",
    "from phi.tools.duckduckgo import DuckDuckGo"
   ]
  },
  {
   "cell_type": "code",
   "execution_count": 3,
   "metadata": {},
   "outputs": [
    {
     "data": {
      "text/plain": [
       "True"
      ]
     },
     "execution_count": 3,
     "metadata": {},
     "output_type": "execute_result"
    }
   ],
   "source": [
    "from dotenv import load_dotenv\n",
    "load_dotenv()"
   ]
  },
  {
   "cell_type": "code",
   "execution_count": 4,
   "metadata": {},
   "outputs": [],
   "source": [
    "fin_agent = Agent(\n",
    "    model = OpenAIChat(id=\"gpt-4o\"),\n",
    "    tools=[\n",
    "        YFinanceTools(stock_price=True, analyst_recommendations=True,stock_fundamentals=True,key_financial_ratios=True, company_info=True),\n",
    "    ],\n",
    "\n",
    "    markdown=True,\n",
    "    instructions=[\n",
    "        \"Use tables to display data for all\",\n",
    "    ],\n",
    "    show_tool_calls=False,\n",
    "    debug_mode=False\n",
    ")\n",
    "\n",
    "\n",
    "search_agent = Agent(\n",
    "    model = OpenAIChat(id=\"gpt-4o\"),\n",
    "    tools=[\n",
    "        DuckDuckGo(),\n",
    "    ],\n",
    "    markdown=True,\n",
    "    instructions=[\n",
    "        \"Mkae sure to include the sources\",\n",
    "    ],\n",
    "    show_tool_calls=False,\n",
    "    debug_mode=False\n",
    ")"
   ]
  },
  {
   "cell_type": "code",
   "execution_count": 5,
   "metadata": {},
   "outputs": [],
   "source": [
    "agents_coordinator = Agent(\n",
    "    team=[fin_agent,search_agent],\n",
    "    instructions=[\n",
    "        \"Always include sources\",\n",
    "        \"Use table to display data\"\n",
    "    ],\n",
    "    show_tool_calls=True,\n",
    "    markdown=True,\n",
    "    debug_mode=False\n",
    ")"
   ]
  },
  {
   "cell_type": "code",
   "execution_count": 6,
   "metadata": {},
   "outputs": [
    {
     "data": {
      "application/vnd.jupyter.widget-view+json": {
       "model_id": "f71b032638a14eebaa8e41e9a02a5050",
       "version_major": 2,
       "version_minor": 0
      },
      "text/plain": [
       "Output()"
      ]
     },
     "metadata": {},
     "output_type": "display_data"
    },
    {
     "data": {
      "text/html": [
       "<pre style=\"white-space:pre;overflow-x:auto;line-height:normal;font-family:Menlo,'DejaVu Sans Mono',consolas,'Courier New',monospace\"></pre>\n"
      ],
      "text/plain": []
     },
     "metadata": {},
     "output_type": "display_data"
    }
   ],
   "source": [
    "response = agents_coordinator.run(\"Summarize and compare analyst recommendations, financial ratios and fundamentals and latest news for NVDA and GOOGL.\",stream=True)\n",
    "\n",
    "pprint_run_response(response, markdown=True, show_time=True)"
   ]
  }
 ],
 "metadata": {
  "kernelspec": {
   "display_name": "Python 3",
   "language": "python",
   "name": "python3"
  },
  "language_info": {
   "codemirror_mode": {
    "name": "ipython",
    "version": 3
   },
   "file_extension": ".py",
   "mimetype": "text/x-python",
   "name": "python",
   "nbconvert_exporter": "python",
   "pygments_lexer": "ipython3",
   "version": "3.13.0"
  }
 },
 "nbformat": 4,
 "nbformat_minor": 2
}
