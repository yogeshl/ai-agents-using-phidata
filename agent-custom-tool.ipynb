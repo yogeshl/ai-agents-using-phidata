{
 "cells": [
  {
   "cell_type": "code",
   "execution_count": 3,
   "metadata": {},
   "outputs": [],
   "source": [
    "from phi.agent import Agent;\n",
    "from phi.model.openai import OpenAIChat\n",
    "from phi.utils.pprint import pprint_run_response"
   ]
  },
  {
   "cell_type": "code",
   "execution_count": 4,
   "metadata": {},
   "outputs": [],
   "source": [
    "from phi.tools.yfinance import YFinanceTools"
   ]
  },
  {
   "cell_type": "code",
   "execution_count": 5,
   "metadata": {},
   "outputs": [
    {
     "data": {
      "text/plain": [
       "True"
      ]
     },
     "execution_count": 5,
     "metadata": {},
     "output_type": "execute_result"
    }
   ],
   "source": [
    "from dotenv import load_dotenv\n",
    "load_dotenv()"
   ]
  },
  {
   "cell_type": "markdown",
   "metadata": {},
   "source": [
    "### Custom Function  i.e tool"
   ]
  },
  {
   "cell_type": "code",
   "execution_count": 6,
   "metadata": {},
   "outputs": [],
   "source": [
    "def get_stock_ticker(company: str) -> str:\n",
    "    \"\"\"Use this function to get the symbol for a company\n",
    "    \n",
    "    Args:\n",
    "        company (str): The name of the company\n",
    "\n",
    "    Returns:\n",
    "        str: The symbol for the company   \n",
    "    \"\"\"\n",
    "    symbols = {\n",
    "        \"Phidata\": \"MSFT\",\n",
    "        \"Infosys\": \"INFY\",\n",
    "        \"Amazon\": \"AMZN\"\n",
    "    }\n",
    "    return symbols.get(company, \"Unknown\")"
   ]
  },
  {
   "cell_type": "code",
   "execution_count": 7,
   "metadata": {},
   "outputs": [],
   "source": [
    "agent = Agent(\n",
    "    model = OpenAIChat(id=\"gpt-4o\"),\n",
    "    tools=[\n",
    "        YFinanceTools(stock_price=True, analyst_recommendations=True,stock_fundamentals=True,key_financial_ratios=True),\n",
    "        get_stock_ticker,\n",
    "    ],\n",
    "\n",
    "    markdown=True,\n",
    "    instructions=[\n",
    "        \"Use tables to display data for all\",\n",
    "        \"If you do not know the company symbol or its not a public company, please use get_stock_ticker tool\",\n",
    "        \"For financial ratios include PE Ratio, EPS, Debt to equity, Return on equity and others. Show data for last 2 to 3 years for each quarter in a table format\",\n",
    "    ],\n",
    "    show_tool_calls=False,\n",
    "    debug_mode=False\n",
    "\n",
    ")"
   ]
  },
  {
   "cell_type": "code",
   "execution_count": 8,
   "metadata": {},
   "outputs": [
    {
     "data": {
      "application/vnd.jupyter.widget-view+json": {
       "model_id": "2fd1a69a61e44662ab3930437b51662a",
       "version_major": 2,
       "version_minor": 0
      },
      "text/plain": [
       "Output()"
      ]
     },
     "metadata": {},
     "output_type": "display_data"
    },
    {
     "data": {
      "text/html": [
       "<pre style=\"white-space:pre;overflow-x:auto;line-height:normal;font-family:Menlo,'DejaVu Sans Mono',consolas,'Courier New',monospace\"></pre>\n"
      ],
      "text/plain": []
     },
     "metadata": {},
     "output_type": "display_data"
    }
   ],
   "source": [
    "response = agent.run(\"Summarize and compare analyst recommendations, financial ratios and fundamentals for TSLA, META, AMZN and Phidata.\",stream=True)\n",
    "\n",
    "pprint_run_response(response, markdown=True, show_time=True)"
   ]
  },
  {
   "cell_type": "code",
   "execution_count": null,
   "metadata": {},
   "outputs": [],
   "source": []
  }
 ],
 "metadata": {
  "kernelspec": {
   "display_name": "Python 3",
   "language": "python",
   "name": "python3"
  },
  "language_info": {
   "codemirror_mode": {
    "name": "ipython",
    "version": 3
   },
   "file_extension": ".py",
   "mimetype": "text/x-python",
   "name": "python",
   "nbconvert_exporter": "python",
   "pygments_lexer": "ipython3",
   "version": "3.13.0"
  }
 },
 "nbformat": 4,
 "nbformat_minor": 2
}
